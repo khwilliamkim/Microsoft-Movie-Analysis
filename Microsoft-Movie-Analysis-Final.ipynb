{
 "cells": [
  {
   "cell_type": "markdown",
   "metadata": {},
   "source": [
    "![example](images/director_shot.jpeg)"
   ]
  },
  {
   "cell_type": "markdown",
   "metadata": {},
   "source": [
    "# Microsoft Studios Movie Analysis\n",
    "\n",
    "**Authors:** Kyunghwan William Kim\n"
   ]
  },
  {
   "cell_type": "markdown",
   "metadata": {},
   "source": [
    "## Overview\n",
    "\n",
    "Microsoft is planning to create a new movie studio and has requested actionable insights of what types of films are currently doing the best at the box office. This project analyzes the factors of a successful movie. The datasets consists of multiples websites such as \"Box Office Mojo\", \"IMDB\", and etc. In order to determine the most successful movie, various factors were analyzed including \"production budget\", \"gross revenue\", \"genres\" and 'studios\". The methods that were required to perform the exploratory data analysis (EDA) in the movie industry included: storing and cleaning the data, and visualization of data using seaborn and matplotib. The description of the methodology and the recommendations in order to be successful as a movie studio are written below. "
   ]
  },
  {
   "cell_type": "markdown",
   "metadata": {},
   "source": [
    "## Business Problem\n",
    "\n",
    "Microsoft has announced that they will create a new movie studio however, they have no prior knowledge of the movie industry, and they need help so that their movie studio can be successful. \n",
    "\n",
    "The goal is to provide Microsoft with a data-driven analysis of the movie industry and determine the factors of a successful movie. \n",
    "The following factors of a successful movie were investigated:\n",
    "\n",
    "***\n",
    "\t1. What are the most profitable movies and how are the budgets related?\n",
    "\t2. Which movie studios are some of the biggest competitors?\n",
    "\t3. Which movie genres are the most popular in the movie industry\n",
    "\t4. Which directors tend to add the most value?\n",
    "\n",
    " ***"
   ]
  },
  {
   "cell_type": "markdown",
   "metadata": {},
   "source": [
    "## Data Understanding\n",
    "\n",
    "The data was imported from a wide range of movie related data in .csv files from Box Office Mojo, IMDB, and The Numbers\n",
    "\n",
    "In order to target the relevant data, each data-frame had to be analyzed and cleaned to locate the necessary fields including movie ratings, gross and net revenue, directors, and studios. \n",
    "\n",
    "***\n",
    "The .csv files imported are the following:\n",
    "1. imdb_title_crew :each record represents a director and a writer\n",
    "2. imdb_title_ratings: each record represents the rating and number of votes \n",
    "3. imdb_name_basics: each record represents a directors full primary name\n",
    "4. imdb_title_principals: needed to join data frames together\n",
    "5. imdb_title_basics: each record represents a movie title and related genres\n",
    "6. tn_movie_budgets: each record represents a movie's worldwide gross and production budget\n",
    "***"
   ]
  },
  {
   "cell_type": "markdown",
   "metadata": {
    "ExecuteTime": {
     "end_time": "2022-01-27T20:31:43.108537Z",
     "start_time": "2022-01-27T20:31:43.084649Z"
    }
   },
   "source": [
    "## Data Preparation\n",
    "\n",
    "After reviewing the data scheme and the related fields within the given data frames. The following fields were selected for analysis, including but not limited to movie title, gross and net revenue, genres, studios, and directors. \n",
    "\n",
    "All data types for the file labeled 'tn_movie_budgets\" were objects and the fields were changed to their relevant types, such as worldwide gross and production budget were changed to integers so that a statistical analysis could be conducted. Additionally a new variable was created to calculated the net profit which is worldwide gross subtracted by the production budget. One additional filter used were removing movies that had a zero domestic gross and net profit. The analysis was to find most profitable movies so movies that made $0 in revenue were eliminated. \n",
    "\n",
    "Records with missing studios, genres, and directors were removed from the analysis. Additionally the top two profitable movies Avatar and Titanic were removed due to their extremely high worldwide gross revenue. "
   ]
  },
  {
   "cell_type": "markdown",
   "metadata": {},
   "source": [
    "##### Loading the Data with Pandas\n",
    "\n",
    "Importing data and libraries to prepare for analysis"
   ]
  },
  {
   "cell_type": "code",
   "execution_count": 1,
   "metadata": {
    "ExecuteTime": {
     "end_time": "2022-02-11T15:47:22.610264Z",
     "start_time": "2022-02-11T15:47:15.220053Z"
    }
   },
   "outputs": [],
   "source": [
    "# Import standard packages\n",
    "import os\n",
    "import pandas as pd\n",
    "import numpy as np\n",
    "import matplotlib.pyplot as plt\n",
    "import seaborn as sns\n",
    "from glob import glob\n",
    "\n",
    "%matplotlib inline"
   ]
  },
  {
   "cell_type": "code",
   "execution_count": 2,
   "metadata": {
    "ExecuteTime": {
     "end_time": "2022-02-11T15:47:28.193598Z",
     "start_time": "2022-02-11T15:47:22.675294Z"
    },
    "scrolled": true
   },
   "outputs": [],
   "source": [
    "# Here you run your code to explore the data\n",
    "#importing data using glob\n",
    "import os\n",
    "from glob import glob\n",
    "import pandas as pd\n",
    "\n",
    "csv_files = glob(\"data/zippedData/*.csv.gz\")\n",
    "csv_files\n",
    "\n",
    "csv_files_dict = {}\n",
    "for filename in csv_files:\n",
    "    filename_cleaned = os.path.basename(filename).replace(\".csv\", \"\").replace(\".\", \"_\")  #cleaning the filenames\n",
    "    filename_df = pd.read_csv(filename, index_col=0)\n",
    "\n",
    "    csv_files_dict[filename_cleaned] = filename_df"
   ]
  },
  {
   "cell_type": "code",
   "execution_count": 3,
   "metadata": {
    "ExecuteTime": {
     "end_time": "2022-02-11T15:47:28.509586Z",
     "start_time": "2022-02-11T15:47:28.496617Z"
    }
   },
   "outputs": [
    {
     "data": {
      "text/plain": [
       "['data/zippedData\\\\bom.movie_gross.csv.gz',\n",
       " 'data/zippedData\\\\imdb.name.basics.csv.gz',\n",
       " 'data/zippedData\\\\imdb.title.akas.csv.gz',\n",
       " 'data/zippedData\\\\imdb.title.basics.csv.gz',\n",
       " 'data/zippedData\\\\imdb.title.crew.csv.gz',\n",
       " 'data/zippedData\\\\imdb.title.principals.csv.gz',\n",
       " 'data/zippedData\\\\imdb.title.ratings.csv.gz',\n",
       " 'data/zippedData\\\\tmdb.movies.csv.gz',\n",
       " 'data/zippedData\\\\tn.movie_budgets.csv.gz']"
      ]
     },
     "execution_count": 3,
     "metadata": {},
     "output_type": "execute_result"
    }
   ],
   "source": [
    "csv_files"
   ]
  },
  {
   "cell_type": "code",
   "execution_count": 4,
   "metadata": {
    "ExecuteTime": {
     "end_time": "2022-02-11T15:47:28.795942Z",
     "start_time": "2022-02-11T15:47:28.782983Z"
    }
   },
   "outputs": [
    {
     "data": {
      "text/plain": [
       "dict_keys(['bom_movie_gross_gz', 'imdb_name_basics_gz', 'imdb_title_akas_gz', 'imdb_title_basics_gz', 'imdb_title_crew_gz', 'imdb_title_principals_gz', 'imdb_title_ratings_gz', 'tmdb_movies_gz', 'tn_movie_budgets_gz'])"
      ]
     },
     "execution_count": 4,
     "metadata": {},
     "output_type": "execute_result"
    }
   ],
   "source": [
    "csv_files_dict.keys()"
   ]
  },
  {
   "cell_type": "markdown",
   "metadata": {
    "ExecuteTime": {
     "end_time": "2022-01-26T21:24:32.155359Z",
     "start_time": "2022-01-26T21:24:32.138406Z"
    }
   },
   "source": [
    "### Question 1:\n",
    "##### What are the most profitable movies and how much were the production budgets?\n",
    "\n",
    "##### Gross & Net Revenue\n",
    "\n",
    "The website \"The Numbers\" has movie revenue data. However the data had to be cleaned and transformed in order to perform a statistical analysis."
   ]
  },
  {
   "cell_type": "code",
   "execution_count": 5,
   "metadata": {
    "ExecuteTime": {
     "end_time": "2022-02-11T15:47:29.098134Z",
     "start_time": "2022-02-11T15:47:29.085169Z"
    }
   },
   "outputs": [],
   "source": [
    "#import 'tn_movie_budgets' \n",
    "tn_movie_budgets_df = csv_files_dict['tn_movie_budgets_gz']"
   ]
  },
  {
   "cell_type": "code",
   "execution_count": 6,
   "metadata": {
    "ExecuteTime": {
     "end_time": "2022-02-11T15:47:29.428303Z",
     "start_time": "2022-02-11T15:47:29.415339Z"
    }
   },
   "outputs": [
    {
     "data": {
      "text/plain": [
       "(5782, 5)"
      ]
     },
     "execution_count": 6,
     "metadata": {},
     "output_type": "execute_result"
    }
   ],
   "source": [
    "tn_movie_budgets_df.shape"
   ]
  },
  {
   "cell_type": "code",
   "execution_count": 7,
   "metadata": {
    "ExecuteTime": {
     "end_time": "2022-02-11T15:47:29.777368Z",
     "start_time": "2022-02-11T15:47:29.747449Z"
    }
   },
   "outputs": [
    {
     "name": "stdout",
     "output_type": "stream",
     "text": [
      "<class 'pandas.core.frame.DataFrame'>\n",
      "Int64Index: 5782 entries, 1 to 82\n",
      "Data columns (total 5 columns):\n",
      " #   Column             Non-Null Count  Dtype \n",
      "---  ------             --------------  ----- \n",
      " 0   release_date       5782 non-null   object\n",
      " 1   movie              5782 non-null   object\n",
      " 2   production_budget  5782 non-null   object\n",
      " 3   domestic_gross     5782 non-null   object\n",
      " 4   worldwide_gross    5782 non-null   object\n",
      "dtypes: object(5)\n",
      "memory usage: 271.0+ KB\n"
     ]
    }
   ],
   "source": [
    "tn_movie_budgets_df.info()"
   ]
  },
  {
   "cell_type": "markdown",
   "metadata": {},
   "source": [
    "Noticed that no null values exists in the data set, however all data types are objects."
   ]
  },
  {
   "cell_type": "code",
   "execution_count": 8,
   "metadata": {
    "ExecuteTime": {
     "end_time": "2022-02-11T15:47:30.126437Z",
     "start_time": "2022-02-11T15:47:30.098543Z"
    }
   },
   "outputs": [
    {
     "data": {
      "text/html": [
       "<div>\n",
       "<style scoped>\n",
       "    .dataframe tbody tr th:only-of-type {\n",
       "        vertical-align: middle;\n",
       "    }\n",
       "\n",
       "    .dataframe tbody tr th {\n",
       "        vertical-align: top;\n",
       "    }\n",
       "\n",
       "    .dataframe thead th {\n",
       "        text-align: right;\n",
       "    }\n",
       "</style>\n",
       "<table border=\"1\" class=\"dataframe\">\n",
       "  <thead>\n",
       "    <tr style=\"text-align: right;\">\n",
       "      <th></th>\n",
       "      <th>release_date</th>\n",
       "      <th>movie</th>\n",
       "      <th>production_budget</th>\n",
       "      <th>domestic_gross</th>\n",
       "      <th>worldwide_gross</th>\n",
       "    </tr>\n",
       "    <tr>\n",
       "      <th>id</th>\n",
       "      <th></th>\n",
       "      <th></th>\n",
       "      <th></th>\n",
       "      <th></th>\n",
       "      <th></th>\n",
       "    </tr>\n",
       "  </thead>\n",
       "  <tbody>\n",
       "    <tr>\n",
       "      <th>1</th>\n",
       "      <td>Dec 18, 2009</td>\n",
       "      <td>Avatar</td>\n",
       "      <td>$425,000,000</td>\n",
       "      <td>$760,507,625</td>\n",
       "      <td>$2,776,345,279</td>\n",
       "    </tr>\n",
       "    <tr>\n",
       "      <th>2</th>\n",
       "      <td>May 20, 2011</td>\n",
       "      <td>Pirates of the Caribbean: On Stranger Tides</td>\n",
       "      <td>$410,600,000</td>\n",
       "      <td>$241,063,875</td>\n",
       "      <td>$1,045,663,875</td>\n",
       "    </tr>\n",
       "    <tr>\n",
       "      <th>3</th>\n",
       "      <td>Jun 7, 2019</td>\n",
       "      <td>Dark Phoenix</td>\n",
       "      <td>$350,000,000</td>\n",
       "      <td>$42,762,350</td>\n",
       "      <td>$149,762,350</td>\n",
       "    </tr>\n",
       "    <tr>\n",
       "      <th>4</th>\n",
       "      <td>May 1, 2015</td>\n",
       "      <td>Avengers: Age of Ultron</td>\n",
       "      <td>$330,600,000</td>\n",
       "      <td>$459,005,868</td>\n",
       "      <td>$1,403,013,963</td>\n",
       "    </tr>\n",
       "    <tr>\n",
       "      <th>5</th>\n",
       "      <td>Dec 15, 2017</td>\n",
       "      <td>Star Wars Ep. VIII: The Last Jedi</td>\n",
       "      <td>$317,000,000</td>\n",
       "      <td>$620,181,382</td>\n",
       "      <td>$1,316,721,747</td>\n",
       "    </tr>\n",
       "  </tbody>\n",
       "</table>\n",
       "</div>"
      ],
      "text/plain": [
       "    release_date                                        movie  \\\n",
       "id                                                              \n",
       "1   Dec 18, 2009                                       Avatar   \n",
       "2   May 20, 2011  Pirates of the Caribbean: On Stranger Tides   \n",
       "3    Jun 7, 2019                                 Dark Phoenix   \n",
       "4    May 1, 2015                      Avengers: Age of Ultron   \n",
       "5   Dec 15, 2017            Star Wars Ep. VIII: The Last Jedi   \n",
       "\n",
       "   production_budget domestic_gross worldwide_gross  \n",
       "id                                                   \n",
       "1       $425,000,000   $760,507,625  $2,776,345,279  \n",
       "2       $410,600,000   $241,063,875  $1,045,663,875  \n",
       "3       $350,000,000    $42,762,350    $149,762,350  \n",
       "4       $330,600,000   $459,005,868  $1,403,013,963  \n",
       "5       $317,000,000   $620,181,382  $1,316,721,747  "
      ]
     },
     "execution_count": 8,
     "metadata": {},
     "output_type": "execute_result"
    }
   ],
   "source": [
    "tn_movie_budgets_df.head()"
   ]
  },
  {
   "cell_type": "markdown",
   "metadata": {},
   "source": [
    "##### Important observations: \n",
    "***\n",
    "* Release dates are all object type -> change to datetime\n",
    "* Budget costs are all object type -> change to integers"
   ]
  },
  {
   "cell_type": "code",
   "execution_count": 9,
   "metadata": {
    "ExecuteTime": {
     "end_time": "2022-02-11T15:47:31.938222Z",
     "start_time": "2022-02-11T15:47:31.092151Z"
    }
   },
   "outputs": [],
   "source": [
    "#change release_date to datetime\n",
    "tn_movie_budgets_df['release_date'] = pd.to_datetime(tn_movie_budgets_df['release_date'])"
   ]
  },
  {
   "cell_type": "code",
   "execution_count": 10,
   "metadata": {
    "ExecuteTime": {
     "end_time": "2022-02-11T15:47:32.301358Z",
     "start_time": "2022-02-11T15:47:32.273429Z"
    }
   },
   "outputs": [
    {
     "data": {
      "text/html": [
       "<div>\n",
       "<style scoped>\n",
       "    .dataframe tbody tr th:only-of-type {\n",
       "        vertical-align: middle;\n",
       "    }\n",
       "\n",
       "    .dataframe tbody tr th {\n",
       "        vertical-align: top;\n",
       "    }\n",
       "\n",
       "    .dataframe thead th {\n",
       "        text-align: right;\n",
       "    }\n",
       "</style>\n",
       "<table border=\"1\" class=\"dataframe\">\n",
       "  <thead>\n",
       "    <tr style=\"text-align: right;\">\n",
       "      <th></th>\n",
       "      <th>release_date</th>\n",
       "      <th>movie</th>\n",
       "      <th>production_budget</th>\n",
       "      <th>domestic_gross</th>\n",
       "      <th>worldwide_gross</th>\n",
       "    </tr>\n",
       "    <tr>\n",
       "      <th>id</th>\n",
       "      <th></th>\n",
       "      <th></th>\n",
       "      <th></th>\n",
       "      <th></th>\n",
       "      <th></th>\n",
       "    </tr>\n",
       "  </thead>\n",
       "  <tbody>\n",
       "    <tr>\n",
       "      <th>1</th>\n",
       "      <td>2009-12-18</td>\n",
       "      <td>Avatar</td>\n",
       "      <td>$425,000,000</td>\n",
       "      <td>$760,507,625</td>\n",
       "      <td>$2,776,345,279</td>\n",
       "    </tr>\n",
       "    <tr>\n",
       "      <th>2</th>\n",
       "      <td>2011-05-20</td>\n",
       "      <td>Pirates of the Caribbean: On Stranger Tides</td>\n",
       "      <td>$410,600,000</td>\n",
       "      <td>$241,063,875</td>\n",
       "      <td>$1,045,663,875</td>\n",
       "    </tr>\n",
       "    <tr>\n",
       "      <th>3</th>\n",
       "      <td>2019-06-07</td>\n",
       "      <td>Dark Phoenix</td>\n",
       "      <td>$350,000,000</td>\n",
       "      <td>$42,762,350</td>\n",
       "      <td>$149,762,350</td>\n",
       "    </tr>\n",
       "    <tr>\n",
       "      <th>4</th>\n",
       "      <td>2015-05-01</td>\n",
       "      <td>Avengers: Age of Ultron</td>\n",
       "      <td>$330,600,000</td>\n",
       "      <td>$459,005,868</td>\n",
       "      <td>$1,403,013,963</td>\n",
       "    </tr>\n",
       "    <tr>\n",
       "      <th>5</th>\n",
       "      <td>2017-12-15</td>\n",
       "      <td>Star Wars Ep. VIII: The Last Jedi</td>\n",
       "      <td>$317,000,000</td>\n",
       "      <td>$620,181,382</td>\n",
       "      <td>$1,316,721,747</td>\n",
       "    </tr>\n",
       "  </tbody>\n",
       "</table>\n",
       "</div>"
      ],
      "text/plain": [
       "   release_date                                        movie  \\\n",
       "id                                                             \n",
       "1    2009-12-18                                       Avatar   \n",
       "2    2011-05-20  Pirates of the Caribbean: On Stranger Tides   \n",
       "3    2019-06-07                                 Dark Phoenix   \n",
       "4    2015-05-01                      Avengers: Age of Ultron   \n",
       "5    2017-12-15            Star Wars Ep. VIII: The Last Jedi   \n",
       "\n",
       "   production_budget domestic_gross worldwide_gross  \n",
       "id                                                   \n",
       "1       $425,000,000   $760,507,625  $2,776,345,279  \n",
       "2       $410,600,000   $241,063,875  $1,045,663,875  \n",
       "3       $350,000,000    $42,762,350    $149,762,350  \n",
       "4       $330,600,000   $459,005,868  $1,403,013,963  \n",
       "5       $317,000,000   $620,181,382  $1,316,721,747  "
      ]
     },
     "execution_count": 10,
     "metadata": {},
     "output_type": "execute_result"
    }
   ],
   "source": [
    "tn_movie_budgets_df.head()"
   ]
  },
  {
   "cell_type": "code",
   "execution_count": 11,
   "metadata": {
    "ExecuteTime": {
     "end_time": "2022-02-11T15:47:32.651421Z",
     "start_time": "2022-02-11T15:47:32.638452Z"
    }
   },
   "outputs": [
    {
     "data": {
      "text/plain": [
       "id\n",
       "1     $2776345279\n",
       "2     $1045663875\n",
       "3      $149762350\n",
       "4     $1403013963\n",
       "5     $1316721747\n",
       "         ...     \n",
       "78             $0\n",
       "79        $240495\n",
       "80          $1338\n",
       "81             $0\n",
       "82        $181041\n",
       "Name: worldwide_gross, Length: 5782, dtype: object"
      ]
     },
     "execution_count": 11,
     "metadata": {},
     "output_type": "execute_result"
    }
   ],
   "source": [
    "# change worldwide_gross to integers\n",
    "tn_movie_budgets_df['worldwide_gross'] = tn_movie_budgets_df['worldwide_gross'].str.replace(',','')\n",
    "tn_movie_budgets_df['worldwide_gross']"
   ]
  },
  {
   "cell_type": "code",
   "execution_count": 12,
   "metadata": {
    "ExecuteTime": {
     "end_time": "2022-02-11T15:47:32.983531Z",
     "start_time": "2022-02-11T15:47:32.970563Z"
    }
   },
   "outputs": [
    {
     "data": {
      "text/plain": [
       "id\n",
       "1     2776345279\n",
       "2     1045663875\n",
       "3      149762350\n",
       "4     1403013963\n",
       "5     1316721747\n",
       "         ...    \n",
       "78             0\n",
       "79        240495\n",
       "80          1338\n",
       "81             0\n",
       "82        181041\n",
       "Name: worldwide_gross, Length: 5782, dtype: object"
      ]
     },
     "execution_count": 12,
     "metadata": {},
     "output_type": "execute_result"
    }
   ],
   "source": [
    "tn_movie_budgets_df['worldwide_gross'] = tn_movie_budgets_df['worldwide_gross'].str.strip('$')\n",
    "tn_movie_budgets_df['worldwide_gross']"
   ]
  },
  {
   "cell_type": "code",
   "execution_count": 13,
   "metadata": {
    "ExecuteTime": {
     "end_time": "2022-02-11T15:47:33.348553Z",
     "start_time": "2022-02-11T15:47:33.320628Z"
    }
   },
   "outputs": [
    {
     "data": {
      "text/plain": [
       "id\n",
       "1     2776345279\n",
       "2     1045663875\n",
       "3      149762350\n",
       "4     1403013963\n",
       "5     1316721747\n",
       "         ...    \n",
       "78             0\n",
       "79        240495\n",
       "80          1338\n",
       "81             0\n",
       "82        181041\n",
       "Name: worldwide_gross, Length: 5782, dtype: int64"
      ]
     },
     "execution_count": 13,
     "metadata": {},
     "output_type": "execute_result"
    }
   ],
   "source": [
    "tn_movie_budgets_df['worldwide_gross'] = pd.to_numeric(tn_movie_budgets_df['worldwide_gross'])\n",
    "tn_movie_budgets_df['worldwide_gross']"
   ]
  },
  {
   "cell_type": "code",
   "execution_count": 14,
   "metadata": {
    "ExecuteTime": {
     "end_time": "2022-02-11T15:47:33.697618Z",
     "start_time": "2022-02-11T15:47:33.667699Z"
    }
   },
   "outputs": [
    {
     "data": {
      "text/plain": [
       "id\n",
       "1     425000000\n",
       "2     410600000\n",
       "3     350000000\n",
       "4     330600000\n",
       "5     317000000\n",
       "        ...    \n",
       "78         7000\n",
       "79         6000\n",
       "80         5000\n",
       "81         1400\n",
       "82         1100\n",
       "Name: production_budget, Length: 5782, dtype: int64"
      ]
     },
     "execution_count": 14,
     "metadata": {},
     "output_type": "execute_result"
    }
   ],
   "source": [
    "tn_movie_budgets_df['production_budget'] = tn_movie_budgets_df['production_budget'].str.replace(',','')\n",
    "tn_movie_budgets_df['production_budget'] = tn_movie_budgets_df['production_budget'].str.strip('$')\n",
    "tn_movie_budgets_df['production_budget'] = pd.to_numeric(tn_movie_budgets_df['production_budget'])\n",
    "tn_movie_budgets_df['production_budget']"
   ]
  },
  {
   "cell_type": "code",
   "execution_count": 15,
   "metadata": {
    "ExecuteTime": {
     "end_time": "2022-02-11T15:47:34.076607Z",
     "start_time": "2022-02-11T15:47:34.047684Z"
    }
   },
   "outputs": [
    {
     "data": {
      "text/plain": [
       "id\n",
       "1     760507625\n",
       "2     241063875\n",
       "3      42762350\n",
       "4     459005868\n",
       "5     620181382\n",
       "        ...    \n",
       "78            0\n",
       "79        48482\n",
       "80         1338\n",
       "81            0\n",
       "82       181041\n",
       "Name: domestic_gross, Length: 5782, dtype: int64"
      ]
     },
     "execution_count": 15,
     "metadata": {},
     "output_type": "execute_result"
    }
   ],
   "source": [
    "tn_movie_budgets_df['domestic_gross'] = tn_movie_budgets_df['domestic_gross'].str.replace(',','')\n",
    "tn_movie_budgets_df['domestic_gross'] = tn_movie_budgets_df['domestic_gross'].str.strip('$')\n",
    "tn_movie_budgets_df['domestic_gross'] = pd.to_numeric(tn_movie_budgets_df['domestic_gross'])\n",
    "tn_movie_budgets_df['domestic_gross']"
   ]
  },
  {
   "cell_type": "markdown",
   "metadata": {},
   "source": [
    "##### Analysis is for profitable movies, so let's remove movies that has $0 gross revenue."
   ]
  },
  {
   "cell_type": "code",
   "execution_count": 16,
   "metadata": {
    "ExecuteTime": {
     "end_time": "2022-02-11T15:47:34.409715Z",
     "start_time": "2022-02-11T15:47:34.395754Z"
    }
   },
   "outputs": [],
   "source": [
    "#remove movies that had a $0 domestic gross.\n",
    "tn_movie_budgets_df = tn_movie_budgets_df[tn_movie_budgets_df['domestic_gross'] != 0]"
   ]
  },
  {
   "cell_type": "code",
   "execution_count": 17,
   "metadata": {
    "ExecuteTime": {
     "end_time": "2022-02-11T15:47:34.742855Z",
     "start_time": "2022-02-11T15:47:34.729858Z"
    }
   },
   "outputs": [
    {
     "data": {
      "text/plain": [
       "(5234, 5)"
      ]
     },
     "execution_count": 17,
     "metadata": {},
     "output_type": "execute_result"
    }
   ],
   "source": [
    "tn_movie_budgets_df.shape"
   ]
  },
  {
   "cell_type": "markdown",
   "metadata": {},
   "source": [
    "##### Create new column that calculates net profit. Net Profit equals Worldwide Gross subtracted by Production Budget."
   ]
  },
  {
   "cell_type": "code",
   "execution_count": 18,
   "metadata": {
    "ExecuteTime": {
     "end_time": "2022-02-11T15:47:35.123804Z",
     "start_time": "2022-02-11T15:47:35.109844Z"
    }
   },
   "outputs": [
    {
     "name": "stderr",
     "output_type": "stream",
     "text": [
      "C:\\Users\\ZAPTOS\\AppData\\Local\\Temp/ipykernel_13768/3204409985.py:2: SettingWithCopyWarning: \n",
      "A value is trying to be set on a copy of a slice from a DataFrame.\n",
      "Try using .loc[row_indexer,col_indexer] = value instead\n",
      "\n",
      "See the caveats in the documentation: https://pandas.pydata.org/pandas-docs/stable/user_guide/indexing.html#returning-a-view-versus-a-copy\n",
      "  tn_movie_budgets_df['worldwide_net'] = tn_movie_budgets_df['worldwide_gross'] - tn_movie_budgets_df['production_budget']\n"
     ]
    }
   ],
   "source": [
    "#calculate net profit\n",
    "tn_movie_budgets_df['worldwide_net'] = tn_movie_budgets_df['worldwide_gross'] - tn_movie_budgets_df['production_budget']"
   ]
  },
  {
   "cell_type": "code",
   "execution_count": 19,
   "metadata": {
    "ExecuteTime": {
     "end_time": "2022-02-11T15:47:35.470877Z",
     "start_time": "2022-02-11T15:47:35.456913Z"
    }
   },
   "outputs": [
    {
     "data": {
      "text/html": [
       "<div>\n",
       "<style scoped>\n",
       "    .dataframe tbody tr th:only-of-type {\n",
       "        vertical-align: middle;\n",
       "    }\n",
       "\n",
       "    .dataframe tbody tr th {\n",
       "        vertical-align: top;\n",
       "    }\n",
       "\n",
       "    .dataframe thead th {\n",
       "        text-align: right;\n",
       "    }\n",
       "</style>\n",
       "<table border=\"1\" class=\"dataframe\">\n",
       "  <thead>\n",
       "    <tr style=\"text-align: right;\">\n",
       "      <th></th>\n",
       "      <th>release_date</th>\n",
       "      <th>movie</th>\n",
       "      <th>production_budget</th>\n",
       "      <th>domestic_gross</th>\n",
       "      <th>worldwide_gross</th>\n",
       "      <th>worldwide_net</th>\n",
       "    </tr>\n",
       "    <tr>\n",
       "      <th>id</th>\n",
       "      <th></th>\n",
       "      <th></th>\n",
       "      <th></th>\n",
       "      <th></th>\n",
       "      <th></th>\n",
       "      <th></th>\n",
       "    </tr>\n",
       "  </thead>\n",
       "  <tbody>\n",
       "    <tr>\n",
       "      <th>1</th>\n",
       "      <td>2009-12-18</td>\n",
       "      <td>Avatar</td>\n",
       "      <td>425000000</td>\n",
       "      <td>760507625</td>\n",
       "      <td>2776345279</td>\n",
       "      <td>2351345279</td>\n",
       "    </tr>\n",
       "    <tr>\n",
       "      <th>2</th>\n",
       "      <td>2011-05-20</td>\n",
       "      <td>Pirates of the Caribbean: On Stranger Tides</td>\n",
       "      <td>410600000</td>\n",
       "      <td>241063875</td>\n",
       "      <td>1045663875</td>\n",
       "      <td>635063875</td>\n",
       "    </tr>\n",
       "    <tr>\n",
       "      <th>3</th>\n",
       "      <td>2019-06-07</td>\n",
       "      <td>Dark Phoenix</td>\n",
       "      <td>350000000</td>\n",
       "      <td>42762350</td>\n",
       "      <td>149762350</td>\n",
       "      <td>-200237650</td>\n",
       "    </tr>\n",
       "    <tr>\n",
       "      <th>4</th>\n",
       "      <td>2015-05-01</td>\n",
       "      <td>Avengers: Age of Ultron</td>\n",
       "      <td>330600000</td>\n",
       "      <td>459005868</td>\n",
       "      <td>1403013963</td>\n",
       "      <td>1072413963</td>\n",
       "    </tr>\n",
       "    <tr>\n",
       "      <th>5</th>\n",
       "      <td>2017-12-15</td>\n",
       "      <td>Star Wars Ep. VIII: The Last Jedi</td>\n",
       "      <td>317000000</td>\n",
       "      <td>620181382</td>\n",
       "      <td>1316721747</td>\n",
       "      <td>999721747</td>\n",
       "    </tr>\n",
       "  </tbody>\n",
       "</table>\n",
       "</div>"
      ],
      "text/plain": [
       "   release_date                                        movie  \\\n",
       "id                                                             \n",
       "1    2009-12-18                                       Avatar   \n",
       "2    2011-05-20  Pirates of the Caribbean: On Stranger Tides   \n",
       "3    2019-06-07                                 Dark Phoenix   \n",
       "4    2015-05-01                      Avengers: Age of Ultron   \n",
       "5    2017-12-15            Star Wars Ep. VIII: The Last Jedi   \n",
       "\n",
       "    production_budget  domestic_gross  worldwide_gross  worldwide_net  \n",
       "id                                                                     \n",
       "1           425000000       760507625       2776345279     2351345279  \n",
       "2           410600000       241063875       1045663875      635063875  \n",
       "3           350000000        42762350        149762350     -200237650  \n",
       "4           330600000       459005868       1403013963     1072413963  \n",
       "5           317000000       620181382       1316721747      999721747  "
      ]
     },
     "execution_count": 19,
     "metadata": {},
     "output_type": "execute_result"
    }
   ],
   "source": [
    "tn_movie_budgets_df.head()"
   ]
  },
  {
   "cell_type": "code",
   "execution_count": 20,
   "metadata": {
    "ExecuteTime": {
     "end_time": "2022-02-11T15:47:35.820943Z",
     "start_time": "2022-02-11T15:47:35.791020Z"
    }
   },
   "outputs": [
    {
     "data": {
      "text/html": [
       "<div>\n",
       "<style scoped>\n",
       "    .dataframe tbody tr th:only-of-type {\n",
       "        vertical-align: middle;\n",
       "    }\n",
       "\n",
       "    .dataframe tbody tr th {\n",
       "        vertical-align: top;\n",
       "    }\n",
       "\n",
       "    .dataframe thead th {\n",
       "        text-align: right;\n",
       "    }\n",
       "</style>\n",
       "<table border=\"1\" class=\"dataframe\">\n",
       "  <thead>\n",
       "    <tr style=\"text-align: right;\">\n",
       "      <th></th>\n",
       "      <th>release_date</th>\n",
       "      <th>movie</th>\n",
       "      <th>production_budget</th>\n",
       "      <th>domestic_gross</th>\n",
       "      <th>worldwide_gross</th>\n",
       "      <th>worldwide_net</th>\n",
       "    </tr>\n",
       "    <tr>\n",
       "      <th>id</th>\n",
       "      <th></th>\n",
       "      <th></th>\n",
       "      <th></th>\n",
       "      <th></th>\n",
       "      <th></th>\n",
       "      <th></th>\n",
       "    </tr>\n",
       "  </thead>\n",
       "  <tbody>\n",
       "    <tr>\n",
       "      <th>66</th>\n",
       "      <td>2009-11-20</td>\n",
       "      <td>The Missing Person</td>\n",
       "      <td>2000000</td>\n",
       "      <td>17896</td>\n",
       "      <td>17896</td>\n",
       "      <td>-1982104</td>\n",
       "    </tr>\n",
       "    <tr>\n",
       "      <th>94</th>\n",
       "      <td>2000-12-22</td>\n",
       "      <td>Thirteen Days</td>\n",
       "      <td>80000000</td>\n",
       "      <td>34566746</td>\n",
       "      <td>66554547</td>\n",
       "      <td>-13445453</td>\n",
       "    </tr>\n",
       "    <tr>\n",
       "      <th>81</th>\n",
       "      <td>2012-06-01</td>\n",
       "      <td>Hardflip</td>\n",
       "      <td>1000000</td>\n",
       "      <td>96734</td>\n",
       "      <td>96734</td>\n",
       "      <td>-903266</td>\n",
       "    </tr>\n",
       "    <tr>\n",
       "      <th>74</th>\n",
       "      <td>1991-08-30</td>\n",
       "      <td>Beastmaster 2: Through the Portal of Time</td>\n",
       "      <td>6000000</td>\n",
       "      <td>773490</td>\n",
       "      <td>773490</td>\n",
       "      <td>-5226510</td>\n",
       "    </tr>\n",
       "    <tr>\n",
       "      <th>85</th>\n",
       "      <td>2003-02-28</td>\n",
       "      <td>Spider</td>\n",
       "      <td>10000000</td>\n",
       "      <td>1641788</td>\n",
       "      <td>1641788</td>\n",
       "      <td>-8358212</td>\n",
       "    </tr>\n",
       "  </tbody>\n",
       "</table>\n",
       "</div>"
      ],
      "text/plain": [
       "   release_date                                      movie  production_budget  \\\n",
       "id                                                                              \n",
       "66   2009-11-20                         The Missing Person            2000000   \n",
       "94   2000-12-22                              Thirteen Days           80000000   \n",
       "81   2012-06-01                                   Hardflip            1000000   \n",
       "74   1991-08-30  Beastmaster 2: Through the Portal of Time            6000000   \n",
       "85   2003-02-28                                     Spider           10000000   \n",
       "\n",
       "    domestic_gross  worldwide_gross  worldwide_net  \n",
       "id                                                  \n",
       "66           17896            17896       -1982104  \n",
       "94        34566746         66554547      -13445453  \n",
       "81           96734            96734        -903266  \n",
       "74          773490           773490       -5226510  \n",
       "85         1641788          1641788       -8358212  "
      ]
     },
     "execution_count": 20,
     "metadata": {},
     "output_type": "execute_result"
    }
   ],
   "source": [
    "tn_movie_budgets_df[tn_movie_budgets_df['worldwide_net'] < 0].sample(5, random_state=1)"
   ]
  },
  {
   "cell_type": "code",
   "execution_count": 21,
   "metadata": {
    "ExecuteTime": {
     "end_time": "2022-02-11T15:47:36.137095Z",
     "start_time": "2022-02-11T15:47:36.125130Z"
    }
   },
   "outputs": [],
   "source": [
    "#remove movies that had a negative worldwide net.\n",
    "tn_movie_budgets_df = tn_movie_budgets_df[tn_movie_budgets_df['worldwide_net'] > 0]"
   ]
  },
  {
   "cell_type": "code",
   "execution_count": 22,
   "metadata": {
    "ExecuteTime": {
     "end_time": "2022-02-11T15:47:36.454246Z",
     "start_time": "2022-02-11T15:47:36.441283Z"
    }
   },
   "outputs": [
    {
     "data": {
      "text/plain": [
       "(3611, 6)"
      ]
     },
     "execution_count": 22,
     "metadata": {},
     "output_type": "execute_result"
    }
   ],
   "source": [
    "tn_movie_budgets_df.shape"
   ]
  },
  {
   "cell_type": "code",
   "execution_count": 23,
   "metadata": {
    "ExecuteTime": {
     "end_time": "2022-02-11T15:47:36.803314Z",
     "start_time": "2022-02-11T15:47:36.776395Z"
    }
   },
   "outputs": [
    {
     "data": {
      "text/html": [
       "<div>\n",
       "<style scoped>\n",
       "    .dataframe tbody tr th:only-of-type {\n",
       "        vertical-align: middle;\n",
       "    }\n",
       "\n",
       "    .dataframe tbody tr th {\n",
       "        vertical-align: top;\n",
       "    }\n",
       "\n",
       "    .dataframe thead th {\n",
       "        text-align: right;\n",
       "    }\n",
       "</style>\n",
       "<table border=\"1\" class=\"dataframe\">\n",
       "  <thead>\n",
       "    <tr style=\"text-align: right;\">\n",
       "      <th></th>\n",
       "      <th>release_date</th>\n",
       "      <th>movie</th>\n",
       "      <th>production_budget</th>\n",
       "      <th>domestic_gross</th>\n",
       "      <th>worldwide_gross</th>\n",
       "      <th>worldwide_net</th>\n",
       "    </tr>\n",
       "    <tr>\n",
       "      <th>id</th>\n",
       "      <th></th>\n",
       "      <th></th>\n",
       "      <th></th>\n",
       "      <th></th>\n",
       "      <th></th>\n",
       "      <th></th>\n",
       "    </tr>\n",
       "  </thead>\n",
       "  <tbody>\n",
       "    <tr>\n",
       "      <th>1</th>\n",
       "      <td>2009-12-18</td>\n",
       "      <td>Avatar</td>\n",
       "      <td>425000000</td>\n",
       "      <td>760507625</td>\n",
       "      <td>2776345279</td>\n",
       "      <td>2351345279</td>\n",
       "    </tr>\n",
       "    <tr>\n",
       "      <th>2</th>\n",
       "      <td>2011-05-20</td>\n",
       "      <td>Pirates of the Caribbean: On Stranger Tides</td>\n",
       "      <td>410600000</td>\n",
       "      <td>241063875</td>\n",
       "      <td>1045663875</td>\n",
       "      <td>635063875</td>\n",
       "    </tr>\n",
       "    <tr>\n",
       "      <th>4</th>\n",
       "      <td>2015-05-01</td>\n",
       "      <td>Avengers: Age of Ultron</td>\n",
       "      <td>330600000</td>\n",
       "      <td>459005868</td>\n",
       "      <td>1403013963</td>\n",
       "      <td>1072413963</td>\n",
       "    </tr>\n",
       "    <tr>\n",
       "      <th>5</th>\n",
       "      <td>2017-12-15</td>\n",
       "      <td>Star Wars Ep. VIII: The Last Jedi</td>\n",
       "      <td>317000000</td>\n",
       "      <td>620181382</td>\n",
       "      <td>1316721747</td>\n",
       "      <td>999721747</td>\n",
       "    </tr>\n",
       "    <tr>\n",
       "      <th>6</th>\n",
       "      <td>2015-12-18</td>\n",
       "      <td>Star Wars Ep. VII: The Force Awakens</td>\n",
       "      <td>306000000</td>\n",
       "      <td>936662225</td>\n",
       "      <td>2053311220</td>\n",
       "      <td>1747311220</td>\n",
       "    </tr>\n",
       "  </tbody>\n",
       "</table>\n",
       "</div>"
      ],
      "text/plain": [
       "   release_date                                        movie  \\\n",
       "id                                                             \n",
       "1    2009-12-18                                       Avatar   \n",
       "2    2011-05-20  Pirates of the Caribbean: On Stranger Tides   \n",
       "4    2015-05-01                      Avengers: Age of Ultron   \n",
       "5    2017-12-15            Star Wars Ep. VIII: The Last Jedi   \n",
       "6    2015-12-18         Star Wars Ep. VII: The Force Awakens   \n",
       "\n",
       "    production_budget  domestic_gross  worldwide_gross  worldwide_net  \n",
       "id                                                                     \n",
       "1           425000000       760507625       2776345279     2351345279  \n",
       "2           410600000       241063875       1045663875      635063875  \n",
       "4           330600000       459005868       1403013963     1072413963  \n",
       "5           317000000       620181382       1316721747      999721747  \n",
       "6           306000000       936662225       2053311220     1747311220  "
      ]
     },
     "execution_count": 23,
     "metadata": {},
     "output_type": "execute_result"
    }
   ],
   "source": [
    "tn_movie_budgets_df.head()"
   ]
  },
  {
   "cell_type": "code",
   "execution_count": 24,
   "metadata": {
    "ExecuteTime": {
     "end_time": "2022-02-11T15:47:37.200291Z",
     "start_time": "2022-02-11T15:47:37.188321Z"
    }
   },
   "outputs": [],
   "source": [
    "# change index\n",
    "tn_movie_budgets_df.set_index('movie', inplace=True)"
   ]
  },
  {
   "cell_type": "code",
   "execution_count": 25,
   "metadata": {
    "ExecuteTime": {
     "end_time": "2022-02-11T15:47:37.517454Z",
     "start_time": "2022-02-11T15:47:37.504487Z"
    }
   },
   "outputs": [],
   "source": [
    "# drop 'domestic_gross' column\n",
    "tn_movie_budgets_df = tn_movie_budgets_df.drop(['domestic_gross'], axis=1)"
   ]
  },
  {
   "cell_type": "code",
   "execution_count": 26,
   "metadata": {
    "ExecuteTime": {
     "end_time": "2022-02-11T15:47:37.816649Z",
     "start_time": "2022-02-11T15:47:37.803686Z"
    }
   },
   "outputs": [
    {
     "data": {
      "text/plain": [
       "(3611, 4)"
      ]
     },
     "execution_count": 26,
     "metadata": {},
     "output_type": "execute_result"
    }
   ],
   "source": [
    "tn_movie_budgets_df.shape"
   ]
  },
  {
   "cell_type": "code",
   "execution_count": 27,
   "metadata": {
    "ExecuteTime": {
     "end_time": "2022-02-11T15:47:38.147764Z",
     "start_time": "2022-02-11T15:47:38.134800Z"
    }
   },
   "outputs": [
    {
     "data": {
      "text/plain": [
       "release_date         0\n",
       "production_budget    0\n",
       "worldwide_gross      0\n",
       "worldwide_net        0\n",
       "dtype: int64"
      ]
     },
     "execution_count": 27,
     "metadata": {},
     "output_type": "execute_result"
    }
   ],
   "source": [
    "#find missing values\n",
    "tn_movie_budgets_df.isna().sum()"
   ]
  },
  {
   "cell_type": "markdown",
   "metadata": {},
   "source": [
    "##### Lets find the highest worldwide gross films"
   ]
  },
  {
   "cell_type": "code",
   "execution_count": 28,
   "metadata": {
    "ExecuteTime": {
     "end_time": "2022-02-11T15:47:38.478878Z",
     "start_time": "2022-02-11T15:47:38.464916Z"
    }
   },
   "outputs": [],
   "source": [
    "#sort based highest worldwide gross movies\n",
    "tn_movie_budgets_df = tn_movie_budgets_df.sort_values(by='worldwide_gross', ascending=False)"
   ]
  },
  {
   "cell_type": "code",
   "execution_count": 29,
   "metadata": {
    "ExecuteTime": {
     "end_time": "2022-02-11T15:47:38.776084Z",
     "start_time": "2022-02-11T15:47:38.749156Z"
    },
    "scrolled": true
   },
   "outputs": [
    {
     "data": {
      "text/html": [
       "<div>\n",
       "<style scoped>\n",
       "    .dataframe tbody tr th:only-of-type {\n",
       "        vertical-align: middle;\n",
       "    }\n",
       "\n",
       "    .dataframe tbody tr th {\n",
       "        vertical-align: top;\n",
       "    }\n",
       "\n",
       "    .dataframe thead th {\n",
       "        text-align: right;\n",
       "    }\n",
       "</style>\n",
       "<table border=\"1\" class=\"dataframe\">\n",
       "  <thead>\n",
       "    <tr style=\"text-align: right;\">\n",
       "      <th></th>\n",
       "      <th>release_date</th>\n",
       "      <th>production_budget</th>\n",
       "      <th>worldwide_gross</th>\n",
       "      <th>worldwide_net</th>\n",
       "    </tr>\n",
       "    <tr>\n",
       "      <th>movie</th>\n",
       "      <th></th>\n",
       "      <th></th>\n",
       "      <th></th>\n",
       "      <th></th>\n",
       "    </tr>\n",
       "  </thead>\n",
       "  <tbody>\n",
       "    <tr>\n",
       "      <th>Avatar</th>\n",
       "      <td>2009-12-18</td>\n",
       "      <td>425000000</td>\n",
       "      <td>2776345279</td>\n",
       "      <td>2351345279</td>\n",
       "    </tr>\n",
       "    <tr>\n",
       "      <th>Titanic</th>\n",
       "      <td>1997-12-19</td>\n",
       "      <td>200000000</td>\n",
       "      <td>2208208395</td>\n",
       "      <td>2008208395</td>\n",
       "    </tr>\n",
       "    <tr>\n",
       "      <th>Star Wars Ep. VII: The Force Awakens</th>\n",
       "      <td>2015-12-18</td>\n",
       "      <td>306000000</td>\n",
       "      <td>2053311220</td>\n",
       "      <td>1747311220</td>\n",
       "    </tr>\n",
       "    <tr>\n",
       "      <th>Avengers: Infinity War</th>\n",
       "      <td>2018-04-27</td>\n",
       "      <td>300000000</td>\n",
       "      <td>2048134200</td>\n",
       "      <td>1748134200</td>\n",
       "    </tr>\n",
       "    <tr>\n",
       "      <th>Jurassic World</th>\n",
       "      <td>2015-06-12</td>\n",
       "      <td>215000000</td>\n",
       "      <td>1648854864</td>\n",
       "      <td>1433854864</td>\n",
       "    </tr>\n",
       "    <tr>\n",
       "      <th>Furious 7</th>\n",
       "      <td>2015-04-03</td>\n",
       "      <td>190000000</td>\n",
       "      <td>1518722794</td>\n",
       "      <td>1328722794</td>\n",
       "    </tr>\n",
       "    <tr>\n",
       "      <th>The Avengers</th>\n",
       "      <td>2012-05-04</td>\n",
       "      <td>225000000</td>\n",
       "      <td>1517935897</td>\n",
       "      <td>1292935897</td>\n",
       "    </tr>\n",
       "    <tr>\n",
       "      <th>Avengers: Age of Ultron</th>\n",
       "      <td>2015-05-01</td>\n",
       "      <td>330600000</td>\n",
       "      <td>1403013963</td>\n",
       "      <td>1072413963</td>\n",
       "    </tr>\n",
       "    <tr>\n",
       "      <th>Black Panther</th>\n",
       "      <td>2018-02-16</td>\n",
       "      <td>200000000</td>\n",
       "      <td>1348258224</td>\n",
       "      <td>1148258224</td>\n",
       "    </tr>\n",
       "    <tr>\n",
       "      <th>Harry Potter and the Deathly Hallows: Part II</th>\n",
       "      <td>2011-07-15</td>\n",
       "      <td>125000000</td>\n",
       "      <td>1341693157</td>\n",
       "      <td>1216693157</td>\n",
       "    </tr>\n",
       "  </tbody>\n",
       "</table>\n",
       "</div>"
      ],
      "text/plain": [
       "                                              release_date  production_budget  \\\n",
       "movie                                                                           \n",
       "Avatar                                          2009-12-18          425000000   \n",
       "Titanic                                         1997-12-19          200000000   \n",
       "Star Wars Ep. VII: The Force Awakens            2015-12-18          306000000   \n",
       "Avengers: Infinity War                          2018-04-27          300000000   \n",
       "Jurassic World                                  2015-06-12          215000000   \n",
       "Furious 7                                       2015-04-03          190000000   \n",
       "The Avengers                                    2012-05-04          225000000   \n",
       "Avengers: Age of Ultron                         2015-05-01          330600000   \n",
       "Black Panther                                   2018-02-16          200000000   \n",
       "Harry Potter and the Deathly Hallows: Part II   2011-07-15          125000000   \n",
       "\n",
       "                                               worldwide_gross  worldwide_net  \n",
       "movie                                                                          \n",
       "Avatar                                              2776345279     2351345279  \n",
       "Titanic                                             2208208395     2008208395  \n",
       "Star Wars Ep. VII: The Force Awakens                2053311220     1747311220  \n",
       "Avengers: Infinity War                              2048134200     1748134200  \n",
       "Jurassic World                                      1648854864     1433854864  \n",
       "Furious 7                                           1518722794     1328722794  \n",
       "The Avengers                                        1517935897     1292935897  \n",
       "Avengers: Age of Ultron                             1403013963     1072413963  \n",
       "Black Panther                                       1348258224     1148258224  \n",
       "Harry Potter and the Deathly Hallows: Part II       1341693157     1216693157  "
      ]
     },
     "execution_count": 29,
     "metadata": {},
     "output_type": "execute_result"
    }
   ],
   "source": [
    "tn_movie_budgets_df.head(10)"
   ]
  },
  {
   "cell_type": "markdown",
   "metadata": {},
   "source": [
    "###### Lets remove the outliers, Avatar & Titanic are the top 2 worldwide grossing films which made over $2 Biliion in profits and are eliminated from the data set. "
   ]
  },
  {
   "cell_type": "code",
   "execution_count": 30,
   "metadata": {
    "ExecuteTime": {
     "end_time": "2022-02-11T15:47:39.107199Z",
     "start_time": "2022-02-11T15:47:39.079273Z"
    }
   },
   "outputs": [
    {
     "data": {
      "text/html": [
       "<div>\n",
       "<style scoped>\n",
       "    .dataframe tbody tr th:only-of-type {\n",
       "        vertical-align: middle;\n",
       "    }\n",
       "\n",
       "    .dataframe tbody tr th {\n",
       "        vertical-align: top;\n",
       "    }\n",
       "\n",
       "    .dataframe thead th {\n",
       "        text-align: right;\n",
       "    }\n",
       "</style>\n",
       "<table border=\"1\" class=\"dataframe\">\n",
       "  <thead>\n",
       "    <tr style=\"text-align: right;\">\n",
       "      <th></th>\n",
       "      <th>release_date</th>\n",
       "      <th>production_budget</th>\n",
       "      <th>worldwide_gross</th>\n",
       "      <th>worldwide_net</th>\n",
       "    </tr>\n",
       "    <tr>\n",
       "      <th>movie</th>\n",
       "      <th></th>\n",
       "      <th></th>\n",
       "      <th></th>\n",
       "      <th></th>\n",
       "    </tr>\n",
       "  </thead>\n",
       "  <tbody>\n",
       "    <tr>\n",
       "      <th>Star Wars Ep. VII: The Force Awakens</th>\n",
       "      <td>2015-12-18</td>\n",
       "      <td>306000000</td>\n",
       "      <td>2053311220</td>\n",
       "      <td>1747311220</td>\n",
       "    </tr>\n",
       "    <tr>\n",
       "      <th>Avengers: Infinity War</th>\n",
       "      <td>2018-04-27</td>\n",
       "      <td>300000000</td>\n",
       "      <td>2048134200</td>\n",
       "      <td>1748134200</td>\n",
       "    </tr>\n",
       "    <tr>\n",
       "      <th>Jurassic World</th>\n",
       "      <td>2015-06-12</td>\n",
       "      <td>215000000</td>\n",
       "      <td>1648854864</td>\n",
       "      <td>1433854864</td>\n",
       "    </tr>\n",
       "    <tr>\n",
       "      <th>Furious 7</th>\n",
       "      <td>2015-04-03</td>\n",
       "      <td>190000000</td>\n",
       "      <td>1518722794</td>\n",
       "      <td>1328722794</td>\n",
       "    </tr>\n",
       "    <tr>\n",
       "      <th>The Avengers</th>\n",
       "      <td>2012-05-04</td>\n",
       "      <td>225000000</td>\n",
       "      <td>1517935897</td>\n",
       "      <td>1292935897</td>\n",
       "    </tr>\n",
       "    <tr>\n",
       "      <th>Avengers: Age of Ultron</th>\n",
       "      <td>2015-05-01</td>\n",
       "      <td>330600000</td>\n",
       "      <td>1403013963</td>\n",
       "      <td>1072413963</td>\n",
       "    </tr>\n",
       "    <tr>\n",
       "      <th>Black Panther</th>\n",
       "      <td>2018-02-16</td>\n",
       "      <td>200000000</td>\n",
       "      <td>1348258224</td>\n",
       "      <td>1148258224</td>\n",
       "    </tr>\n",
       "    <tr>\n",
       "      <th>Harry Potter and the Deathly Hallows: Part II</th>\n",
       "      <td>2011-07-15</td>\n",
       "      <td>125000000</td>\n",
       "      <td>1341693157</td>\n",
       "      <td>1216693157</td>\n",
       "    </tr>\n",
       "    <tr>\n",
       "      <th>Star Wars Ep. VIII: The Last Jedi</th>\n",
       "      <td>2017-12-15</td>\n",
       "      <td>317000000</td>\n",
       "      <td>1316721747</td>\n",
       "      <td>999721747</td>\n",
       "    </tr>\n",
       "    <tr>\n",
       "      <th>Jurassic World: Fallen Kingdom</th>\n",
       "      <td>2018-06-22</td>\n",
       "      <td>170000000</td>\n",
       "      <td>1305772799</td>\n",
       "      <td>1135772799</td>\n",
       "    </tr>\n",
       "  </tbody>\n",
       "</table>\n",
       "</div>"
      ],
      "text/plain": [
       "                                              release_date  production_budget  \\\n",
       "movie                                                                           \n",
       "Star Wars Ep. VII: The Force Awakens            2015-12-18          306000000   \n",
       "Avengers: Infinity War                          2018-04-27          300000000   \n",
       "Jurassic World                                  2015-06-12          215000000   \n",
       "Furious 7                                       2015-04-03          190000000   \n",
       "The Avengers                                    2012-05-04          225000000   \n",
       "Avengers: Age of Ultron                         2015-05-01          330600000   \n",
       "Black Panther                                   2018-02-16          200000000   \n",
       "Harry Potter and the Deathly Hallows: Part II   2011-07-15          125000000   \n",
       "Star Wars Ep. VIII: The Last Jedi               2017-12-15          317000000   \n",
       "Jurassic World: Fallen Kingdom                  2018-06-22          170000000   \n",
       "\n",
       "                                               worldwide_gross  worldwide_net  \n",
       "movie                                                                          \n",
       "Star Wars Ep. VII: The Force Awakens                2053311220     1747311220  \n",
       "Avengers: Infinity War                              2048134200     1748134200  \n",
       "Jurassic World                                      1648854864     1433854864  \n",
       "Furious 7                                           1518722794     1328722794  \n",
       "The Avengers                                        1517935897     1292935897  \n",
       "Avengers: Age of Ultron                             1403013963     1072413963  \n",
       "Black Panther                                       1348258224     1148258224  \n",
       "Harry Potter and the Deathly Hallows: Part II       1341693157     1216693157  \n",
       "Star Wars Ep. VIII: The Last Jedi                   1316721747      999721747  \n",
       "Jurassic World: Fallen Kingdom                      1305772799     1135772799  "
      ]
     },
     "execution_count": 30,
     "metadata": {},
     "output_type": "execute_result"
    }
   ],
   "source": [
    "# remove top two rows\n",
    "tn_movie_budgets_df = tn_movie_budgets_df.iloc[2: , :]\n",
    "tn_movie_budgets_df.head(10)"
   ]
  },
  {
   "cell_type": "code",
   "execution_count": 31,
   "metadata": {
    "ExecuteTime": {
     "end_time": "2022-02-11T15:47:39.455268Z",
     "start_time": "2022-02-11T15:47:39.441305Z"
    }
   },
   "outputs": [
    {
     "data": {
      "text/html": [
       "<div>\n",
       "<style scoped>\n",
       "    .dataframe tbody tr th:only-of-type {\n",
       "        vertical-align: middle;\n",
       "    }\n",
       "\n",
       "    .dataframe tbody tr th {\n",
       "        vertical-align: top;\n",
       "    }\n",
       "\n",
       "    .dataframe thead th {\n",
       "        text-align: right;\n",
       "    }\n",
       "</style>\n",
       "<table border=\"1\" class=\"dataframe\">\n",
       "  <thead>\n",
       "    <tr style=\"text-align: right;\">\n",
       "      <th></th>\n",
       "      <th>release_date</th>\n",
       "      <th>production_budget</th>\n",
       "      <th>worldwide_gross</th>\n",
       "      <th>worldwide_net</th>\n",
       "    </tr>\n",
       "    <tr>\n",
       "      <th>movie</th>\n",
       "      <th></th>\n",
       "      <th></th>\n",
       "      <th></th>\n",
       "      <th></th>\n",
       "    </tr>\n",
       "  </thead>\n",
       "  <tbody>\n",
       "    <tr>\n",
       "      <th>Star Wars Ep. VII: The Force Awakens</th>\n",
       "      <td>2015-12-18</td>\n",
       "      <td>306000000</td>\n",
       "      <td>2053311220</td>\n",
       "      <td>1747311220</td>\n",
       "    </tr>\n",
       "    <tr>\n",
       "      <th>Avengers: Infinity War</th>\n",
       "      <td>2018-04-27</td>\n",
       "      <td>300000000</td>\n",
       "      <td>2048134200</td>\n",
       "      <td>1748134200</td>\n",
       "    </tr>\n",
       "    <tr>\n",
       "      <th>Jurassic World</th>\n",
       "      <td>2015-06-12</td>\n",
       "      <td>215000000</td>\n",
       "      <td>1648854864</td>\n",
       "      <td>1433854864</td>\n",
       "    </tr>\n",
       "    <tr>\n",
       "      <th>Furious 7</th>\n",
       "      <td>2015-04-03</td>\n",
       "      <td>190000000</td>\n",
       "      <td>1518722794</td>\n",
       "      <td>1328722794</td>\n",
       "    </tr>\n",
       "    <tr>\n",
       "      <th>The Avengers</th>\n",
       "      <td>2012-05-04</td>\n",
       "      <td>225000000</td>\n",
       "      <td>1517935897</td>\n",
       "      <td>1292935897</td>\n",
       "    </tr>\n",
       "    <tr>\n",
       "      <th>Avengers: Age of Ultron</th>\n",
       "      <td>2015-05-01</td>\n",
       "      <td>330600000</td>\n",
       "      <td>1403013963</td>\n",
       "      <td>1072413963</td>\n",
       "    </tr>\n",
       "    <tr>\n",
       "      <th>Black Panther</th>\n",
       "      <td>2018-02-16</td>\n",
       "      <td>200000000</td>\n",
       "      <td>1348258224</td>\n",
       "      <td>1148258224</td>\n",
       "    </tr>\n",
       "    <tr>\n",
       "      <th>Harry Potter and the Deathly Hallows: Part II</th>\n",
       "      <td>2011-07-15</td>\n",
       "      <td>125000000</td>\n",
       "      <td>1341693157</td>\n",
       "      <td>1216693157</td>\n",
       "    </tr>\n",
       "    <tr>\n",
       "      <th>Star Wars Ep. VIII: The Last Jedi</th>\n",
       "      <td>2017-12-15</td>\n",
       "      <td>317000000</td>\n",
       "      <td>1316721747</td>\n",
       "      <td>999721747</td>\n",
       "    </tr>\n",
       "    <tr>\n",
       "      <th>Jurassic World: Fallen Kingdom</th>\n",
       "      <td>2018-06-22</td>\n",
       "      <td>170000000</td>\n",
       "      <td>1305772799</td>\n",
       "      <td>1135772799</td>\n",
       "    </tr>\n",
       "  </tbody>\n",
       "</table>\n",
       "</div>"
      ],
      "text/plain": [
       "                                              release_date  production_budget  \\\n",
       "movie                                                                           \n",
       "Star Wars Ep. VII: The Force Awakens            2015-12-18          306000000   \n",
       "Avengers: Infinity War                          2018-04-27          300000000   \n",
       "Jurassic World                                  2015-06-12          215000000   \n",
       "Furious 7                                       2015-04-03          190000000   \n",
       "The Avengers                                    2012-05-04          225000000   \n",
       "Avengers: Age of Ultron                         2015-05-01          330600000   \n",
       "Black Panther                                   2018-02-16          200000000   \n",
       "Harry Potter and the Deathly Hallows: Part II   2011-07-15          125000000   \n",
       "Star Wars Ep. VIII: The Last Jedi               2017-12-15          317000000   \n",
       "Jurassic World: Fallen Kingdom                  2018-06-22          170000000   \n",
       "\n",
       "                                               worldwide_gross  worldwide_net  \n",
       "movie                                                                          \n",
       "Star Wars Ep. VII: The Force Awakens                2053311220     1747311220  \n",
       "Avengers: Infinity War                              2048134200     1748134200  \n",
       "Jurassic World                                      1648854864     1433854864  \n",
       "Furious 7                                           1518722794     1328722794  \n",
       "The Avengers                                        1517935897     1292935897  \n",
       "Avengers: Age of Ultron                             1403013963     1072413963  \n",
       "Black Panther                                       1348258224     1148258224  \n",
       "Harry Potter and the Deathly Hallows: Part II       1341693157     1216693157  \n",
       "Star Wars Ep. VIII: The Last Jedi                   1316721747      999721747  \n",
       "Jurassic World: Fallen Kingdom                      1305772799     1135772799  "
      ]
     },
     "execution_count": 31,
     "metadata": {},
     "output_type": "execute_result"
    }
   ],
   "source": [
    "ww_gross_top10_df = tn_movie_budgets_df.head(10)\n",
    "ww_gross_top10_df"
   ]
  },
  {
   "cell_type": "code",
   "execution_count": 32,
   "metadata": {
    "ExecuteTime": {
     "end_time": "2022-02-11T15:47:39.834257Z",
     "start_time": "2022-02-11T15:47:39.820292Z"
    }
   },
   "outputs": [],
   "source": [
    "ww_gross_top10_df = ww_gross_top10_df.reset_index()"
   ]
  },
  {
   "cell_type": "code",
   "execution_count": 33,
   "metadata": {
    "ExecuteTime": {
     "end_time": "2022-02-11T15:47:40.183423Z",
     "start_time": "2022-02-11T15:47:40.154470Z"
    }
   },
   "outputs": [
    {
     "data": {
      "text/html": [
       "<div>\n",
       "<style scoped>\n",
       "    .dataframe tbody tr th:only-of-type {\n",
       "        vertical-align: middle;\n",
       "    }\n",
       "\n",
       "    .dataframe tbody tr th {\n",
       "        vertical-align: top;\n",
       "    }\n",
       "\n",
       "    .dataframe thead th {\n",
       "        text-align: right;\n",
       "    }\n",
       "</style>\n",
       "<table border=\"1\" class=\"dataframe\">\n",
       "  <thead>\n",
       "    <tr style=\"text-align: right;\">\n",
       "      <th></th>\n",
       "      <th>release_date</th>\n",
       "      <th>production_budget</th>\n",
       "      <th>worldwide_gross</th>\n",
       "      <th>worldwide_net</th>\n",
       "    </tr>\n",
       "    <tr>\n",
       "      <th>movie</th>\n",
       "      <th></th>\n",
       "      <th></th>\n",
       "      <th></th>\n",
       "      <th></th>\n",
       "    </tr>\n",
       "  </thead>\n",
       "  <tbody>\n",
       "    <tr>\n",
       "      <th>Avengers: Infinity War</th>\n",
       "      <td>2018-04-27</td>\n",
       "      <td>300000000</td>\n",
       "      <td>2048134200</td>\n",
       "      <td>1748134200</td>\n",
       "    </tr>\n",
       "    <tr>\n",
       "      <th>Star Wars Ep. VII: The Force Awakens</th>\n",
       "      <td>2015-12-18</td>\n",
       "      <td>306000000</td>\n",
       "      <td>2053311220</td>\n",
       "      <td>1747311220</td>\n",
       "    </tr>\n",
       "    <tr>\n",
       "      <th>Jurassic World</th>\n",
       "      <td>2015-06-12</td>\n",
       "      <td>215000000</td>\n",
       "      <td>1648854864</td>\n",
       "      <td>1433854864</td>\n",
       "    </tr>\n",
       "    <tr>\n",
       "      <th>Furious 7</th>\n",
       "      <td>2015-04-03</td>\n",
       "      <td>190000000</td>\n",
       "      <td>1518722794</td>\n",
       "      <td>1328722794</td>\n",
       "    </tr>\n",
       "    <tr>\n",
       "      <th>The Avengers</th>\n",
       "      <td>2012-05-04</td>\n",
       "      <td>225000000</td>\n",
       "      <td>1517935897</td>\n",
       "      <td>1292935897</td>\n",
       "    </tr>\n",
       "    <tr>\n",
       "      <th>Harry Potter and the Deathly Hallows: Part II</th>\n",
       "      <td>2011-07-15</td>\n",
       "      <td>125000000</td>\n",
       "      <td>1341693157</td>\n",
       "      <td>1216693157</td>\n",
       "    </tr>\n",
       "    <tr>\n",
       "      <th>Black Panther</th>\n",
       "      <td>2018-02-16</td>\n",
       "      <td>200000000</td>\n",
       "      <td>1348258224</td>\n",
       "      <td>1148258224</td>\n",
       "    </tr>\n",
       "    <tr>\n",
       "      <th>Jurassic World: Fallen Kingdom</th>\n",
       "      <td>2018-06-22</td>\n",
       "      <td>170000000</td>\n",
       "      <td>1305772799</td>\n",
       "      <td>1135772799</td>\n",
       "    </tr>\n",
       "    <tr>\n",
       "      <th>Frozen</th>\n",
       "      <td>2013-11-22</td>\n",
       "      <td>150000000</td>\n",
       "      <td>1272469910</td>\n",
       "      <td>1122469910</td>\n",
       "    </tr>\n",
       "    <tr>\n",
       "      <th>Beauty and the Beast</th>\n",
       "      <td>2017-03-17</td>\n",
       "      <td>160000000</td>\n",
       "      <td>1259199706</td>\n",
       "      <td>1099199706</td>\n",
       "    </tr>\n",
       "  </tbody>\n",
       "</table>\n",
       "</div>"
      ],
      "text/plain": [
       "                                              release_date  production_budget  \\\n",
       "movie                                                                           \n",
       "Avengers: Infinity War                          2018-04-27          300000000   \n",
       "Star Wars Ep. VII: The Force Awakens            2015-12-18          306000000   \n",
       "Jurassic World                                  2015-06-12          215000000   \n",
       "Furious 7                                       2015-04-03          190000000   \n",
       "The Avengers                                    2012-05-04          225000000   \n",
       "Harry Potter and the Deathly Hallows: Part II   2011-07-15          125000000   \n",
       "Black Panther                                   2018-02-16          200000000   \n",
       "Jurassic World: Fallen Kingdom                  2018-06-22          170000000   \n",
       "Frozen                                          2013-11-22          150000000   \n",
       "Beauty and the Beast                            2017-03-17          160000000   \n",
       "\n",
       "                                               worldwide_gross  worldwide_net  \n",
       "movie                                                                          \n",
       "Avengers: Infinity War                              2048134200     1748134200  \n",
       "Star Wars Ep. VII: The Force Awakens                2053311220     1747311220  \n",
       "Jurassic World                                      1648854864     1433854864  \n",
       "Furious 7                                           1518722794     1328722794  \n",
       "The Avengers                                        1517935897     1292935897  \n",
       "Harry Potter and the Deathly Hallows: Part II       1341693157     1216693157  \n",
       "Black Panther                                       1348258224     1148258224  \n",
       "Jurassic World: Fallen Kingdom                      1305772799     1135772799  \n",
       "Frozen                                              1272469910     1122469910  \n",
       "Beauty and the Beast                                1259199706     1099199706  "
      ]
     },
     "execution_count": 33,
     "metadata": {},
     "output_type": "execute_result"
    }
   ],
   "source": [
    "#new dataframe movies sorted by highest net profit\n",
    "ww_net_top10_df = tn_movie_budgets_df.sort_values(by='worldwide_net', ascending=False).head(10)\n",
    "ww_net_top10_df"
   ]
  },
  {
   "cell_type": "markdown",
   "metadata": {},
   "source": [
    "###### now the most profitable movies"
   ]
  },
  {
   "cell_type": "code",
   "execution_count": 34,
   "metadata": {
    "ExecuteTime": {
     "end_time": "2022-02-11T15:47:40.277242Z",
     "start_time": "2022-02-11T15:47:40.186387Z"
    }
   },
   "outputs": [],
   "source": [
    "ww_net_top10_df = ww_net_top10_df.reset_index()"
   ]
  },
  {
   "cell_type": "code",
   "execution_count": 35,
   "metadata": {
    "ExecuteTime": {
     "end_time": "2022-02-11T15:47:40.372281Z",
     "start_time": "2022-02-11T15:47:40.280133Z"
    }
   },
   "outputs": [
    {
     "data": {
      "text/html": [
       "<div>\n",
       "<style scoped>\n",
       "    .dataframe tbody tr th:only-of-type {\n",
       "        vertical-align: middle;\n",
       "    }\n",
       "\n",
       "    .dataframe tbody tr th {\n",
       "        vertical-align: top;\n",
       "    }\n",
       "\n",
       "    .dataframe thead th {\n",
       "        text-align: right;\n",
       "    }\n",
       "</style>\n",
       "<table border=\"1\" class=\"dataframe\">\n",
       "  <thead>\n",
       "    <tr style=\"text-align: right;\">\n",
       "      <th></th>\n",
       "      <th>movie</th>\n",
       "      <th>release_date</th>\n",
       "      <th>production_budget</th>\n",
       "      <th>worldwide_gross</th>\n",
       "      <th>worldwide_net</th>\n",
       "    </tr>\n",
       "  </thead>\n",
       "  <tbody>\n",
       "    <tr>\n",
       "      <th>0</th>\n",
       "      <td>Avengers: Infinity War</td>\n",
       "      <td>2018-04-27</td>\n",
       "      <td>300000000</td>\n",
       "      <td>2048134200</td>\n",
       "      <td>1748134200</td>\n",
       "    </tr>\n",
       "    <tr>\n",
       "      <th>1</th>\n",
       "      <td>Star Wars Ep. VII: The Force Awakens</td>\n",
       "      <td>2015-12-18</td>\n",
       "      <td>306000000</td>\n",
       "      <td>2053311220</td>\n",
       "      <td>1747311220</td>\n",
       "    </tr>\n",
       "    <tr>\n",
       "      <th>2</th>\n",
       "      <td>Jurassic World</td>\n",
       "      <td>2015-06-12</td>\n",
       "      <td>215000000</td>\n",
       "      <td>1648854864</td>\n",
       "      <td>1433854864</td>\n",
       "    </tr>\n",
       "    <tr>\n",
       "      <th>3</th>\n",
       "      <td>Furious 7</td>\n",
       "      <td>2015-04-03</td>\n",
       "      <td>190000000</td>\n",
       "      <td>1518722794</td>\n",
       "      <td>1328722794</td>\n",
       "    </tr>\n",
       "    <tr>\n",
       "      <th>4</th>\n",
       "      <td>The Avengers</td>\n",
       "      <td>2012-05-04</td>\n",
       "      <td>225000000</td>\n",
       "      <td>1517935897</td>\n",
       "      <td>1292935897</td>\n",
       "    </tr>\n",
       "    <tr>\n",
       "      <th>5</th>\n",
       "      <td>Harry Potter and the Deathly Hallows: Part II</td>\n",
       "      <td>2011-07-15</td>\n",
       "      <td>125000000</td>\n",
       "      <td>1341693157</td>\n",
       "      <td>1216693157</td>\n",
       "    </tr>\n",
       "    <tr>\n",
       "      <th>6</th>\n",
       "      <td>Black Panther</td>\n",
       "      <td>2018-02-16</td>\n",
       "      <td>200000000</td>\n",
       "      <td>1348258224</td>\n",
       "      <td>1148258224</td>\n",
       "    </tr>\n",
       "    <tr>\n",
       "      <th>7</th>\n",
       "      <td>Jurassic World: Fallen Kingdom</td>\n",
       "      <td>2018-06-22</td>\n",
       "      <td>170000000</td>\n",
       "      <td>1305772799</td>\n",
       "      <td>1135772799</td>\n",
       "    </tr>\n",
       "    <tr>\n",
       "      <th>8</th>\n",
       "      <td>Frozen</td>\n",
       "      <td>2013-11-22</td>\n",
       "      <td>150000000</td>\n",
       "      <td>1272469910</td>\n",
       "      <td>1122469910</td>\n",
       "    </tr>\n",
       "    <tr>\n",
       "      <th>9</th>\n",
       "      <td>Beauty and the Beast</td>\n",
       "      <td>2017-03-17</td>\n",
       "      <td>160000000</td>\n",
       "      <td>1259199706</td>\n",
       "      <td>1099199706</td>\n",
       "    </tr>\n",
       "  </tbody>\n",
       "</table>\n",
       "</div>"
      ],
      "text/plain": [
       "                                           movie release_date  \\\n",
       "0                         Avengers: Infinity War   2018-04-27   \n",
       "1           Star Wars Ep. VII: The Force Awakens   2015-12-18   \n",
       "2                                 Jurassic World   2015-06-12   \n",
       "3                                      Furious 7   2015-04-03   \n",
       "4                                   The Avengers   2012-05-04   \n",
       "5  Harry Potter and the Deathly Hallows: Part II   2011-07-15   \n",
       "6                                  Black Panther   2018-02-16   \n",
       "7                 Jurassic World: Fallen Kingdom   2018-06-22   \n",
       "8                                         Frozen   2013-11-22   \n",
       "9                           Beauty and the Beast   2017-03-17   \n",
       "\n",
       "   production_budget  worldwide_gross  worldwide_net  \n",
       "0          300000000       2048134200     1748134200  \n",
       "1          306000000       2053311220     1747311220  \n",
       "2          215000000       1648854864     1433854864  \n",
       "3          190000000       1518722794     1328722794  \n",
       "4          225000000       1517935897     1292935897  \n",
       "5          125000000       1341693157     1216693157  \n",
       "6          200000000       1348258224     1148258224  \n",
       "7          170000000       1305772799     1135772799  \n",
       "8          150000000       1272469910     1122469910  \n",
       "9          160000000       1259199706     1099199706  "
      ]
     },
     "execution_count": 35,
     "metadata": {},
     "output_type": "execute_result"
    }
   ],
   "source": [
    "ww_net_top10_df"
   ]
  },
  {
   "cell_type": "code",
   "execution_count": 36,
   "metadata": {
    "ExecuteTime": {
     "end_time": "2022-02-11T15:47:40.846976Z",
     "start_time": "2022-02-11T15:47:40.375240Z"
    }
   },
   "outputs": [
    {
     "data": {
      "image/png": "[encoded data removed]",
      "text/plain": [
       "<Figure size 1080x576 with 1 Axes>"
      ]
     },
     "metadata": {
      "needs_background": "light"
     },
     "output_type": "display_data"
    }
   ],
   "source": [
    "plt.figure(figsize=(15,8))\n",
    "ax30 = sns.barplot(x=ww_gross_top10_df['worldwide_gross'], y=ww_gross_top10_df['movie'], palette='GnBu_d')\n",
    "plt.xlabel('Worldwide Gross $Billions', fontsize=12)\n",
    "plt.ylabel('Movie Title', fontsize=12)\n",
    "plt.title('Worldwide Gross By Movie', fontsize=14);"
   ]
  },
  {
   "cell_type": "code",
   "execution_count": 37,
   "metadata": {
    "ExecuteTime": {
     "end_time": "2022-02-11T15:47:41.143182Z",
     "start_time": "2022-02-11T15:47:40.850966Z"
    }
   },
   "outputs": [
    {
     "data": {
      "image/png": "[encoded data removed]",
      "text/plain": [
       "<Figure size 1080x576 with 1 Axes>"
      ]
     },
     "metadata": {
      "needs_background": "light"
     },
     "output_type": "display_data"
    }
   ],
   "source": [
    "plt.figure(figsize=(15,8))\n",
    "ax31 = sns.barplot(x=ww_net_top10_df['worldwide_net'], y=ww_gross_top10_df['movie'], palette='GnBu_d')\n",
    "plt.xlabel('Worldwide Net $Billions', fontsize=12)\n",
    "plt.ylabel('Movie', fontsize=12)\n",
    "plt.title('Worldwide Net By Movie', fontsize=14);"
   ]
  },
  {
   "cell_type": "markdown",
   "metadata": {},
   "source": [
    "##### The top grossed and the top net profit movies are not equal. Lets further examine."
   ]
  },
  {
   "cell_type": "markdown",
   "metadata": {
    "ExecuteTime": {
     "end_time": "2022-01-27T22:23:38.253916Z",
     "start_time": "2022-01-27T22:23:38.239166Z"
    }
   },
   "source": [
    "Examine the overall trend of production budget versus worldwide gross to see if there is any correlation."
   ]
  },
  {
   "cell_type": "code",
   "execution_count": 38,
   "metadata": {
    "ExecuteTime": {
     "end_time": "2022-02-11T15:47:41.506472Z",
     "start_time": "2022-02-11T15:47:41.146177Z"
    }
   },
   "outputs": [
    {
     "data": {
      "image/png": "[encoded data removed]",
      "text/plain": [
       "<Figure size 1080x576 with 1 Axes>"
      ]
     },
     "metadata": {
      "needs_background": "light"
     },
     "output_type": "display_data"
    }
   ],
   "source": [
    "fig, ax = plt.subplots(figsize=(15, 8))\n",
    "\n",
    "ax.scatter(\n",
    "    x=tn_movie_budgets_df[\"production_budget\"],\n",
    "    y=tn_movie_budgets_df[\"worldwide_gross\"],\n",
    "    alpha=0.3\n",
    ")\n",
    "\n",
    "ax.set_xlabel(\"production budget ($ hundred million)\")\n",
    "ax.set_ylabel(\"worldwide gross ($ billion)\")\n",
    "ax.set_title(\"Budget vs Gross\");\n",
    "plt.savefig('fig01_Budget_Gross_Var');"
   ]
  },
  {
   "cell_type": "markdown",
   "metadata": {},
   "source": [
    "The positive trend line is leading us to believe that higher production budget equals to higher gross sales. However one plot is not enough to make that conclusion. \n",
    "\n",
    "The plot below shots production budget versus net profit. Which is showing a trend line that is negative meaning that spending too much money does risk of declining the profit margin."
   ]
  },
  {
   "cell_type": "code",
   "execution_count": 39,
   "metadata": {
    "ExecuteTime": {
     "end_time": "2022-02-11T15:47:41.743806Z",
     "start_time": "2022-02-11T15:47:41.516447Z"
    }
   },
   "outputs": [
    {
     "data": {
      "image/png": "[encoded data removed]",
      "text/plain": [
       "<Figure size 1080x576 with 1 Axes>"
      ]
     },
     "metadata": {
      "needs_background": "light"
     },
     "output_type": "display_data"
    }
   ],
   "source": [
    "fig, ax = plt.subplots(figsize=(15, 8))\n",
    "\n",
    "ax.scatter(\n",
    "    x=tn_movie_budgets_df[\"production_budget\"],\n",
    "    y=tn_movie_budgets_df[\"worldwide_net\"],\n",
    "    alpha=0.3\n",
    ")\n",
    "\n",
    "ax.set_xlabel(\"production budget ($ hundred million)\")\n",
    "ax.set_ylabel(\"worldwide net ($ billion)\")\n",
    "ax.set_title(\"Budget vs Net\");"
   ]
  },
  {
   "cell_type": "markdown",
   "metadata": {},
   "source": [
    "##### the trend line for the worldwide net is not as positive as the trend line as the worldwide gross. Meaning that pouring more money does not always correlate to higher box office numbers."
   ]
  },
  {
   "cell_type": "code",
   "execution_count": 40,
   "metadata": {
    "ExecuteTime": {
     "end_time": "2022-02-11T15:47:41.759795Z",
     "start_time": "2022-02-11T15:47:41.745804Z"
    }
   },
   "outputs": [],
   "source": [
    "tn_movie_df = tn_movie_budgets_df.sort_values(by='worldwide_net', ascending=False)"
   ]
  },
  {
   "cell_type": "code",
   "execution_count": 41,
   "metadata": {
    "ExecuteTime": {
     "end_time": "2022-02-11T15:47:41.855655Z",
     "start_time": "2022-02-11T15:47:41.761759Z"
    }
   },
   "outputs": [
    {
     "data": {
      "text/html": [
       "<div>\n",
       "<style scoped>\n",
       "    .dataframe tbody tr th:only-of-type {\n",
       "        vertical-align: middle;\n",
       "    }\n",
       "\n",
       "    .dataframe tbody tr th {\n",
       "        vertical-align: top;\n",
       "    }\n",
       "\n",
       "    .dataframe thead th {\n",
       "        text-align: right;\n",
       "    }\n",
       "</style>\n",
       "<table border=\"1\" class=\"dataframe\">\n",
       "  <thead>\n",
       "    <tr style=\"text-align: right;\">\n",
       "      <th></th>\n",
       "      <th>release_date</th>\n",
       "      <th>production_budget</th>\n",
       "      <th>worldwide_gross</th>\n",
       "      <th>worldwide_net</th>\n",
       "    </tr>\n",
       "    <tr>\n",
       "      <th>movie</th>\n",
       "      <th></th>\n",
       "      <th></th>\n",
       "      <th></th>\n",
       "      <th></th>\n",
       "    </tr>\n",
       "  </thead>\n",
       "  <tbody>\n",
       "    <tr>\n",
       "      <th>Avengers: Infinity War</th>\n",
       "      <td>2018-04-27</td>\n",
       "      <td>300000000</td>\n",
       "      <td>2048134200</td>\n",
       "      <td>1748134200</td>\n",
       "    </tr>\n",
       "    <tr>\n",
       "      <th>Star Wars Ep. VII: The Force Awakens</th>\n",
       "      <td>2015-12-18</td>\n",
       "      <td>306000000</td>\n",
       "      <td>2053311220</td>\n",
       "      <td>1747311220</td>\n",
       "    </tr>\n",
       "    <tr>\n",
       "      <th>Jurassic World</th>\n",
       "      <td>2015-06-12</td>\n",
       "      <td>215000000</td>\n",
       "      <td>1648854864</td>\n",
       "      <td>1433854864</td>\n",
       "    </tr>\n",
       "    <tr>\n",
       "      <th>Furious 7</th>\n",
       "      <td>2015-04-03</td>\n",
       "      <td>190000000</td>\n",
       "      <td>1518722794</td>\n",
       "      <td>1328722794</td>\n",
       "    </tr>\n",
       "    <tr>\n",
       "      <th>The Avengers</th>\n",
       "      <td>2012-05-04</td>\n",
       "      <td>225000000</td>\n",
       "      <td>1517935897</td>\n",
       "      <td>1292935897</td>\n",
       "    </tr>\n",
       "  </tbody>\n",
       "</table>\n",
       "</div>"
      ],
      "text/plain": [
       "                                     release_date  production_budget  \\\n",
       "movie                                                                  \n",
       "Avengers: Infinity War                 2018-04-27          300000000   \n",
       "Star Wars Ep. VII: The Force Awakens   2015-12-18          306000000   \n",
       "Jurassic World                         2015-06-12          215000000   \n",
       "Furious 7                              2015-04-03          190000000   \n",
       "The Avengers                           2012-05-04          225000000   \n",
       "\n",
       "                                      worldwide_gross  worldwide_net  \n",
       "movie                                                                 \n",
       "Avengers: Infinity War                     2048134200     1748134200  \n",
       "Star Wars Ep. VII: The Force Awakens       2053311220     1747311220  \n",
       "Jurassic World                             1648854864     1433854864  \n",
       "Furious 7                                  1518722794     1328722794  \n",
       "The Avengers                               1517935897     1292935897  "
      ]
     },
     "execution_count": 41,
     "metadata": {},
     "output_type": "execute_result"
    }
   ],
   "source": [
    "tn_movie_df.head()"
   ]
  },
  {
   "cell_type": "markdown",
   "metadata": {},
   "source": [
    "So what is the recommendation? Lets look into the most profitable top 25 movies and use the mean as a target of success"
   ]
  },
  {
   "cell_type": "code",
   "execution_count": 42,
   "metadata": {
    "ExecuteTime": {
     "end_time": "2022-02-11T15:47:41.981297Z",
     "start_time": "2022-02-11T15:47:41.858612Z"
    }
   },
   "outputs": [],
   "source": [
    "tn_movie_df1 = tn_movie_df.head(25)"
   ]
  },
  {
   "cell_type": "code",
   "execution_count": 43,
   "metadata": {
    "ExecuteTime": {
     "end_time": "2022-02-11T15:47:42.857825Z",
     "start_time": "2022-02-11T15:47:41.984074Z"
    }
   },
   "outputs": [
    {
     "data": {
      "image/png": "[encoded data removed]",
      "text/plain": [
       "<Figure size 1080x576 with 1 Axes>"
      ]
     },
     "metadata": {
      "needs_background": "light"
     },
     "output_type": "display_data"
    }
   ],
   "source": [
    "plt.figure(figsize=(15,8))\n",
    "\n",
    "movies = tn_movie_df1.index\n",
    "budget_gross = tn_movie_df1.production_budget\n",
    "ww_net = tn_movie_df1.worldwide_net\n",
    "ww_gross = tn_movie_df1.worldwide_gross\n",
    "\n",
    "plt.bar(range(len(movies)), budget_gross, color='black')\n",
    "plt.bar(range(len(movies)), ww_net, color='hotpink', bottom=budget_gross)\n",
    "plt.title('Top 25 Movies Gross Revenue', fontsize=25)\n",
    "plt.xlabel('Movies', fontsize=25)\n",
    "plt.ylabel('Worldwide Gross Revenue (Billions)', fontsize=25)\n",
    "plt.xticks(range(len(movies)), movies, rotation=35, horizontalalignment='right', fontsize=12)\n",
    "\n",
    "plt.legend(['Production Budget', 'Worldwide Net'])\n",
    "plt.savefig('fig02_Top_25_Gross')\n",
    "plt.show();"
   ]
  },
  {
   "cell_type": "code",
   "execution_count": 44,
   "metadata": {
    "ExecuteTime": {
     "end_time": "2022-02-11T15:47:42.887748Z",
     "start_time": "2022-02-11T15:47:42.860817Z"
    }
   },
   "outputs": [
    {
     "name": "stderr",
     "output_type": "stream",
     "text": [
      "C:\\Users\\ZAPTOS\\AppData\\Local\\Temp/ipykernel_13768/2454665950.py:1: FutureWarning: DataFrame.mean and DataFrame.median with numeric_only=None will include datetime64 and datetime64tz columns in a future version.\n",
      "  tn_movie_df1.mean()\n"
     ]
    },
    {
     "data": {
      "text/plain": [
       "production_budget    1.827560e+08\n",
       "worldwide_gross      1.304786e+09\n",
       "worldwide_net        1.122030e+09\n",
       "dtype: float64"
      ]
     },
     "execution_count": 44,
     "metadata": {},
     "output_type": "execute_result"
    }
   ],
   "source": [
    "tn_movie_df1.mean()"
   ]
  },
  {
   "cell_type": "code",
   "execution_count": 45,
   "metadata": {
    "ExecuteTime": {
     "end_time": "2022-02-11T15:47:43.012666Z",
     "start_time": "2022-02-11T15:47:42.891738Z"
    }
   },
   "outputs": [
    {
     "data": {
      "text/html": [
       "<div>\n",
       "<style scoped>\n",
       "    .dataframe tbody tr th:only-of-type {\n",
       "        vertical-align: middle;\n",
       "    }\n",
       "\n",
       "    .dataframe tbody tr th {\n",
       "        vertical-align: top;\n",
       "    }\n",
       "\n",
       "    .dataframe thead th {\n",
       "        text-align: right;\n",
       "    }\n",
       "</style>\n",
       "<table border=\"1\" class=\"dataframe\">\n",
       "  <thead>\n",
       "    <tr style=\"text-align: right;\">\n",
       "      <th></th>\n",
       "      <th>release_date</th>\n",
       "      <th>production_budget</th>\n",
       "      <th>worldwide_gross</th>\n",
       "      <th>worldwide_net</th>\n",
       "    </tr>\n",
       "    <tr>\n",
       "      <th>movie</th>\n",
       "      <th></th>\n",
       "      <th></th>\n",
       "      <th></th>\n",
       "      <th></th>\n",
       "    </tr>\n",
       "  </thead>\n",
       "  <tbody>\n",
       "    <tr>\n",
       "      <th>Avengers: Infinity War</th>\n",
       "      <td>2018-04-27</td>\n",
       "      <td>300000000</td>\n",
       "      <td>2048134200</td>\n",
       "      <td>1748134200</td>\n",
       "    </tr>\n",
       "    <tr>\n",
       "      <th>Star Wars Ep. VII: The Force Awakens</th>\n",
       "      <td>2015-12-18</td>\n",
       "      <td>306000000</td>\n",
       "      <td>2053311220</td>\n",
       "      <td>1747311220</td>\n",
       "    </tr>\n",
       "    <tr>\n",
       "      <th>Jurassic World</th>\n",
       "      <td>2015-06-12</td>\n",
       "      <td>215000000</td>\n",
       "      <td>1648854864</td>\n",
       "      <td>1433854864</td>\n",
       "    </tr>\n",
       "    <tr>\n",
       "      <th>Furious 7</th>\n",
       "      <td>2015-04-03</td>\n",
       "      <td>190000000</td>\n",
       "      <td>1518722794</td>\n",
       "      <td>1328722794</td>\n",
       "    </tr>\n",
       "    <tr>\n",
       "      <th>The Avengers</th>\n",
       "      <td>2012-05-04</td>\n",
       "      <td>225000000</td>\n",
       "      <td>1517935897</td>\n",
       "      <td>1292935897</td>\n",
       "    </tr>\n",
       "  </tbody>\n",
       "</table>\n",
       "</div>"
      ],
      "text/plain": [
       "                                     release_date  production_budget  \\\n",
       "movie                                                                  \n",
       "Avengers: Infinity War                 2018-04-27          300000000   \n",
       "Star Wars Ep. VII: The Force Awakens   2015-12-18          306000000   \n",
       "Jurassic World                         2015-06-12          215000000   \n",
       "Furious 7                              2015-04-03          190000000   \n",
       "The Avengers                           2012-05-04          225000000   \n",
       "\n",
       "                                      worldwide_gross  worldwide_net  \n",
       "movie                                                                 \n",
       "Avengers: Infinity War                     2048134200     1748134200  \n",
       "Star Wars Ep. VII: The Force Awakens       2053311220     1747311220  \n",
       "Jurassic World                             1648854864     1433854864  \n",
       "Furious 7                                  1518722794     1328722794  \n",
       "The Avengers                               1517935897     1292935897  "
      ]
     },
     "execution_count": 45,
     "metadata": {},
     "output_type": "execute_result"
    }
   ],
   "source": [
    "tn_movie_df1.head()"
   ]
  },
  {
   "cell_type": "markdown",
   "metadata": {},
   "source": [
    "##### Question 1 Conclusion: \n",
    "\n",
    "Question #1: What are the most profitable movies and how are the production budgets related?\n",
    "\n",
    "Recommendation #1: We discovered that the highest grossed movies are not equal to the movies with the most profits. Meaning that pouring money into a movie does not guarantee a success in the box office. Instead, the top 25 most profitable movies were investigated, and found that the mean production budget is $182,756,000.00 and is the recommended production budget for a successful movie\n",
    "\n",
    "Top 25 Profitable Movies average values are\n",
    "\n",
    "    1. production_budget   $ 182,756,000.00\n",
    "2. worldwide_gross   $ 1,304,786,000.00\n",
    "    3. worldwide_net     $ 1,122,030,000.00\n"
   ]
  },
  {
   "cell_type": "markdown",
   "metadata": {},
   "source": [
    "### Question 2:\n",
    "##### Which movie studio made the most profitable movies?\n",
    "\n",
    "Lets find our biggest competitors"
   ]
  },
  {
   "cell_type": "code",
   "execution_count": 46,
   "metadata": {
    "ExecuteTime": {
     "end_time": "2022-02-11T15:47:48.631224Z",
     "start_time": "2022-02-11T15:47:48.608285Z"
    }
   },
   "outputs": [
    {
     "data": {
      "text/html": [
       "<div>\n",
       "<style scoped>\n",
       "    .dataframe tbody tr th:only-of-type {\n",
       "        vertical-align: middle;\n",
       "    }\n",
       "\n",
       "    .dataframe tbody tr th {\n",
       "        vertical-align: top;\n",
       "    }\n",
       "\n",
       "    .dataframe thead th {\n",
       "        text-align: right;\n",
       "    }\n",
       "</style>\n",
       "<table border=\"1\" class=\"dataframe\">\n",
       "  <thead>\n",
       "    <tr style=\"text-align: right;\">\n",
       "      <th></th>\n",
       "      <th>studio</th>\n",
       "      <th>domestic_gross</th>\n",
       "      <th>foreign_gross</th>\n",
       "      <th>year</th>\n",
       "    </tr>\n",
       "    <tr>\n",
       "      <th>title</th>\n",
       "      <th></th>\n",
       "      <th></th>\n",
       "      <th></th>\n",
       "      <th></th>\n",
       "    </tr>\n",
       "  </thead>\n",
       "  <tbody>\n",
       "    <tr>\n",
       "      <th>Toy Story 3</th>\n",
       "      <td>BV</td>\n",
       "      <td>415000000.0</td>\n",
       "      <td>652000000</td>\n",
       "      <td>2010</td>\n",
       "    </tr>\n",
       "    <tr>\n",
       "      <th>Alice in Wonderland (2010)</th>\n",
       "      <td>BV</td>\n",
       "      <td>334200000.0</td>\n",
       "      <td>691300000</td>\n",
       "      <td>2010</td>\n",
       "    </tr>\n",
       "    <tr>\n",
       "      <th>Harry Potter and the Deathly Hallows Part 1</th>\n",
       "      <td>WB</td>\n",
       "      <td>296000000.0</td>\n",
       "      <td>664300000</td>\n",
       "      <td>2010</td>\n",
       "    </tr>\n",
       "    <tr>\n",
       "      <th>Inception</th>\n",
       "      <td>WB</td>\n",
       "      <td>292600000.0</td>\n",
       "      <td>535700000</td>\n",
       "      <td>2010</td>\n",
       "    </tr>\n",
       "    <tr>\n",
       "      <th>Shrek Forever After</th>\n",
       "      <td>P/DW</td>\n",
       "      <td>238700000.0</td>\n",
       "      <td>513900000</td>\n",
       "      <td>2010</td>\n",
       "    </tr>\n",
       "  </tbody>\n",
       "</table>\n",
       "</div>"
      ],
      "text/plain": [
       "                                            studio  domestic_gross  \\\n",
       "title                                                                \n",
       "Toy Story 3                                     BV     415000000.0   \n",
       "Alice in Wonderland (2010)                      BV     334200000.0   \n",
       "Harry Potter and the Deathly Hallows Part 1     WB     296000000.0   \n",
       "Inception                                       WB     292600000.0   \n",
       "Shrek Forever After                           P/DW     238700000.0   \n",
       "\n",
       "                                            foreign_gross  year  \n",
       "title                                                            \n",
       "Toy Story 3                                     652000000  2010  \n",
       "Alice in Wonderland (2010)                      691300000  2010  \n",
       "Harry Potter and the Deathly Hallows Part 1     664300000  2010  \n",
       "Inception                                       535700000  2010  \n",
       "Shrek Forever After                             513900000  2010  "
      ]
     },
     "execution_count": 46,
     "metadata": {},
     "output_type": "execute_result"
    }
   ],
   "source": [
    "bom_movie_gross_df = csv_files_dict['bom_movie_gross_gz']\n",
    "bom_movie_gross_df.head()"
   ]
  },
  {
   "cell_type": "code",
   "execution_count": 47,
   "metadata": {
    "ExecuteTime": {
     "end_time": "2022-02-11T15:47:49.186879Z",
     "start_time": "2022-02-11T15:47:49.167928Z"
    }
   },
   "outputs": [
    {
     "data": {
      "text/plain": [
       "(3387, 4)"
      ]
     },
     "execution_count": 47,
     "metadata": {},
     "output_type": "execute_result"
    }
   ],
   "source": [
    "bom_movie_gross_df.shape"
   ]
  },
  {
   "cell_type": "code",
   "execution_count": 48,
   "metadata": {
    "ExecuteTime": {
     "end_time": "2022-02-11T15:47:49.703707Z",
     "start_time": "2022-02-11T15:47:49.690740Z"
    }
   },
   "outputs": [
    {
     "data": {
      "text/html": [
       "<div>\n",
       "<style scoped>\n",
       "    .dataframe tbody tr th:only-of-type {\n",
       "        vertical-align: middle;\n",
       "    }\n",
       "\n",
       "    .dataframe tbody tr th {\n",
       "        vertical-align: top;\n",
       "    }\n",
       "\n",
       "    .dataframe thead th {\n",
       "        text-align: right;\n",
       "    }\n",
       "</style>\n",
       "<table border=\"1\" class=\"dataframe\">\n",
       "  <thead>\n",
       "    <tr style=\"text-align: right;\">\n",
       "      <th></th>\n",
       "      <th>studio</th>\n",
       "    </tr>\n",
       "    <tr>\n",
       "      <th>title</th>\n",
       "      <th></th>\n",
       "    </tr>\n",
       "  </thead>\n",
       "  <tbody>\n",
       "    <tr>\n",
       "      <th>Toy Story 3</th>\n",
       "      <td>BV</td>\n",
       "    </tr>\n",
       "    <tr>\n",
       "      <th>Alice in Wonderland (2010)</th>\n",
       "      <td>BV</td>\n",
       "    </tr>\n",
       "    <tr>\n",
       "      <th>Harry Potter and the Deathly Hallows Part 1</th>\n",
       "      <td>WB</td>\n",
       "    </tr>\n",
       "    <tr>\n",
       "      <th>Inception</th>\n",
       "      <td>WB</td>\n",
       "    </tr>\n",
       "    <tr>\n",
       "      <th>Shrek Forever After</th>\n",
       "      <td>P/DW</td>\n",
       "    </tr>\n",
       "  </tbody>\n",
       "</table>\n",
       "</div>"
      ],
      "text/plain": [
       "                                            studio\n",
       "title                                             \n",
       "Toy Story 3                                     BV\n",
       "Alice in Wonderland (2010)                      BV\n",
       "Harry Potter and the Deathly Hallows Part 1     WB\n",
       "Inception                                       WB\n",
       "Shrek Forever After                           P/DW"
      ]
     },
     "execution_count": 48,
     "metadata": {},
     "output_type": "execute_result"
    }
   ],
   "source": [
    "bom_movie_gross_df = bom_movie_gross_df.drop(['domestic_gross', 'foreign_gross', 'year'], axis=1)\n",
    "bom_movie_gross_df.head()"
   ]
  },
  {
   "cell_type": "code",
   "execution_count": 49,
   "metadata": {
    "ExecuteTime": {
     "end_time": "2022-02-11T15:47:50.321246Z",
     "start_time": "2022-02-11T15:47:50.305260Z"
    }
   },
   "outputs": [],
   "source": [
    "# drop movies with missing studios\n",
    "bom_movie_gross_df = bom_movie_gross_df.dropna()"
   ]
  },
  {
   "cell_type": "code",
   "execution_count": 50,
   "metadata": {
    "ExecuteTime": {
     "end_time": "2022-02-11T15:47:50.829992Z",
     "start_time": "2022-02-11T15:47:50.816978Z"
    }
   },
   "outputs": [
    {
     "data": {
      "text/plain": [
       "(3382, 1)"
      ]
     },
     "execution_count": 50,
     "metadata": {},
     "output_type": "execute_result"
    }
   ],
   "source": [
    "bom_movie_gross_df.shape"
   ]
  },
  {
   "cell_type": "code",
   "execution_count": 51,
   "metadata": {
    "ExecuteTime": {
     "end_time": "2022-02-11T15:47:51.432529Z",
     "start_time": "2022-02-11T15:47:51.392638Z"
    }
   },
   "outputs": [
    {
     "data": {
      "text/html": [
       "<div>\n",
       "<style scoped>\n",
       "    .dataframe tbody tr th:only-of-type {\n",
       "        vertical-align: middle;\n",
       "    }\n",
       "\n",
       "    .dataframe tbody tr th {\n",
       "        vertical-align: top;\n",
       "    }\n",
       "\n",
       "    .dataframe thead th {\n",
       "        text-align: right;\n",
       "    }\n",
       "</style>\n",
       "<table border=\"1\" class=\"dataframe\">\n",
       "  <thead>\n",
       "    <tr style=\"text-align: right;\">\n",
       "      <th></th>\n",
       "      <th>release_date</th>\n",
       "      <th>production_budget</th>\n",
       "      <th>worldwide_gross</th>\n",
       "      <th>worldwide_net</th>\n",
       "      <th>studio</th>\n",
       "    </tr>\n",
       "  </thead>\n",
       "  <tbody>\n",
       "    <tr>\n",
       "      <th>10 Cloverfield Lane</th>\n",
       "      <td>2016-03-11</td>\n",
       "      <td>5000000</td>\n",
       "      <td>108286422</td>\n",
       "      <td>103286422</td>\n",
       "      <td>Par.</td>\n",
       "    </tr>\n",
       "    <tr>\n",
       "      <th>12 Strong</th>\n",
       "      <td>2018-01-19</td>\n",
       "      <td>35000000</td>\n",
       "      <td>71118378</td>\n",
       "      <td>36118378</td>\n",
       "      <td>WB</td>\n",
       "    </tr>\n",
       "    <tr>\n",
       "      <th>12 Years a Slave</th>\n",
       "      <td>2013-10-18</td>\n",
       "      <td>20000000</td>\n",
       "      <td>181025343</td>\n",
       "      <td>161025343</td>\n",
       "      <td>FoxS</td>\n",
       "    </tr>\n",
       "    <tr>\n",
       "      <th>127 Hours</th>\n",
       "      <td>2010-11-05</td>\n",
       "      <td>18000000</td>\n",
       "      <td>60217171</td>\n",
       "      <td>42217171</td>\n",
       "      <td>FoxS</td>\n",
       "    </tr>\n",
       "    <tr>\n",
       "      <th>13 Hours: The Secret Soldiers of Benghazi</th>\n",
       "      <td>2016-01-15</td>\n",
       "      <td>50000000</td>\n",
       "      <td>69411370</td>\n",
       "      <td>19411370</td>\n",
       "      <td>Par.</td>\n",
       "    </tr>\n",
       "  </tbody>\n",
       "</table>\n",
       "</div>"
      ],
      "text/plain": [
       "                                          release_date  production_budget  \\\n",
       "10 Cloverfield Lane                         2016-03-11            5000000   \n",
       "12 Strong                                   2018-01-19           35000000   \n",
       "12 Years a Slave                            2013-10-18           20000000   \n",
       "127 Hours                                   2010-11-05           18000000   \n",
       "13 Hours: The Secret Soldiers of Benghazi   2016-01-15           50000000   \n",
       "\n",
       "                                           worldwide_gross  worldwide_net  \\\n",
       "10 Cloverfield Lane                              108286422      103286422   \n",
       "12 Strong                                         71118378       36118378   \n",
       "12 Years a Slave                                 181025343      161025343   \n",
       "127 Hours                                         60217171       42217171   \n",
       "13 Hours: The Secret Soldiers of Benghazi         69411370       19411370   \n",
       "\n",
       "                                          studio  \n",
       "10 Cloverfield Lane                         Par.  \n",
       "12 Strong                                     WB  \n",
       "12 Years a Slave                            FoxS  \n",
       "127 Hours                                   FoxS  \n",
       "13 Hours: The Secret Soldiers of Benghazi   Par.  "
      ]
     },
     "execution_count": 51,
     "metadata": {},
     "output_type": "execute_result"
    }
   ],
   "source": [
    "# join two dataframes together\n",
    "budget_studio_df = tn_movie_budgets_df.join(bom_movie_gross_df, how='inner')\n",
    "budget_studio_df.head()"
   ]
  },
  {
   "cell_type": "code",
   "execution_count": 52,
   "metadata": {
    "ExecuteTime": {
     "end_time": "2022-02-11T15:47:52.142234Z",
     "start_time": "2022-02-11T15:47:52.122254Z"
    }
   },
   "outputs": [
    {
     "data": {
      "text/plain": [
       "(978, 5)"
      ]
     },
     "execution_count": 52,
     "metadata": {},
     "output_type": "execute_result"
    }
   ],
   "source": [
    "budget_studio_df.shape"
   ]
  },
  {
   "cell_type": "code",
   "execution_count": 53,
   "metadata": {
    "ExecuteTime": {
     "end_time": "2022-02-11T15:47:52.724031Z",
     "start_time": "2022-02-11T15:47:52.702089Z"
    }
   },
   "outputs": [
    {
     "data": {
      "text/plain": [
       "release_date         0\n",
       "production_budget    0\n",
       "worldwide_gross      0\n",
       "worldwide_net        0\n",
       "studio               0\n",
       "dtype: int64"
      ]
     },
     "execution_count": 53,
     "metadata": {},
     "output_type": "execute_result"
    }
   ],
   "source": [
    "budget_studio_df.isna().sum()"
   ]
  },
  {
   "cell_type": "code",
   "execution_count": 54,
   "metadata": {
    "ExecuteTime": {
     "end_time": "2022-02-11T15:47:53.449486Z",
     "start_time": "2022-02-11T15:47:53.425549Z"
    }
   },
   "outputs": [
    {
     "data": {
      "text/html": [
       "<div>\n",
       "<style scoped>\n",
       "    .dataframe tbody tr th:only-of-type {\n",
       "        vertical-align: middle;\n",
       "    }\n",
       "\n",
       "    .dataframe tbody tr th {\n",
       "        vertical-align: top;\n",
       "    }\n",
       "\n",
       "    .dataframe thead th {\n",
       "        text-align: right;\n",
       "    }\n",
       "</style>\n",
       "<table border=\"1\" class=\"dataframe\">\n",
       "  <thead>\n",
       "    <tr style=\"text-align: right;\">\n",
       "      <th></th>\n",
       "      <th>release_date</th>\n",
       "      <th>production_budget</th>\n",
       "      <th>worldwide_gross</th>\n",
       "      <th>worldwide_net</th>\n",
       "      <th>studio</th>\n",
       "    </tr>\n",
       "  </thead>\n",
       "  <tbody>\n",
       "    <tr>\n",
       "      <th>10 Cloverfield Lane</th>\n",
       "      <td>2016-03-11</td>\n",
       "      <td>5000000</td>\n",
       "      <td>108286422</td>\n",
       "      <td>103286422</td>\n",
       "      <td>Par.</td>\n",
       "    </tr>\n",
       "    <tr>\n",
       "      <th>12 Strong</th>\n",
       "      <td>2018-01-19</td>\n",
       "      <td>35000000</td>\n",
       "      <td>71118378</td>\n",
       "      <td>36118378</td>\n",
       "      <td>WB</td>\n",
       "    </tr>\n",
       "    <tr>\n",
       "      <th>12 Years a Slave</th>\n",
       "      <td>2013-10-18</td>\n",
       "      <td>20000000</td>\n",
       "      <td>181025343</td>\n",
       "      <td>161025343</td>\n",
       "      <td>FoxS</td>\n",
       "    </tr>\n",
       "    <tr>\n",
       "      <th>127 Hours</th>\n",
       "      <td>2010-11-05</td>\n",
       "      <td>18000000</td>\n",
       "      <td>60217171</td>\n",
       "      <td>42217171</td>\n",
       "      <td>FoxS</td>\n",
       "    </tr>\n",
       "    <tr>\n",
       "      <th>13 Hours: The Secret Soldiers of Benghazi</th>\n",
       "      <td>2016-01-15</td>\n",
       "      <td>50000000</td>\n",
       "      <td>69411370</td>\n",
       "      <td>19411370</td>\n",
       "      <td>Par.</td>\n",
       "    </tr>\n",
       "    <tr>\n",
       "      <th>...</th>\n",
       "      <td>...</td>\n",
       "      <td>...</td>\n",
       "      <td>...</td>\n",
       "      <td>...</td>\n",
       "      <td>...</td>\n",
       "    </tr>\n",
       "    <tr>\n",
       "      <th>Zookeeper</th>\n",
       "      <td>2011-07-08</td>\n",
       "      <td>80000000</td>\n",
       "      <td>170805525</td>\n",
       "      <td>90805525</td>\n",
       "      <td>Sony</td>\n",
       "    </tr>\n",
       "    <tr>\n",
       "      <th>Zoolander 2</th>\n",
       "      <td>2016-02-12</td>\n",
       "      <td>50000000</td>\n",
       "      <td>55348693</td>\n",
       "      <td>5348693</td>\n",
       "      <td>Par.</td>\n",
       "    </tr>\n",
       "    <tr>\n",
       "      <th>Zootopia</th>\n",
       "      <td>2016-03-04</td>\n",
       "      <td>150000000</td>\n",
       "      <td>1019429616</td>\n",
       "      <td>869429616</td>\n",
       "      <td>BV</td>\n",
       "    </tr>\n",
       "    <tr>\n",
       "      <th>[Rec] 2</th>\n",
       "      <td>2010-07-09</td>\n",
       "      <td>5600000</td>\n",
       "      <td>18527766</td>\n",
       "      <td>12927766</td>\n",
       "      <td>Magn.</td>\n",
       "    </tr>\n",
       "    <tr>\n",
       "      <th>mother!</th>\n",
       "      <td>2017-09-15</td>\n",
       "      <td>30000000</td>\n",
       "      <td>42531076</td>\n",
       "      <td>12531076</td>\n",
       "      <td>Par.</td>\n",
       "    </tr>\n",
       "  </tbody>\n",
       "</table>\n",
       "<p>978 rows × 5 columns</p>\n",
       "</div>"
      ],
      "text/plain": [
       "                                          release_date  production_budget  \\\n",
       "10 Cloverfield Lane                         2016-03-11            5000000   \n",
       "12 Strong                                   2018-01-19           35000000   \n",
       "12 Years a Slave                            2013-10-18           20000000   \n",
       "127 Hours                                   2010-11-05           18000000   \n",
       "13 Hours: The Secret Soldiers of Benghazi   2016-01-15           50000000   \n",
       "...                                                ...                ...   \n",
       "Zookeeper                                   2011-07-08           80000000   \n",
       "Zoolander 2                                 2016-02-12           50000000   \n",
       "Zootopia                                    2016-03-04          150000000   \n",
       "[Rec] 2                                     2010-07-09            5600000   \n",
       "mother!                                     2017-09-15           30000000   \n",
       "\n",
       "                                           worldwide_gross  worldwide_net  \\\n",
       "10 Cloverfield Lane                              108286422      103286422   \n",
       "12 Strong                                         71118378       36118378   \n",
       "12 Years a Slave                                 181025343      161025343   \n",
       "127 Hours                                         60217171       42217171   \n",
       "13 Hours: The Secret Soldiers of Benghazi         69411370       19411370   \n",
       "...                                                    ...            ...   \n",
       "Zookeeper                                        170805525       90805525   \n",
       "Zoolander 2                                       55348693        5348693   \n",
       "Zootopia                                        1019429616      869429616   \n",
       "[Rec] 2                                           18527766       12927766   \n",
       "mother!                                           42531076       12531076   \n",
       "\n",
       "                                          studio  \n",
       "10 Cloverfield Lane                         Par.  \n",
       "12 Strong                                     WB  \n",
       "12 Years a Slave                            FoxS  \n",
       "127 Hours                                   FoxS  \n",
       "13 Hours: The Secret Soldiers of Benghazi   Par.  \n",
       "...                                          ...  \n",
       "Zookeeper                                   Sony  \n",
       "Zoolander 2                                 Par.  \n",
       "Zootopia                                      BV  \n",
       "[Rec] 2                                    Magn.  \n",
       "mother!                                     Par.  \n",
       "\n",
       "[978 rows x 5 columns]"
      ]
     },
     "execution_count": 54,
     "metadata": {},
     "output_type": "execute_result"
    }
   ],
   "source": [
    "budget_studio_df.dropna()"
   ]
  },
  {
   "cell_type": "code",
   "execution_count": 55,
   "metadata": {
    "ExecuteTime": {
     "end_time": "2022-02-11T15:47:56.389890Z",
     "start_time": "2022-02-11T15:47:56.359970Z"
    }
   },
   "outputs": [
    {
     "data": {
      "text/html": [
       "<div>\n",
       "<style scoped>\n",
       "    .dataframe tbody tr th:only-of-type {\n",
       "        vertical-align: middle;\n",
       "    }\n",
       "\n",
       "    .dataframe tbody tr th {\n",
       "        vertical-align: top;\n",
       "    }\n",
       "\n",
       "    .dataframe thead th {\n",
       "        text-align: right;\n",
       "    }\n",
       "</style>\n",
       "<table border=\"1\" class=\"dataframe\">\n",
       "  <thead>\n",
       "    <tr style=\"text-align: right;\">\n",
       "      <th></th>\n",
       "      <th>release_date</th>\n",
       "      <th>production_budget</th>\n",
       "      <th>worldwide_gross</th>\n",
       "      <th>worldwide_net</th>\n",
       "      <th>studio</th>\n",
       "    </tr>\n",
       "  </thead>\n",
       "  <tbody>\n",
       "    <tr>\n",
       "      <th>Avengers: Infinity War</th>\n",
       "      <td>2018-04-27</td>\n",
       "      <td>300000000</td>\n",
       "      <td>2048134200</td>\n",
       "      <td>1748134200</td>\n",
       "      <td>BV</td>\n",
       "    </tr>\n",
       "    <tr>\n",
       "      <th>Jurassic World</th>\n",
       "      <td>2015-06-12</td>\n",
       "      <td>215000000</td>\n",
       "      <td>1648854864</td>\n",
       "      <td>1433854864</td>\n",
       "      <td>Uni.</td>\n",
       "    </tr>\n",
       "    <tr>\n",
       "      <th>Furious 7</th>\n",
       "      <td>2015-04-03</td>\n",
       "      <td>190000000</td>\n",
       "      <td>1518722794</td>\n",
       "      <td>1328722794</td>\n",
       "      <td>Uni.</td>\n",
       "    </tr>\n",
       "    <tr>\n",
       "      <th>Black Panther</th>\n",
       "      <td>2018-02-16</td>\n",
       "      <td>200000000</td>\n",
       "      <td>1348258224</td>\n",
       "      <td>1148258224</td>\n",
       "      <td>BV</td>\n",
       "    </tr>\n",
       "    <tr>\n",
       "      <th>Jurassic World: Fallen Kingdom</th>\n",
       "      <td>2018-06-22</td>\n",
       "      <td>170000000</td>\n",
       "      <td>1305772799</td>\n",
       "      <td>1135772799</td>\n",
       "      <td>Uni.</td>\n",
       "    </tr>\n",
       "    <tr>\n",
       "      <th>Frozen</th>\n",
       "      <td>2013-11-22</td>\n",
       "      <td>150000000</td>\n",
       "      <td>1272469910</td>\n",
       "      <td>1122469910</td>\n",
       "      <td>BV</td>\n",
       "    </tr>\n",
       "    <tr>\n",
       "      <th>Minions</th>\n",
       "      <td>2015-07-10</td>\n",
       "      <td>74000000</td>\n",
       "      <td>1160336173</td>\n",
       "      <td>1086336173</td>\n",
       "      <td>Uni.</td>\n",
       "    </tr>\n",
       "    <tr>\n",
       "      <th>Avengers: Age of Ultron</th>\n",
       "      <td>2015-05-01</td>\n",
       "      <td>330600000</td>\n",
       "      <td>1403013963</td>\n",
       "      <td>1072413963</td>\n",
       "      <td>BV</td>\n",
       "    </tr>\n",
       "    <tr>\n",
       "      <th>Incredibles 2</th>\n",
       "      <td>2018-06-15</td>\n",
       "      <td>200000000</td>\n",
       "      <td>1242520711</td>\n",
       "      <td>1042520711</td>\n",
       "      <td>BV</td>\n",
       "    </tr>\n",
       "    <tr>\n",
       "      <th>Iron Man 3</th>\n",
       "      <td>2013-05-03</td>\n",
       "      <td>200000000</td>\n",
       "      <td>1215392272</td>\n",
       "      <td>1015392272</td>\n",
       "      <td>BV</td>\n",
       "    </tr>\n",
       "  </tbody>\n",
       "</table>\n",
       "</div>"
      ],
      "text/plain": [
       "                               release_date  production_budget  \\\n",
       "Avengers: Infinity War           2018-04-27          300000000   \n",
       "Jurassic World                   2015-06-12          215000000   \n",
       "Furious 7                        2015-04-03          190000000   \n",
       "Black Panther                    2018-02-16          200000000   \n",
       "Jurassic World: Fallen Kingdom   2018-06-22          170000000   \n",
       "Frozen                           2013-11-22          150000000   \n",
       "Minions                          2015-07-10           74000000   \n",
       "Avengers: Age of Ultron          2015-05-01          330600000   \n",
       "Incredibles 2                    2018-06-15          200000000   \n",
       "Iron Man 3                       2013-05-03          200000000   \n",
       "\n",
       "                                worldwide_gross  worldwide_net studio  \n",
       "Avengers: Infinity War               2048134200     1748134200     BV  \n",
       "Jurassic World                       1648854864     1433854864   Uni.  \n",
       "Furious 7                            1518722794     1328722794   Uni.  \n",
       "Black Panther                        1348258224     1148258224     BV  \n",
       "Jurassic World: Fallen Kingdom       1305772799     1135772799   Uni.  \n",
       "Frozen                               1272469910     1122469910     BV  \n",
       "Minions                              1160336173     1086336173   Uni.  \n",
       "Avengers: Age of Ultron              1403013963     1072413963     BV  \n",
       "Incredibles 2                        1242520711     1042520711     BV  \n",
       "Iron Man 3                           1215392272     1015392272     BV  "
      ]
     },
     "execution_count": 55,
     "metadata": {},
     "output_type": "execute_result"
    }
   ],
   "source": [
    "# top 10 profitable movies with studios\n",
    "budget_studio_df1 = budget_studio_df.sort_values(by='worldwide_net', ascending=False).head(10)\n",
    "budget_studio_df1"
   ]
  },
  {
   "cell_type": "markdown",
   "metadata": {},
   "source": [
    "##### Buena Vista and Universal have been dominating the box office"
   ]
  },
  {
   "cell_type": "code",
   "execution_count": 56,
   "metadata": {
    "ExecuteTime": {
     "end_time": "2022-02-11T15:47:59.297226Z",
     "start_time": "2022-02-11T15:47:59.276252Z"
    }
   },
   "outputs": [
    {
     "data": {
      "text/plain": [
       "Fox     102\n",
       "Uni.     99\n",
       "WB       89\n",
       "Sony     69\n",
       "Par.     66\n",
       "Name: studio, dtype: int64"
      ]
     },
     "execution_count": 56,
     "metadata": {},
     "output_type": "execute_result"
    }
   ],
   "source": [
    "# Studios that made the most movies\n",
    "top5_studio = budget_studio_df.studio.value_counts().head(5)\n",
    "top5_studio"
   ]
  },
  {
   "cell_type": "code",
   "execution_count": 57,
   "metadata": {
    "ExecuteTime": {
     "end_time": "2022-02-11T15:48:03.664415Z",
     "start_time": "2022-02-11T15:48:03.645466Z"
    }
   },
   "outputs": [
    {
     "data": {
      "text/plain": [
       "Fox         102\n",
       "Uni.         99\n",
       "WB           89\n",
       "Sony         69\n",
       "Par.         66\n",
       "           ... \n",
       "Kino          1\n",
       "Studio 8      1\n",
       "PNT           1\n",
       "GrtIndia      1\n",
       "Mira.         1\n",
       "Name: studio, Length: 66, dtype: int64"
      ]
     },
     "execution_count": 57,
     "metadata": {},
     "output_type": "execute_result"
    }
   ],
   "source": [
    "budget_studio_df['studio'].value_counts()"
   ]
  },
  {
   "cell_type": "code",
   "execution_count": 58,
   "metadata": {
    "ExecuteTime": {
     "end_time": "2022-02-11T15:48:04.347090Z",
     "start_time": "2022-02-11T15:48:04.320128Z"
    }
   },
   "outputs": [
    {
     "data": {
      "text/html": [
       "<div>\n",
       "<style scoped>\n",
       "    .dataframe tbody tr th:only-of-type {\n",
       "        vertical-align: middle;\n",
       "    }\n",
       "\n",
       "    .dataframe tbody tr th {\n",
       "        vertical-align: top;\n",
       "    }\n",
       "\n",
       "    .dataframe thead th {\n",
       "        text-align: right;\n",
       "    }\n",
       "</style>\n",
       "<table border=\"1\" class=\"dataframe\">\n",
       "  <thead>\n",
       "    <tr style=\"text-align: right;\">\n",
       "      <th></th>\n",
       "      <th>production_budget</th>\n",
       "      <th>worldwide_gross</th>\n",
       "      <th>worldwide_net</th>\n",
       "    </tr>\n",
       "    <tr>\n",
       "      <th>studio</th>\n",
       "      <th></th>\n",
       "      <th></th>\n",
       "      <th></th>\n",
       "    </tr>\n",
       "  </thead>\n",
       "  <tbody>\n",
       "    <tr>\n",
       "      <th>3D</th>\n",
       "      <td>5000000</td>\n",
       "      <td>16515203</td>\n",
       "      <td>11515203</td>\n",
       "    </tr>\n",
       "    <tr>\n",
       "      <th>A24</th>\n",
       "      <td>85100000</td>\n",
       "      <td>373422743</td>\n",
       "      <td>288322743</td>\n",
       "    </tr>\n",
       "    <tr>\n",
       "      <th>Affirm</th>\n",
       "      <td>7000000</td>\n",
       "      <td>31471492</td>\n",
       "      <td>24471492</td>\n",
       "    </tr>\n",
       "    <tr>\n",
       "      <th>Anch.</th>\n",
       "      <td>7500000</td>\n",
       "      <td>9778625</td>\n",
       "      <td>2278625</td>\n",
       "    </tr>\n",
       "    <tr>\n",
       "      <th>Annapurna</th>\n",
       "      <td>72000000</td>\n",
       "      <td>90742338</td>\n",
       "      <td>18742338</td>\n",
       "    </tr>\n",
       "    <tr>\n",
       "      <th>...</th>\n",
       "      <td>...</td>\n",
       "      <td>...</td>\n",
       "      <td>...</td>\n",
       "    </tr>\n",
       "    <tr>\n",
       "      <th>W/Dim.</th>\n",
       "      <td>172500000</td>\n",
       "      <td>593027548</td>\n",
       "      <td>420527548</td>\n",
       "    </tr>\n",
       "    <tr>\n",
       "      <th>WB</th>\n",
       "      <td>7627000000</td>\n",
       "      <td>21789247510</td>\n",
       "      <td>14162247510</td>\n",
       "    </tr>\n",
       "    <tr>\n",
       "      <th>WB (NL)</th>\n",
       "      <td>2006600000</td>\n",
       "      <td>8421247281</td>\n",
       "      <td>6414647281</td>\n",
       "    </tr>\n",
       "    <tr>\n",
       "      <th>Wein.</th>\n",
       "      <td>657000000</td>\n",
       "      <td>2749234686</td>\n",
       "      <td>2092234686</td>\n",
       "    </tr>\n",
       "    <tr>\n",
       "      <th>Yash</th>\n",
       "      <td>11000000</td>\n",
       "      <td>72989781</td>\n",
       "      <td>61989781</td>\n",
       "    </tr>\n",
       "  </tbody>\n",
       "</table>\n",
       "<p>66 rows × 3 columns</p>\n",
       "</div>"
      ],
      "text/plain": [
       "           production_budget  worldwide_gross  worldwide_net\n",
       "studio                                                      \n",
       "3D                   5000000         16515203       11515203\n",
       "A24                 85100000        373422743      288322743\n",
       "Affirm               7000000         31471492       24471492\n",
       "Anch.                7500000          9778625        2278625\n",
       "Annapurna           72000000         90742338       18742338\n",
       "...                      ...              ...            ...\n",
       "W/Dim.             172500000        593027548      420527548\n",
       "WB                7627000000      21789247510    14162247510\n",
       "WB (NL)           2006600000       8421247281     6414647281\n",
       "Wein.              657000000       2749234686     2092234686\n",
       "Yash                11000000         72989781       61989781\n",
       "\n",
       "[66 rows x 3 columns]"
      ]
     },
     "execution_count": 58,
     "metadata": {},
     "output_type": "execute_result"
    }
   ],
   "source": [
    "budget_studio_df.groupby(['studio']).sum()"
   ]
  },
  {
   "cell_type": "markdown",
   "metadata": {},
   "source": [
    "Sort and Aggregate the data"
   ]
  },
  {
   "cell_type": "code",
   "execution_count": 59,
   "metadata": {
    "ExecuteTime": {
     "end_time": "2022-02-11T15:48:06.578856Z",
     "start_time": "2022-02-11T15:48:06.560900Z"
    }
   },
   "outputs": [],
   "source": [
    "# sort and aggregate the data\n",
    "budget_studio_df_agg = budget_studio_df.groupby(['studio']).agg('sum')"
   ]
  },
  {
   "cell_type": "code",
   "execution_count": 60,
   "metadata": {
    "ExecuteTime": {
     "end_time": "2022-02-11T15:48:07.410052Z",
     "start_time": "2022-02-11T15:48:07.395094Z"
    }
   },
   "outputs": [
    {
     "data": {
      "text/html": [
       "<div>\n",
       "<style scoped>\n",
       "    .dataframe tbody tr th:only-of-type {\n",
       "        vertical-align: middle;\n",
       "    }\n",
       "\n",
       "    .dataframe tbody tr th {\n",
       "        vertical-align: top;\n",
       "    }\n",
       "\n",
       "    .dataframe thead th {\n",
       "        text-align: right;\n",
       "    }\n",
       "</style>\n",
       "<table border=\"1\" class=\"dataframe\">\n",
       "  <thead>\n",
       "    <tr style=\"text-align: right;\">\n",
       "      <th></th>\n",
       "      <th>production_budget</th>\n",
       "      <th>worldwide_gross</th>\n",
       "      <th>worldwide_net</th>\n",
       "    </tr>\n",
       "    <tr>\n",
       "      <th>studio</th>\n",
       "      <th></th>\n",
       "      <th></th>\n",
       "      <th></th>\n",
       "    </tr>\n",
       "  </thead>\n",
       "  <tbody>\n",
       "    <tr>\n",
       "      <th>BV</th>\n",
       "      <td>8898800000</td>\n",
       "      <td>32908386178</td>\n",
       "      <td>24009586178</td>\n",
       "    </tr>\n",
       "    <tr>\n",
       "      <th>Uni.</th>\n",
       "      <td>5439200000</td>\n",
       "      <td>26465414604</td>\n",
       "      <td>21026214604</td>\n",
       "    </tr>\n",
       "    <tr>\n",
       "      <th>Fox</th>\n",
       "      <td>7499500000</td>\n",
       "      <td>26637599733</td>\n",
       "      <td>19138099733</td>\n",
       "    </tr>\n",
       "    <tr>\n",
       "      <th>WB</th>\n",
       "      <td>7627000000</td>\n",
       "      <td>21789247510</td>\n",
       "      <td>14162247510</td>\n",
       "    </tr>\n",
       "    <tr>\n",
       "      <th>Sony</th>\n",
       "      <td>4894000000</td>\n",
       "      <td>17487527176</td>\n",
       "      <td>12593527176</td>\n",
       "    </tr>\n",
       "    <tr>\n",
       "      <th>Par.</th>\n",
       "      <td>4485000000</td>\n",
       "      <td>14252759641</td>\n",
       "      <td>9767759641</td>\n",
       "    </tr>\n",
       "    <tr>\n",
       "      <th>WB (NL)</th>\n",
       "      <td>2006600000</td>\n",
       "      <td>8421247281</td>\n",
       "      <td>6414647281</td>\n",
       "    </tr>\n",
       "    <tr>\n",
       "      <th>LGF</th>\n",
       "      <td>1833287650</td>\n",
       "      <td>6824229290</td>\n",
       "      <td>4990941640</td>\n",
       "    </tr>\n",
       "    <tr>\n",
       "      <th>P/DW</th>\n",
       "      <td>1294000000</td>\n",
       "      <td>5057237115</td>\n",
       "      <td>3763237115</td>\n",
       "    </tr>\n",
       "    <tr>\n",
       "      <th>LG/S</th>\n",
       "      <td>1181500000</td>\n",
       "      <td>3463378248</td>\n",
       "      <td>2281878248</td>\n",
       "    </tr>\n",
       "  </tbody>\n",
       "</table>\n",
       "</div>"
      ],
      "text/plain": [
       "         production_budget  worldwide_gross  worldwide_net\n",
       "studio                                                    \n",
       "BV              8898800000      32908386178    24009586178\n",
       "Uni.            5439200000      26465414604    21026214604\n",
       "Fox             7499500000      26637599733    19138099733\n",
       "WB              7627000000      21789247510    14162247510\n",
       "Sony            4894000000      17487527176    12593527176\n",
       "Par.            4485000000      14252759641     9767759641\n",
       "WB (NL)         2006600000       8421247281     6414647281\n",
       "LGF             1833287650       6824229290     4990941640\n",
       "P/DW            1294000000       5057237115     3763237115\n",
       "LG/S            1181500000       3463378248     2281878248"
      ]
     },
     "execution_count": 60,
     "metadata": {},
     "output_type": "execute_result"
    }
   ],
   "source": [
    "budget_studio_df_agg = budget_studio_df_agg.sort_values('worldwide_net', ascending=False).head(10)\n",
    "budget_studio_df_agg"
   ]
  },
  {
   "cell_type": "code",
   "execution_count": 61,
   "metadata": {
    "ExecuteTime": {
     "end_time": "2022-02-11T15:48:10.792404Z",
     "start_time": "2022-02-11T15:48:10.777411Z"
    }
   },
   "outputs": [
    {
     "data": {
      "text/plain": [
       "Index(['BV', 'Uni.', 'Fox', 'WB', 'Sony', 'Par.', 'WB (NL)', 'LGF', 'P/DW',\n",
       "       'LG/S'],\n",
       "      dtype='object', name='studio')"
      ]
     },
     "execution_count": 61,
     "metadata": {},
     "output_type": "execute_result"
    }
   ],
   "source": [
    "budget_studio_df_agg.index"
   ]
  },
  {
   "cell_type": "code",
   "execution_count": 62,
   "metadata": {
    "ExecuteTime": {
     "end_time": "2022-02-11T15:48:11.374574Z",
     "start_time": "2022-02-11T15:48:11.362603Z"
    }
   },
   "outputs": [],
   "source": [
    "font = {'family' : 'Arial', \n",
    "        'weight' : 'bold', \n",
    "        'size' : 15}\n",
    "\n",
    "plt.rc('font', **font)"
   ]
  },
  {
   "cell_type": "code",
   "execution_count": 63,
   "metadata": {
    "ExecuteTime": {
     "end_time": "2022-02-11T15:48:12.722002Z",
     "start_time": "2022-02-11T15:48:12.269170Z"
    }
   },
   "outputs": [
    {
     "data": {
      "image/png": "[encoded data removed]",
      "text/plain": [
       "<Figure size 1080x576 with 1 Axes>"
      ]
     },
     "metadata": {
      "needs_background": "light"
     },
     "output_type": "display_data"
    }
   ],
   "source": [
    "plt.figure(figsize=(15,8))\n",
    "\n",
    "studios = budget_studio_df_agg.index\n",
    "budget_gross = budget_studio_df_agg.production_budget\n",
    "ww_net = budget_studio_df_agg.worldwide_net\n",
    "ww_gross = budget_studio_df_agg.worldwide_gross\n",
    "\n",
    "plt.bar(range(len(studios)), budget_gross, color='black')\n",
    "plt.bar(range(len(studios)), ww_net, color='mediumspringgreen', bottom=budget_gross)\n",
    "plt.title('Top 10 Studios Gross Revenue', fontsize=25)\n",
    "plt.xlabel('Studios', fontsize=25)\n",
    "plt.ylabel('Worldwide Gross Revenue (Billions)', fontsize=25)\n",
    "plt.xticks(range(len(studios)), studios)\n",
    "\n",
    "plt.legend(['Production Budget', 'Worldwide Net'])\n",
    "plt.savefig('fig03_Top10_studios')\n",
    "plt.show();"
   ]
  },
  {
   "cell_type": "code",
   "execution_count": 64,
   "metadata": {
    "ExecuteTime": {
     "end_time": "2022-02-11T15:48:13.511184Z",
     "start_time": "2022-02-11T15:48:13.470261Z"
    }
   },
   "outputs": [
    {
     "data": {
      "text/html": [
       "<div>\n",
       "<style scoped>\n",
       "    .dataframe tbody tr th:only-of-type {\n",
       "        vertical-align: middle;\n",
       "    }\n",
       "\n",
       "    .dataframe tbody tr th {\n",
       "        vertical-align: top;\n",
       "    }\n",
       "\n",
       "    .dataframe thead th {\n",
       "        text-align: right;\n",
       "    }\n",
       "</style>\n",
       "<table border=\"1\" class=\"dataframe\">\n",
       "  <thead>\n",
       "    <tr style=\"text-align: right;\">\n",
       "      <th></th>\n",
       "      <th>production_budget</th>\n",
       "      <th>worldwide_gross</th>\n",
       "      <th>worldwide_net</th>\n",
       "    </tr>\n",
       "  </thead>\n",
       "  <tbody>\n",
       "    <tr>\n",
       "      <th>count</th>\n",
       "      <td>1.000000e+01</td>\n",
       "      <td>1.000000e+01</td>\n",
       "      <td>1.000000e+01</td>\n",
       "    </tr>\n",
       "    <tr>\n",
       "      <th>mean</th>\n",
       "      <td>4.515889e+09</td>\n",
       "      <td>1.633070e+10</td>\n",
       "      <td>1.181481e+10</td>\n",
       "    </tr>\n",
       "    <tr>\n",
       "      <th>std</th>\n",
       "      <td>2.863154e+09</td>\n",
       "      <td>1.035378e+10</td>\n",
       "      <td>7.666173e+09</td>\n",
       "    </tr>\n",
       "    <tr>\n",
       "      <th>min</th>\n",
       "      <td>1.181500e+09</td>\n",
       "      <td>3.463378e+09</td>\n",
       "      <td>2.281878e+09</td>\n",
       "    </tr>\n",
       "    <tr>\n",
       "      <th>25%</th>\n",
       "      <td>1.876616e+09</td>\n",
       "      <td>7.223484e+09</td>\n",
       "      <td>5.346868e+09</td>\n",
       "    </tr>\n",
       "    <tr>\n",
       "      <th>50%</th>\n",
       "      <td>4.689500e+09</td>\n",
       "      <td>1.587014e+10</td>\n",
       "      <td>1.118064e+10</td>\n",
       "    </tr>\n",
       "    <tr>\n",
       "      <th>75%</th>\n",
       "      <td>6.984425e+09</td>\n",
       "      <td>2.529637e+10</td>\n",
       "      <td>1.789414e+10</td>\n",
       "    </tr>\n",
       "    <tr>\n",
       "      <th>max</th>\n",
       "      <td>8.898800e+09</td>\n",
       "      <td>3.290839e+10</td>\n",
       "      <td>2.400959e+10</td>\n",
       "    </tr>\n",
       "  </tbody>\n",
       "</table>\n",
       "</div>"
      ],
      "text/plain": [
       "       production_budget  worldwide_gross  worldwide_net\n",
       "count       1.000000e+01     1.000000e+01   1.000000e+01\n",
       "mean        4.515889e+09     1.633070e+10   1.181481e+10\n",
       "std         2.863154e+09     1.035378e+10   7.666173e+09\n",
       "min         1.181500e+09     3.463378e+09   2.281878e+09\n",
       "25%         1.876616e+09     7.223484e+09   5.346868e+09\n",
       "50%         4.689500e+09     1.587014e+10   1.118064e+10\n",
       "75%         6.984425e+09     2.529637e+10   1.789414e+10\n",
       "max         8.898800e+09     3.290839e+10   2.400959e+10"
      ]
     },
     "execution_count": 64,
     "metadata": {},
     "output_type": "execute_result"
    }
   ],
   "source": [
    "budget_studio_df_agg.describe()"
   ]
  },
  {
   "cell_type": "code",
   "execution_count": 65,
   "metadata": {
    "ExecuteTime": {
     "end_time": "2022-02-11T15:48:14.095917Z",
     "start_time": "2022-02-11T15:48:14.083949Z"
    }
   },
   "outputs": [
    {
     "data": {
      "text/plain": [
       "production_budget    4.689500e+09\n",
       "worldwide_gross      1.587014e+10\n",
       "worldwide_net        1.118064e+10\n",
       "dtype: float64"
      ]
     },
     "execution_count": 65,
     "metadata": {},
     "output_type": "execute_result"
    }
   ],
   "source": [
    "budget_studio_df_agg.median()"
   ]
  },
  {
   "cell_type": "code",
   "execution_count": 66,
   "metadata": {
    "ExecuteTime": {
     "end_time": "2022-02-11T15:48:14.555690Z",
     "start_time": "2022-02-11T15:48:14.543727Z"
    }
   },
   "outputs": [
    {
     "data": {
      "text/html": [
       "<div>\n",
       "<style scoped>\n",
       "    .dataframe tbody tr th:only-of-type {\n",
       "        vertical-align: middle;\n",
       "    }\n",
       "\n",
       "    .dataframe tbody tr th {\n",
       "        vertical-align: top;\n",
       "    }\n",
       "\n",
       "    .dataframe thead th {\n",
       "        text-align: right;\n",
       "    }\n",
       "</style>\n",
       "<table border=\"1\" class=\"dataframe\">\n",
       "  <thead>\n",
       "    <tr style=\"text-align: right;\">\n",
       "      <th></th>\n",
       "      <th>production_budget</th>\n",
       "      <th>worldwide_gross</th>\n",
       "      <th>worldwide_net</th>\n",
       "    </tr>\n",
       "    <tr>\n",
       "      <th>studio</th>\n",
       "      <th></th>\n",
       "      <th></th>\n",
       "      <th></th>\n",
       "    </tr>\n",
       "  </thead>\n",
       "  <tbody>\n",
       "    <tr>\n",
       "      <th>BV</th>\n",
       "      <td>8898800000</td>\n",
       "      <td>32908386178</td>\n",
       "      <td>24009586178</td>\n",
       "    </tr>\n",
       "    <tr>\n",
       "      <th>Uni.</th>\n",
       "      <td>5439200000</td>\n",
       "      <td>26465414604</td>\n",
       "      <td>21026214604</td>\n",
       "    </tr>\n",
       "    <tr>\n",
       "      <th>Fox</th>\n",
       "      <td>7499500000</td>\n",
       "      <td>26637599733</td>\n",
       "      <td>19138099733</td>\n",
       "    </tr>\n",
       "    <tr>\n",
       "      <th>WB</th>\n",
       "      <td>7627000000</td>\n",
       "      <td>21789247510</td>\n",
       "      <td>14162247510</td>\n",
       "    </tr>\n",
       "    <tr>\n",
       "      <th>Sony</th>\n",
       "      <td>4894000000</td>\n",
       "      <td>17487527176</td>\n",
       "      <td>12593527176</td>\n",
       "    </tr>\n",
       "  </tbody>\n",
       "</table>\n",
       "</div>"
      ],
      "text/plain": [
       "        production_budget  worldwide_gross  worldwide_net\n",
       "studio                                                   \n",
       "BV             8898800000      32908386178    24009586178\n",
       "Uni.           5439200000      26465414604    21026214604\n",
       "Fox            7499500000      26637599733    19138099733\n",
       "WB             7627000000      21789247510    14162247510\n",
       "Sony           4894000000      17487527176    12593527176"
      ]
     },
     "execution_count": 66,
     "metadata": {},
     "output_type": "execute_result"
    }
   ],
   "source": [
    "budget_studio_df_agg.head()"
   ]
  },
  {
   "cell_type": "markdown",
   "metadata": {},
   "source": [
    "#####  Question 2 Conclusions:\n",
    "\n",
    "Question #2: Which movie studios are some of the biggest competitors?\n",
    "\n",
    "Recommendation #2: Similarly, the top 5 movie studios that make the most movies are the not the same as the top 5 movie studios that made the most profits. \n",
    "\n",
    "The top five studios that make the most movies are not the top 5 studios that make the most profit. The competition should focus on the top 5 profitable studios\n",
    "\n",
    "##### The top 5 studios that made the most movies are in order \n",
    "1. Fox             102\n",
    "2. Universal       99\n",
    "3. Warner Brothers 89 \n",
    "4. Sony            69\n",
    "5. Paramount       66 \n",
    "\n",
    "##### The top 5 studios that made the most profit are in order\n",
    "    1. Buena Vista $23 Billion\n",
    "2. Universal   $21 Billion\n",
    "    3. Fox         $19 Billion\n",
    "4. Warner Bros $14 Billion\n",
    "    5. Sony        $12 Billion"
   ]
  },
  {
   "cell_type": "markdown",
   "metadata": {},
   "source": [
    "### Question 3:\n",
    "##### What are the most common and profitable genres?\n",
    "\n",
    "##### Gross Revenue by Genre\n",
    "\n",
    "Lets explore movie genres that made the most profit"
   ]
  },
  {
   "cell_type": "code",
   "execution_count": 67,
   "metadata": {
    "ExecuteTime": {
     "end_time": "2022-02-11T15:48:15.108211Z",
     "start_time": "2022-02-11T15:48:15.101229Z"
    }
   },
   "outputs": [
    {
     "data": {
      "text/plain": [
       "(146144, 5)"
      ]
     },
     "execution_count": 67,
     "metadata": {},
     "output_type": "execute_result"
    }
   ],
   "source": [
    "imdb_title_basics_df = csv_files_dict['imdb_title_basics_gz']\n",
    "imdb_title_basics_df.shape"
   ]
  },
  {
   "cell_type": "code",
   "execution_count": 68,
   "metadata": {
    "ExecuteTime": {
     "end_time": "2022-02-11T15:48:15.658736Z",
     "start_time": "2022-02-11T15:48:15.630812Z"
    }
   },
   "outputs": [
    {
     "data": {
      "text/html": [
       "<div>\n",
       "<style scoped>\n",
       "    .dataframe tbody tr th:only-of-type {\n",
       "        vertical-align: middle;\n",
       "    }\n",
       "\n",
       "    .dataframe tbody tr th {\n",
       "        vertical-align: top;\n",
       "    }\n",
       "\n",
       "    .dataframe thead th {\n",
       "        text-align: right;\n",
       "    }\n",
       "</style>\n",
       "<table border=\"1\" class=\"dataframe\">\n",
       "  <thead>\n",
       "    <tr style=\"text-align: right;\">\n",
       "      <th></th>\n",
       "      <th>primary_title</th>\n",
       "      <th>original_title</th>\n",
       "      <th>start_year</th>\n",
       "      <th>runtime_minutes</th>\n",
       "      <th>genres</th>\n",
       "    </tr>\n",
       "    <tr>\n",
       "      <th>tconst</th>\n",
       "      <th></th>\n",
       "      <th></th>\n",
       "      <th></th>\n",
       "      <th></th>\n",
       "      <th></th>\n",
       "    </tr>\n",
       "  </thead>\n",
       "  <tbody>\n",
       "    <tr>\n",
       "      <th>tt0063540</th>\n",
       "      <td>Sunghursh</td>\n",
       "      <td>Sunghursh</td>\n",
       "      <td>2013</td>\n",
       "      <td>175.0</td>\n",
       "      <td>Action,Crime,Drama</td>\n",
       "    </tr>\n",
       "    <tr>\n",
       "      <th>tt0066787</th>\n",
       "      <td>One Day Before the Rainy Season</td>\n",
       "      <td>Ashad Ka Ek Din</td>\n",
       "      <td>2019</td>\n",
       "      <td>114.0</td>\n",
       "      <td>Biography,Drama</td>\n",
       "    </tr>\n",
       "    <tr>\n",
       "      <th>tt0069049</th>\n",
       "      <td>The Other Side of the Wind</td>\n",
       "      <td>The Other Side of the Wind</td>\n",
       "      <td>2018</td>\n",
       "      <td>122.0</td>\n",
       "      <td>Drama</td>\n",
       "    </tr>\n",
       "    <tr>\n",
       "      <th>tt0069204</th>\n",
       "      <td>Sabse Bada Sukh</td>\n",
       "      <td>Sabse Bada Sukh</td>\n",
       "      <td>2018</td>\n",
       "      <td>NaN</td>\n",
       "      <td>Comedy,Drama</td>\n",
       "    </tr>\n",
       "    <tr>\n",
       "      <th>tt0100275</th>\n",
       "      <td>The Wandering Soap Opera</td>\n",
       "      <td>La Telenovela Errante</td>\n",
       "      <td>2017</td>\n",
       "      <td>80.0</td>\n",
       "      <td>Comedy,Drama,Fantasy</td>\n",
       "    </tr>\n",
       "  </tbody>\n",
       "</table>\n",
       "</div>"
      ],
      "text/plain": [
       "                             primary_title              original_title  \\\n",
       "tconst                                                                   \n",
       "tt0063540                        Sunghursh                   Sunghursh   \n",
       "tt0066787  One Day Before the Rainy Season             Ashad Ka Ek Din   \n",
       "tt0069049       The Other Side of the Wind  The Other Side of the Wind   \n",
       "tt0069204                  Sabse Bada Sukh             Sabse Bada Sukh   \n",
       "tt0100275         The Wandering Soap Opera       La Telenovela Errante   \n",
       "\n",
       "           start_year  runtime_minutes                genres  \n",
       "tconst                                                        \n",
       "tt0063540        2013            175.0    Action,Crime,Drama  \n",
       "tt0066787        2019            114.0       Biography,Drama  \n",
       "tt0069049        2018            122.0                 Drama  \n",
       "tt0069204        2018              NaN          Comedy,Drama  \n",
       "tt0100275        2017             80.0  Comedy,Drama,Fantasy  "
      ]
     },
     "execution_count": 68,
     "metadata": {},
     "output_type": "execute_result"
    }
   ],
   "source": [
    "imdb_title_basics_df.head()"
   ]
  },
  {
   "cell_type": "code",
   "execution_count": 69,
   "metadata": {
    "ExecuteTime": {
     "end_time": "2022-02-11T15:48:16.183336Z",
     "start_time": "2022-02-11T15:48:16.154413Z"
    }
   },
   "outputs": [
    {
     "data": {
      "text/html": [
       "<div>\n",
       "<style scoped>\n",
       "    .dataframe tbody tr th:only-of-type {\n",
       "        vertical-align: middle;\n",
       "    }\n",
       "\n",
       "    .dataframe tbody tr th {\n",
       "        vertical-align: top;\n",
       "    }\n",
       "\n",
       "    .dataframe thead th {\n",
       "        text-align: right;\n",
       "    }\n",
       "</style>\n",
       "<table border=\"1\" class=\"dataframe\">\n",
       "  <thead>\n",
       "    <tr style=\"text-align: right;\">\n",
       "      <th></th>\n",
       "      <th>primary_title</th>\n",
       "      <th>genres</th>\n",
       "    </tr>\n",
       "    <tr>\n",
       "      <th>tconst</th>\n",
       "      <th></th>\n",
       "      <th></th>\n",
       "    </tr>\n",
       "  </thead>\n",
       "  <tbody>\n",
       "    <tr>\n",
       "      <th>tt0063540</th>\n",
       "      <td>Sunghursh</td>\n",
       "      <td>Action,Crime,Drama</td>\n",
       "    </tr>\n",
       "    <tr>\n",
       "      <th>tt0066787</th>\n",
       "      <td>One Day Before the Rainy Season</td>\n",
       "      <td>Biography,Drama</td>\n",
       "    </tr>\n",
       "    <tr>\n",
       "      <th>tt0069049</th>\n",
       "      <td>The Other Side of the Wind</td>\n",
       "      <td>Drama</td>\n",
       "    </tr>\n",
       "    <tr>\n",
       "      <th>tt0069204</th>\n",
       "      <td>Sabse Bada Sukh</td>\n",
       "      <td>Comedy,Drama</td>\n",
       "    </tr>\n",
       "    <tr>\n",
       "      <th>tt0100275</th>\n",
       "      <td>The Wandering Soap Opera</td>\n",
       "      <td>Comedy,Drama,Fantasy</td>\n",
       "    </tr>\n",
       "  </tbody>\n",
       "</table>\n",
       "</div>"
      ],
      "text/plain": [
       "                             primary_title                genres\n",
       "tconst                                                          \n",
       "tt0063540                        Sunghursh    Action,Crime,Drama\n",
       "tt0066787  One Day Before the Rainy Season       Biography,Drama\n",
       "tt0069049       The Other Side of the Wind                 Drama\n",
       "tt0069204                  Sabse Bada Sukh          Comedy,Drama\n",
       "tt0100275         The Wandering Soap Opera  Comedy,Drama,Fantasy"
      ]
     },
     "execution_count": 69,
     "metadata": {},
     "output_type": "execute_result"
    }
   ],
   "source": [
    "imdb_title_basics_df = imdb_title_basics_df.drop(['start_year', 'runtime_minutes', 'original_title'], axis=1)\n",
    "imdb_title_basics_df.head()"
   ]
  },
  {
   "cell_type": "code",
   "execution_count": 70,
   "metadata": {
    "ExecuteTime": {
     "end_time": "2022-02-11T15:48:16.341910Z",
     "start_time": "2022-02-11T15:48:16.191314Z"
    }
   },
   "outputs": [
    {
     "data": {
      "text/plain": [
       "primary_title       0\n",
       "genres           5408\n",
       "dtype: int64"
      ]
     },
     "execution_count": 70,
     "metadata": {},
     "output_type": "execute_result"
    }
   ],
   "source": [
    "imdb_title_basics_df.isna().sum()"
   ]
  },
  {
   "cell_type": "code",
   "execution_count": 71,
   "metadata": {
    "ExecuteTime": {
     "end_time": "2022-02-11T15:48:17.353252Z",
     "start_time": "2022-02-11T15:48:17.308372Z"
    }
   },
   "outputs": [],
   "source": [
    "imdb_title_basics_df = imdb_title_basics_df.dropna()"
   ]
  },
  {
   "cell_type": "code",
   "execution_count": 72,
   "metadata": {
    "ExecuteTime": {
     "end_time": "2022-02-11T15:48:17.844388Z",
     "start_time": "2022-02-11T15:48:17.815433Z"
    }
   },
   "outputs": [
    {
     "data": {
      "text/plain": [
       "primary_title    0\n",
       "genres           0\n",
       "dtype: int64"
      ]
     },
     "execution_count": 72,
     "metadata": {},
     "output_type": "execute_result"
    }
   ],
   "source": [
    "imdb_title_basics_df.isna().sum()"
   ]
  },
  {
   "cell_type": "code",
   "execution_count": 73,
   "metadata": {
    "ExecuteTime": {
     "end_time": "2022-02-11T15:48:18.808215Z",
     "start_time": "2022-02-11T15:48:18.400867Z"
    }
   },
   "outputs": [],
   "source": [
    "# explode method used to seperate genres\n",
    "imdb_title_basics_df_explode = imdb_title_basics_df.assign(genres=imdb_title_basics_df.genres.str.split(',')).explode('genres')"
   ]
  },
  {
   "cell_type": "code",
   "execution_count": 74,
   "metadata": {
    "ExecuteTime": {
     "end_time": "2022-02-11T15:48:19.314145Z",
     "start_time": "2022-02-11T15:48:19.301864Z"
    }
   },
   "outputs": [
    {
     "data": {
      "text/html": [
       "<div>\n",
       "<style scoped>\n",
       "    .dataframe tbody tr th:only-of-type {\n",
       "        vertical-align: middle;\n",
       "    }\n",
       "\n",
       "    .dataframe tbody tr th {\n",
       "        vertical-align: top;\n",
       "    }\n",
       "\n",
       "    .dataframe thead th {\n",
       "        text-align: right;\n",
       "    }\n",
       "</style>\n",
       "<table border=\"1\" class=\"dataframe\">\n",
       "  <thead>\n",
       "    <tr style=\"text-align: right;\">\n",
       "      <th></th>\n",
       "      <th>primary_title</th>\n",
       "      <th>genres</th>\n",
       "    </tr>\n",
       "    <tr>\n",
       "      <th>tconst</th>\n",
       "      <th></th>\n",
       "      <th></th>\n",
       "    </tr>\n",
       "  </thead>\n",
       "  <tbody>\n",
       "    <tr>\n",
       "      <th>tt0063540</th>\n",
       "      <td>Sunghursh</td>\n",
       "      <td>Action</td>\n",
       "    </tr>\n",
       "    <tr>\n",
       "      <th>tt0063540</th>\n",
       "      <td>Sunghursh</td>\n",
       "      <td>Crime</td>\n",
       "    </tr>\n",
       "    <tr>\n",
       "      <th>tt0063540</th>\n",
       "      <td>Sunghursh</td>\n",
       "      <td>Drama</td>\n",
       "    </tr>\n",
       "    <tr>\n",
       "      <th>tt0066787</th>\n",
       "      <td>One Day Before the Rainy Season</td>\n",
       "      <td>Biography</td>\n",
       "    </tr>\n",
       "    <tr>\n",
       "      <th>tt0066787</th>\n",
       "      <td>One Day Before the Rainy Season</td>\n",
       "      <td>Drama</td>\n",
       "    </tr>\n",
       "  </tbody>\n",
       "</table>\n",
       "</div>"
      ],
      "text/plain": [
       "                             primary_title     genres\n",
       "tconst                                               \n",
       "tt0063540                        Sunghursh     Action\n",
       "tt0063540                        Sunghursh      Crime\n",
       "tt0063540                        Sunghursh      Drama\n",
       "tt0066787  One Day Before the Rainy Season  Biography\n",
       "tt0066787  One Day Before the Rainy Season      Drama"
      ]
     },
     "execution_count": 74,
     "metadata": {},
     "output_type": "execute_result"
    }
   ],
   "source": [
    "imdb_title_basics_df_explode.head()"
   ]
  },
  {
   "cell_type": "code",
   "execution_count": 75,
   "metadata": {
    "ExecuteTime": {
     "end_time": "2022-02-11T15:48:19.932701Z",
     "start_time": "2022-02-11T15:48:19.819794Z"
    }
   },
   "outputs": [
    {
     "data": {
      "text/plain": [
       "False    223085\n",
       "True       6465\n",
       "dtype: int64"
      ]
     },
     "execution_count": 75,
     "metadata": {},
     "output_type": "execute_result"
    }
   ],
   "source": [
    "imdb_title_basics_df_explode.duplicated().value_counts()"
   ]
  },
  {
   "cell_type": "code",
   "execution_count": 76,
   "metadata": {
    "ExecuteTime": {
     "end_time": "2022-02-11T15:48:20.452551Z",
     "start_time": "2022-02-11T15:48:20.440545Z"
    }
   },
   "outputs": [
    {
     "data": {
      "text/plain": [
       "(229550, 2)"
      ]
     },
     "execution_count": 76,
     "metadata": {},
     "output_type": "execute_result"
    }
   ],
   "source": [
    "imdb_title_basics_df_explode.shape"
   ]
  },
  {
   "cell_type": "code",
   "execution_count": 77,
   "metadata": {
    "ExecuteTime": {
     "end_time": "2022-02-11T15:48:21.052701Z",
     "start_time": "2022-02-11T15:48:20.930236Z"
    }
   },
   "outputs": [],
   "source": [
    "imdb_title_basics_df_explode = imdb_title_basics_df_explode.drop_duplicates()"
   ]
  },
  {
   "cell_type": "code",
   "execution_count": 78,
   "metadata": {
    "ExecuteTime": {
     "end_time": "2022-02-11T15:48:21.606182Z",
     "start_time": "2022-02-11T15:48:21.592220Z"
    }
   },
   "outputs": [
    {
     "data": {
      "text/plain": [
       "(223085, 2)"
      ]
     },
     "execution_count": 78,
     "metadata": {},
     "output_type": "execute_result"
    }
   ],
   "source": [
    "imdb_title_basics_df_explode.shape"
   ]
  },
  {
   "cell_type": "code",
   "execution_count": 79,
   "metadata": {
    "ExecuteTime": {
     "end_time": "2022-02-11T15:48:22.125793Z",
     "start_time": "2022-02-11T15:48:22.111832Z"
    }
   },
   "outputs": [
    {
     "data": {
      "text/html": [
       "<div>\n",
       "<style scoped>\n",
       "    .dataframe tbody tr th:only-of-type {\n",
       "        vertical-align: middle;\n",
       "    }\n",
       "\n",
       "    .dataframe tbody tr th {\n",
       "        vertical-align: top;\n",
       "    }\n",
       "\n",
       "    .dataframe thead th {\n",
       "        text-align: right;\n",
       "    }\n",
       "</style>\n",
       "<table border=\"1\" class=\"dataframe\">\n",
       "  <thead>\n",
       "    <tr style=\"text-align: right;\">\n",
       "      <th></th>\n",
       "      <th>primary_title</th>\n",
       "      <th>genres</th>\n",
       "    </tr>\n",
       "    <tr>\n",
       "      <th>tconst</th>\n",
       "      <th></th>\n",
       "      <th></th>\n",
       "    </tr>\n",
       "  </thead>\n",
       "  <tbody>\n",
       "    <tr>\n",
       "      <th>tt0063540</th>\n",
       "      <td>Sunghursh</td>\n",
       "      <td>Action</td>\n",
       "    </tr>\n",
       "    <tr>\n",
       "      <th>tt0063540</th>\n",
       "      <td>Sunghursh</td>\n",
       "      <td>Crime</td>\n",
       "    </tr>\n",
       "    <tr>\n",
       "      <th>tt0063540</th>\n",
       "      <td>Sunghursh</td>\n",
       "      <td>Drama</td>\n",
       "    </tr>\n",
       "    <tr>\n",
       "      <th>tt0066787</th>\n",
       "      <td>One Day Before the Rainy Season</td>\n",
       "      <td>Biography</td>\n",
       "    </tr>\n",
       "    <tr>\n",
       "      <th>tt0066787</th>\n",
       "      <td>One Day Before the Rainy Season</td>\n",
       "      <td>Drama</td>\n",
       "    </tr>\n",
       "  </tbody>\n",
       "</table>\n",
       "</div>"
      ],
      "text/plain": [
       "                             primary_title     genres\n",
       "tconst                                               \n",
       "tt0063540                        Sunghursh     Action\n",
       "tt0063540                        Sunghursh      Crime\n",
       "tt0063540                        Sunghursh      Drama\n",
       "tt0066787  One Day Before the Rainy Season  Biography\n",
       "tt0066787  One Day Before the Rainy Season      Drama"
      ]
     },
     "execution_count": 79,
     "metadata": {},
     "output_type": "execute_result"
    }
   ],
   "source": [
    "imdb_title_basics_df_explode.head()"
   ]
  },
  {
   "cell_type": "code",
   "execution_count": 80,
   "metadata": {
    "ExecuteTime": {
     "end_time": "2022-02-11T15:48:22.724195Z",
     "start_time": "2022-02-11T15:48:22.616481Z"
    }
   },
   "outputs": [],
   "source": [
    "imdb_title_basics_df_explode = imdb_title_basics_df_explode.drop_duplicates(subset='primary_title')"
   ]
  },
  {
   "cell_type": "code",
   "execution_count": 81,
   "metadata": {
    "ExecuteTime": {
     "end_time": "2022-02-11T15:48:23.263890Z",
     "start_time": "2022-02-11T15:48:23.219014Z"
    }
   },
   "outputs": [
    {
     "name": "stdout",
     "output_type": "stream",
     "text": [
      "<class 'pandas.core.frame.DataFrame'>\n",
      "Index: 131336 entries, tt0063540 to tt9916754\n",
      "Data columns (total 2 columns):\n",
      " #   Column         Non-Null Count   Dtype \n",
      "---  ------         --------------   ----- \n",
      " 0   primary_title  131336 non-null  object\n",
      " 1   genres         131336 non-null  object\n",
      "dtypes: object(2)\n",
      "memory usage: 3.0+ MB\n"
     ]
    }
   ],
   "source": [
    "imdb_title_basics_df_explode.info()"
   ]
  },
  {
   "cell_type": "code",
   "execution_count": 82,
   "metadata": {
    "ExecuteTime": {
     "end_time": "2022-02-11T15:48:23.787527Z",
     "start_time": "2022-02-11T15:48:23.725693Z"
    }
   },
   "outputs": [
    {
     "data": {
      "text/html": [
       "<div>\n",
       "<style scoped>\n",
       "    .dataframe tbody tr th:only-of-type {\n",
       "        vertical-align: middle;\n",
       "    }\n",
       "\n",
       "    .dataframe tbody tr th {\n",
       "        vertical-align: top;\n",
       "    }\n",
       "\n",
       "    .dataframe thead th {\n",
       "        text-align: right;\n",
       "    }\n",
       "</style>\n",
       "<table border=\"1\" class=\"dataframe\">\n",
       "  <thead>\n",
       "    <tr style=\"text-align: right;\">\n",
       "      <th></th>\n",
       "      <th>primary_title</th>\n",
       "      <th>genres</th>\n",
       "    </tr>\n",
       "    <tr>\n",
       "      <th>tconst</th>\n",
       "      <th></th>\n",
       "      <th></th>\n",
       "    </tr>\n",
       "  </thead>\n",
       "  <tbody>\n",
       "    <tr>\n",
       "      <th>tt0063540</th>\n",
       "      <td>Sunghursh</td>\n",
       "      <td>Action</td>\n",
       "    </tr>\n",
       "    <tr>\n",
       "      <th>tt0066787</th>\n",
       "      <td>One Day Before the Rainy Season</td>\n",
       "      <td>Biography</td>\n",
       "    </tr>\n",
       "    <tr>\n",
       "      <th>tt0069049</th>\n",
       "      <td>The Other Side of the Wind</td>\n",
       "      <td>Drama</td>\n",
       "    </tr>\n",
       "    <tr>\n",
       "      <th>tt0069204</th>\n",
       "      <td>Sabse Bada Sukh</td>\n",
       "      <td>Comedy</td>\n",
       "    </tr>\n",
       "    <tr>\n",
       "      <th>tt0100275</th>\n",
       "      <td>The Wandering Soap Opera</td>\n",
       "      <td>Comedy</td>\n",
       "    </tr>\n",
       "    <tr>\n",
       "      <th>...</th>\n",
       "      <td>...</td>\n",
       "      <td>...</td>\n",
       "    </tr>\n",
       "    <tr>\n",
       "      <th>tt9916428</th>\n",
       "      <td>The Secret of China</td>\n",
       "      <td>Adventure</td>\n",
       "    </tr>\n",
       "    <tr>\n",
       "      <th>tt9916538</th>\n",
       "      <td>Kuambil Lagi Hatiku</td>\n",
       "      <td>Drama</td>\n",
       "    </tr>\n",
       "    <tr>\n",
       "      <th>tt9916622</th>\n",
       "      <td>Rodolpho Teóphilo - O Legado de um Pioneiro</td>\n",
       "      <td>Documentary</td>\n",
       "    </tr>\n",
       "    <tr>\n",
       "      <th>tt9916706</th>\n",
       "      <td>Dankyavar Danka</td>\n",
       "      <td>Comedy</td>\n",
       "    </tr>\n",
       "    <tr>\n",
       "      <th>tt9916754</th>\n",
       "      <td>Chico Albuquerque - Revelações</td>\n",
       "      <td>Documentary</td>\n",
       "    </tr>\n",
       "  </tbody>\n",
       "</table>\n",
       "<p>131336 rows × 2 columns</p>\n",
       "</div>"
      ],
      "text/plain": [
       "                                         primary_title       genres\n",
       "tconst                                                             \n",
       "tt0063540                                    Sunghursh       Action\n",
       "tt0066787              One Day Before the Rainy Season    Biography\n",
       "tt0069049                   The Other Side of the Wind        Drama\n",
       "tt0069204                              Sabse Bada Sukh       Comedy\n",
       "tt0100275                     The Wandering Soap Opera       Comedy\n",
       "...                                                ...          ...\n",
       "tt9916428                          The Secret of China    Adventure\n",
       "tt9916538                          Kuambil Lagi Hatiku        Drama\n",
       "tt9916622  Rodolpho Teóphilo - O Legado de um Pioneiro  Documentary\n",
       "tt9916706                              Dankyavar Danka       Comedy\n",
       "tt9916754               Chico Albuquerque - Revelações  Documentary\n",
       "\n",
       "[131336 rows x 2 columns]"
      ]
     },
     "execution_count": 82,
     "metadata": {},
     "output_type": "execute_result"
    }
   ],
   "source": [
    "imdb_title_basics_df_explode.dropna()"
   ]
  },
  {
   "cell_type": "code",
   "execution_count": 83,
   "metadata": {
    "ExecuteTime": {
     "end_time": "2022-02-11T15:48:24.278959Z",
     "start_time": "2022-02-11T15:48:24.264993Z"
    }
   },
   "outputs": [
    {
     "data": {
      "text/html": [
       "<div>\n",
       "<style scoped>\n",
       "    .dataframe tbody tr th:only-of-type {\n",
       "        vertical-align: middle;\n",
       "    }\n",
       "\n",
       "    .dataframe tbody tr th {\n",
       "        vertical-align: top;\n",
       "    }\n",
       "\n",
       "    .dataframe thead th {\n",
       "        text-align: right;\n",
       "    }\n",
       "</style>\n",
       "<table border=\"1\" class=\"dataframe\">\n",
       "  <thead>\n",
       "    <tr style=\"text-align: right;\">\n",
       "      <th></th>\n",
       "      <th>primary_title</th>\n",
       "      <th>genres</th>\n",
       "    </tr>\n",
       "    <tr>\n",
       "      <th>tconst</th>\n",
       "      <th></th>\n",
       "      <th></th>\n",
       "    </tr>\n",
       "  </thead>\n",
       "  <tbody>\n",
       "    <tr>\n",
       "      <th>tt0063540</th>\n",
       "      <td>Sunghursh</td>\n",
       "      <td>Action</td>\n",
       "    </tr>\n",
       "    <tr>\n",
       "      <th>tt0066787</th>\n",
       "      <td>One Day Before the Rainy Season</td>\n",
       "      <td>Biography</td>\n",
       "    </tr>\n",
       "    <tr>\n",
       "      <th>tt0069049</th>\n",
       "      <td>The Other Side of the Wind</td>\n",
       "      <td>Drama</td>\n",
       "    </tr>\n",
       "    <tr>\n",
       "      <th>tt0069204</th>\n",
       "      <td>Sabse Bada Sukh</td>\n",
       "      <td>Comedy</td>\n",
       "    </tr>\n",
       "    <tr>\n",
       "      <th>tt0100275</th>\n",
       "      <td>The Wandering Soap Opera</td>\n",
       "      <td>Comedy</td>\n",
       "    </tr>\n",
       "  </tbody>\n",
       "</table>\n",
       "</div>"
      ],
      "text/plain": [
       "                             primary_title     genres\n",
       "tconst                                               \n",
       "tt0063540                        Sunghursh     Action\n",
       "tt0066787  One Day Before the Rainy Season  Biography\n",
       "tt0069049       The Other Side of the Wind      Drama\n",
       "tt0069204                  Sabse Bada Sukh     Comedy\n",
       "tt0100275         The Wandering Soap Opera     Comedy"
      ]
     },
     "execution_count": 83,
     "metadata": {},
     "output_type": "execute_result"
    }
   ],
   "source": [
    "imdb_title_basics_df_explode.head()"
   ]
  },
  {
   "cell_type": "code",
   "execution_count": 84,
   "metadata": {
    "ExecuteTime": {
     "end_time": "2022-02-11T15:48:24.754259Z",
     "start_time": "2022-02-11T15:48:24.741271Z"
    }
   },
   "outputs": [
    {
     "data": {
      "text/plain": [
       "(131336, 2)"
      ]
     },
     "execution_count": 84,
     "metadata": {},
     "output_type": "execute_result"
    }
   ],
   "source": [
    "imdb_title_basics_df_explode.shape"
   ]
  },
  {
   "cell_type": "code",
   "execution_count": 85,
   "metadata": {
    "ExecuteTime": {
     "end_time": "2022-02-11T15:48:25.229524Z",
     "start_time": "2022-02-11T15:48:25.216561Z"
    }
   },
   "outputs": [
    {
     "data": {
      "text/html": [
       "<div>\n",
       "<style scoped>\n",
       "    .dataframe tbody tr th:only-of-type {\n",
       "        vertical-align: middle;\n",
       "    }\n",
       "\n",
       "    .dataframe tbody tr th {\n",
       "        vertical-align: top;\n",
       "    }\n",
       "\n",
       "    .dataframe thead th {\n",
       "        text-align: right;\n",
       "    }\n",
       "</style>\n",
       "<table border=\"1\" class=\"dataframe\">\n",
       "  <thead>\n",
       "    <tr style=\"text-align: right;\">\n",
       "      <th></th>\n",
       "      <th>primary_title</th>\n",
       "      <th>genres</th>\n",
       "    </tr>\n",
       "    <tr>\n",
       "      <th>tconst</th>\n",
       "      <th></th>\n",
       "      <th></th>\n",
       "    </tr>\n",
       "  </thead>\n",
       "  <tbody>\n",
       "    <tr>\n",
       "      <th>tt0063540</th>\n",
       "      <td>Sunghursh</td>\n",
       "      <td>Action</td>\n",
       "    </tr>\n",
       "    <tr>\n",
       "      <th>tt0066787</th>\n",
       "      <td>One Day Before the Rainy Season</td>\n",
       "      <td>Biography</td>\n",
       "    </tr>\n",
       "    <tr>\n",
       "      <th>tt0069049</th>\n",
       "      <td>The Other Side of the Wind</td>\n",
       "      <td>Drama</td>\n",
       "    </tr>\n",
       "    <tr>\n",
       "      <th>tt0069204</th>\n",
       "      <td>Sabse Bada Sukh</td>\n",
       "      <td>Comedy</td>\n",
       "    </tr>\n",
       "    <tr>\n",
       "      <th>tt0100275</th>\n",
       "      <td>The Wandering Soap Opera</td>\n",
       "      <td>Comedy</td>\n",
       "    </tr>\n",
       "  </tbody>\n",
       "</table>\n",
       "</div>"
      ],
      "text/plain": [
       "                             primary_title     genres\n",
       "tconst                                               \n",
       "tt0063540                        Sunghursh     Action\n",
       "tt0066787  One Day Before the Rainy Season  Biography\n",
       "tt0069049       The Other Side of the Wind      Drama\n",
       "tt0069204                  Sabse Bada Sukh     Comedy\n",
       "tt0100275         The Wandering Soap Opera     Comedy"
      ]
     },
     "execution_count": 85,
     "metadata": {},
     "output_type": "execute_result"
    }
   ],
   "source": [
    "imdb_title_basics_df_explode.head()"
   ]
  },
  {
   "cell_type": "code",
   "execution_count": 86,
   "metadata": {
    "ExecuteTime": {
     "end_time": "2022-02-11T15:48:25.721476Z",
     "start_time": "2022-02-11T15:48:25.707463Z"
    }
   },
   "outputs": [
    {
     "data": {
      "text/plain": [
       "(131336, 2)"
      ]
     },
     "execution_count": 86,
     "metadata": {},
     "output_type": "execute_result"
    }
   ],
   "source": [
    "imdb_title_basics_df_explode.shape"
   ]
  },
  {
   "cell_type": "code",
   "execution_count": 87,
   "metadata": {
    "ExecuteTime": {
     "end_time": "2022-02-11T15:48:26.323224Z",
     "start_time": "2022-02-11T15:48:26.262353Z"
    }
   },
   "outputs": [
    {
     "data": {
      "text/html": [
       "<div>\n",
       "<style scoped>\n",
       "    .dataframe tbody tr th:only-of-type {\n",
       "        vertical-align: middle;\n",
       "    }\n",
       "\n",
       "    .dataframe tbody tr th {\n",
       "        vertical-align: top;\n",
       "    }\n",
       "\n",
       "    .dataframe thead th {\n",
       "        text-align: right;\n",
       "    }\n",
       "</style>\n",
       "<table border=\"1\" class=\"dataframe\">\n",
       "  <thead>\n",
       "    <tr style=\"text-align: right;\">\n",
       "      <th></th>\n",
       "      <th>primary_title</th>\n",
       "      <th>genres</th>\n",
       "    </tr>\n",
       "    <tr>\n",
       "      <th>tconst</th>\n",
       "      <th></th>\n",
       "      <th></th>\n",
       "    </tr>\n",
       "  </thead>\n",
       "  <tbody>\n",
       "    <tr>\n",
       "      <th>tt0063540</th>\n",
       "      <td>Sunghursh</td>\n",
       "      <td>Action</td>\n",
       "    </tr>\n",
       "    <tr>\n",
       "      <th>tt0066787</th>\n",
       "      <td>One Day Before the Rainy Season</td>\n",
       "      <td>Biography</td>\n",
       "    </tr>\n",
       "    <tr>\n",
       "      <th>tt0069049</th>\n",
       "      <td>The Other Side of the Wind</td>\n",
       "      <td>Drama</td>\n",
       "    </tr>\n",
       "    <tr>\n",
       "      <th>tt0069204</th>\n",
       "      <td>Sabse Bada Sukh</td>\n",
       "      <td>Comedy</td>\n",
       "    </tr>\n",
       "    <tr>\n",
       "      <th>tt0100275</th>\n",
       "      <td>The Wandering Soap Opera</td>\n",
       "      <td>Comedy</td>\n",
       "    </tr>\n",
       "    <tr>\n",
       "      <th>...</th>\n",
       "      <td>...</td>\n",
       "      <td>...</td>\n",
       "    </tr>\n",
       "    <tr>\n",
       "      <th>tt9916428</th>\n",
       "      <td>The Secret of China</td>\n",
       "      <td>Adventure</td>\n",
       "    </tr>\n",
       "    <tr>\n",
       "      <th>tt9916538</th>\n",
       "      <td>Kuambil Lagi Hatiku</td>\n",
       "      <td>Drama</td>\n",
       "    </tr>\n",
       "    <tr>\n",
       "      <th>tt9916622</th>\n",
       "      <td>Rodolpho Teóphilo - O Legado de um Pioneiro</td>\n",
       "      <td>Documentary</td>\n",
       "    </tr>\n",
       "    <tr>\n",
       "      <th>tt9916706</th>\n",
       "      <td>Dankyavar Danka</td>\n",
       "      <td>Comedy</td>\n",
       "    </tr>\n",
       "    <tr>\n",
       "      <th>tt9916754</th>\n",
       "      <td>Chico Albuquerque - Revelações</td>\n",
       "      <td>Documentary</td>\n",
       "    </tr>\n",
       "  </tbody>\n",
       "</table>\n",
       "<p>131336 rows × 2 columns</p>\n",
       "</div>"
      ],
      "text/plain": [
       "                                         primary_title       genres\n",
       "tconst                                                             \n",
       "tt0063540                                    Sunghursh       Action\n",
       "tt0066787              One Day Before the Rainy Season    Biography\n",
       "tt0069049                   The Other Side of the Wind        Drama\n",
       "tt0069204                              Sabse Bada Sukh       Comedy\n",
       "tt0100275                     The Wandering Soap Opera       Comedy\n",
       "...                                                ...          ...\n",
       "tt9916428                          The Secret of China    Adventure\n",
       "tt9916538                          Kuambil Lagi Hatiku        Drama\n",
       "tt9916622  Rodolpho Teóphilo - O Legado de um Pioneiro  Documentary\n",
       "tt9916706                              Dankyavar Danka       Comedy\n",
       "tt9916754               Chico Albuquerque - Revelações  Documentary\n",
       "\n",
       "[131336 rows x 2 columns]"
      ]
     },
     "execution_count": 87,
     "metadata": {},
     "output_type": "execute_result"
    }
   ],
   "source": [
    "imdb_title_basics_df_explode.dropna()"
   ]
  },
  {
   "cell_type": "code",
   "execution_count": 88,
   "metadata": {
    "ExecuteTime": {
     "end_time": "2022-02-11T15:48:26.799079Z",
     "start_time": "2022-02-11T15:48:26.770159Z"
    }
   },
   "outputs": [
    {
     "data": {
      "text/html": [
       "<div>\n",
       "<style scoped>\n",
       "    .dataframe tbody tr th:only-of-type {\n",
       "        vertical-align: middle;\n",
       "    }\n",
       "\n",
       "    .dataframe tbody tr th {\n",
       "        vertical-align: top;\n",
       "    }\n",
       "\n",
       "    .dataframe thead th {\n",
       "        text-align: right;\n",
       "    }\n",
       "</style>\n",
       "<table border=\"1\" class=\"dataframe\">\n",
       "  <thead>\n",
       "    <tr style=\"text-align: right;\">\n",
       "      <th></th>\n",
       "      <th>tconst</th>\n",
       "      <th>primary_title</th>\n",
       "      <th>genres</th>\n",
       "    </tr>\n",
       "  </thead>\n",
       "  <tbody>\n",
       "    <tr>\n",
       "      <th>0</th>\n",
       "      <td>tt0063540</td>\n",
       "      <td>Sunghursh</td>\n",
       "      <td>Action</td>\n",
       "    </tr>\n",
       "    <tr>\n",
       "      <th>1</th>\n",
       "      <td>tt0066787</td>\n",
       "      <td>One Day Before the Rainy Season</td>\n",
       "      <td>Biography</td>\n",
       "    </tr>\n",
       "    <tr>\n",
       "      <th>2</th>\n",
       "      <td>tt0069049</td>\n",
       "      <td>The Other Side of the Wind</td>\n",
       "      <td>Drama</td>\n",
       "    </tr>\n",
       "    <tr>\n",
       "      <th>3</th>\n",
       "      <td>tt0069204</td>\n",
       "      <td>Sabse Bada Sukh</td>\n",
       "      <td>Comedy</td>\n",
       "    </tr>\n",
       "    <tr>\n",
       "      <th>4</th>\n",
       "      <td>tt0100275</td>\n",
       "      <td>The Wandering Soap Opera</td>\n",
       "      <td>Comedy</td>\n",
       "    </tr>\n",
       "    <tr>\n",
       "      <th>...</th>\n",
       "      <td>...</td>\n",
       "      <td>...</td>\n",
       "      <td>...</td>\n",
       "    </tr>\n",
       "    <tr>\n",
       "      <th>131331</th>\n",
       "      <td>tt9916428</td>\n",
       "      <td>The Secret of China</td>\n",
       "      <td>Adventure</td>\n",
       "    </tr>\n",
       "    <tr>\n",
       "      <th>131332</th>\n",
       "      <td>tt9916538</td>\n",
       "      <td>Kuambil Lagi Hatiku</td>\n",
       "      <td>Drama</td>\n",
       "    </tr>\n",
       "    <tr>\n",
       "      <th>131333</th>\n",
       "      <td>tt9916622</td>\n",
       "      <td>Rodolpho Teóphilo - O Legado de um Pioneiro</td>\n",
       "      <td>Documentary</td>\n",
       "    </tr>\n",
       "    <tr>\n",
       "      <th>131334</th>\n",
       "      <td>tt9916706</td>\n",
       "      <td>Dankyavar Danka</td>\n",
       "      <td>Comedy</td>\n",
       "    </tr>\n",
       "    <tr>\n",
       "      <th>131335</th>\n",
       "      <td>tt9916754</td>\n",
       "      <td>Chico Albuquerque - Revelações</td>\n",
       "      <td>Documentary</td>\n",
       "    </tr>\n",
       "  </tbody>\n",
       "</table>\n",
       "<p>131336 rows × 3 columns</p>\n",
       "</div>"
      ],
      "text/plain": [
       "           tconst                                primary_title       genres\n",
       "0       tt0063540                                    Sunghursh       Action\n",
       "1       tt0066787              One Day Before the Rainy Season    Biography\n",
       "2       tt0069049                   The Other Side of the Wind        Drama\n",
       "3       tt0069204                              Sabse Bada Sukh       Comedy\n",
       "4       tt0100275                     The Wandering Soap Opera       Comedy\n",
       "...           ...                                          ...          ...\n",
       "131331  tt9916428                          The Secret of China    Adventure\n",
       "131332  tt9916538                          Kuambil Lagi Hatiku        Drama\n",
       "131333  tt9916622  Rodolpho Teóphilo - O Legado de um Pioneiro  Documentary\n",
       "131334  tt9916706                              Dankyavar Danka       Comedy\n",
       "131335  tt9916754               Chico Albuquerque - Revelações  Documentary\n",
       "\n",
       "[131336 rows x 3 columns]"
      ]
     },
     "execution_count": 88,
     "metadata": {},
     "output_type": "execute_result"
    }
   ],
   "source": [
    "imdb_title_basics_df_explode.reset_index()"
   ]
  },
  {
   "cell_type": "code",
   "execution_count": 89,
   "metadata": {
    "ExecuteTime": {
     "end_time": "2022-02-11T15:48:27.337535Z",
     "start_time": "2022-02-11T15:48:27.291849Z"
    }
   },
   "outputs": [],
   "source": [
    "#Do a count of all movies grouped by genre.\n",
    "movie_by_genre = imdb_title_basics_df_explode.groupby('genres', as_index=False)['primary_title'].count().sort_values(by='primary_title', ascending=False)"
   ]
  },
  {
   "cell_type": "code",
   "execution_count": 90,
   "metadata": {
    "ExecuteTime": {
     "end_time": "2022-02-11T15:48:27.812682Z",
     "start_time": "2022-02-11T15:48:27.800328Z"
    }
   },
   "outputs": [],
   "source": [
    "movie_by_genre = movie_by_genre.head(10)"
   ]
  },
  {
   "cell_type": "code",
   "execution_count": 91,
   "metadata": {
    "ExecuteTime": {
     "end_time": "2022-02-11T15:48:28.288690Z",
     "start_time": "2022-02-11T15:48:28.274728Z"
    }
   },
   "outputs": [
    {
     "data": {
      "text/html": [
       "<div>\n",
       "<style scoped>\n",
       "    .dataframe tbody tr th:only-of-type {\n",
       "        vertical-align: middle;\n",
       "    }\n",
       "\n",
       "    .dataframe tbody tr th {\n",
       "        vertical-align: top;\n",
       "    }\n",
       "\n",
       "    .dataframe thead th {\n",
       "        text-align: right;\n",
       "    }\n",
       "</style>\n",
       "<table border=\"1\" class=\"dataframe\">\n",
       "  <thead>\n",
       "    <tr style=\"text-align: right;\">\n",
       "      <th></th>\n",
       "      <th>genres</th>\n",
       "      <th>primary_title</th>\n",
       "    </tr>\n",
       "  </thead>\n",
       "  <tbody>\n",
       "    <tr>\n",
       "      <th>7</th>\n",
       "      <td>Documentary</td>\n",
       "      <td>39816</td>\n",
       "    </tr>\n",
       "    <tr>\n",
       "      <th>8</th>\n",
       "      <td>Drama</td>\n",
       "      <td>28226</td>\n",
       "    </tr>\n",
       "    <tr>\n",
       "      <th>5</th>\n",
       "      <td>Comedy</td>\n",
       "      <td>20389</td>\n",
       "    </tr>\n",
       "    <tr>\n",
       "      <th>0</th>\n",
       "      <td>Action</td>\n",
       "      <td>9541</td>\n",
       "    </tr>\n",
       "    <tr>\n",
       "      <th>4</th>\n",
       "      <td>Biography</td>\n",
       "      <td>7656</td>\n",
       "    </tr>\n",
       "    <tr>\n",
       "      <th>13</th>\n",
       "      <td>Horror</td>\n",
       "      <td>6039</td>\n",
       "    </tr>\n",
       "    <tr>\n",
       "      <th>2</th>\n",
       "      <td>Adventure</td>\n",
       "      <td>4502</td>\n",
       "    </tr>\n",
       "    <tr>\n",
       "      <th>6</th>\n",
       "      <td>Crime</td>\n",
       "      <td>3540</td>\n",
       "    </tr>\n",
       "    <tr>\n",
       "      <th>24</th>\n",
       "      <td>Thriller</td>\n",
       "      <td>2659</td>\n",
       "    </tr>\n",
       "    <tr>\n",
       "      <th>3</th>\n",
       "      <td>Animation</td>\n",
       "      <td>1760</td>\n",
       "    </tr>\n",
       "  </tbody>\n",
       "</table>\n",
       "</div>"
      ],
      "text/plain": [
       "         genres  primary_title\n",
       "7   Documentary          39816\n",
       "8         Drama          28226\n",
       "5        Comedy          20389\n",
       "0        Action           9541\n",
       "4     Biography           7656\n",
       "13       Horror           6039\n",
       "2     Adventure           4502\n",
       "6         Crime           3540\n",
       "24     Thriller           2659\n",
       "3     Animation           1760"
      ]
     },
     "execution_count": 91,
     "metadata": {},
     "output_type": "execute_result"
    }
   ],
   "source": [
    "movie_by_genre"
   ]
  },
  {
   "cell_type": "code",
   "execution_count": 92,
   "metadata": {
    "ExecuteTime": {
     "end_time": "2022-02-11T15:48:29.121802Z",
     "start_time": "2022-02-11T15:48:28.766767Z"
    },
    "scrolled": true
   },
   "outputs": [
    {
     "data": {
      "image/png": "[encoded data removed]",
      "text/plain": [
       "<Figure size 1080x576 with 1 Axes>"
      ]
     },
     "metadata": {
      "needs_background": "light"
     },
     "output_type": "display_data"
    }
   ],
   "source": [
    "#Plot the above findings.\n",
    "plt.figure(figsize=(15,8))\n",
    "ax3 = sns.barplot(x=movie_by_genre['primary_title'], y=movie_by_genre['genres'], palette='GnBu_d')\n",
    "plt.xlabel('Movie Count', fontsize=12)\n",
    "plt.ylabel('Genre', fontsize=12)\n",
    "plt.title('Movie Count By Genre', fontsize=14)\n",
    "plt.savefig('fig04_CountGenre');"
   ]
  },
  {
   "cell_type": "markdown",
   "metadata": {},
   "source": [
    "##### We can see that that the top 5 genres produced are:\n",
    "1. Documentary\n",
    "2. Drama\n",
    "3. Comedy\n",
    "4. Action\n",
    "5. Biography\n",
    "\n",
    "We can see that documentary, drama and comedy dominate the quantity of movie genres but do popular genres make the most profit?"
   ]
  },
  {
   "cell_type": "code",
   "execution_count": 93,
   "metadata": {
    "ExecuteTime": {
     "end_time": "2022-02-11T15:48:29.628648Z",
     "start_time": "2022-02-11T15:48:29.614686Z"
    }
   },
   "outputs": [
    {
     "data": {
      "text/html": [
       "<div>\n",
       "<style scoped>\n",
       "    .dataframe tbody tr th:only-of-type {\n",
       "        vertical-align: middle;\n",
       "    }\n",
       "\n",
       "    .dataframe tbody tr th {\n",
       "        vertical-align: top;\n",
       "    }\n",
       "\n",
       "    .dataframe thead th {\n",
       "        text-align: right;\n",
       "    }\n",
       "</style>\n",
       "<table border=\"1\" class=\"dataframe\">\n",
       "  <thead>\n",
       "    <tr style=\"text-align: right;\">\n",
       "      <th></th>\n",
       "      <th>primary_title</th>\n",
       "      <th>genres</th>\n",
       "    </tr>\n",
       "    <tr>\n",
       "      <th>tconst</th>\n",
       "      <th></th>\n",
       "      <th></th>\n",
       "    </tr>\n",
       "  </thead>\n",
       "  <tbody>\n",
       "    <tr>\n",
       "      <th>tt0063540</th>\n",
       "      <td>Sunghursh</td>\n",
       "      <td>Action</td>\n",
       "    </tr>\n",
       "    <tr>\n",
       "      <th>tt0066787</th>\n",
       "      <td>One Day Before the Rainy Season</td>\n",
       "      <td>Biography</td>\n",
       "    </tr>\n",
       "    <tr>\n",
       "      <th>tt0069049</th>\n",
       "      <td>The Other Side of the Wind</td>\n",
       "      <td>Drama</td>\n",
       "    </tr>\n",
       "    <tr>\n",
       "      <th>tt0069204</th>\n",
       "      <td>Sabse Bada Sukh</td>\n",
       "      <td>Comedy</td>\n",
       "    </tr>\n",
       "    <tr>\n",
       "      <th>tt0100275</th>\n",
       "      <td>The Wandering Soap Opera</td>\n",
       "      <td>Comedy</td>\n",
       "    </tr>\n",
       "  </tbody>\n",
       "</table>\n",
       "</div>"
      ],
      "text/plain": [
       "                             primary_title     genres\n",
       "tconst                                               \n",
       "tt0063540                        Sunghursh     Action\n",
       "tt0066787  One Day Before the Rainy Season  Biography\n",
       "tt0069049       The Other Side of the Wind      Drama\n",
       "tt0069204                  Sabse Bada Sukh     Comedy\n",
       "tt0100275         The Wandering Soap Opera     Comedy"
      ]
     },
     "execution_count": 93,
     "metadata": {},
     "output_type": "execute_result"
    }
   ],
   "source": [
    "imdb_title_basics_df_explode.head()"
   ]
  },
  {
   "cell_type": "code",
   "execution_count": 94,
   "metadata": {
    "ExecuteTime": {
     "end_time": "2022-02-11T15:48:30.135514Z",
     "start_time": "2022-02-11T15:48:30.121550Z"
    }
   },
   "outputs": [],
   "source": [
    "imdb_title_basics_df_explode = imdb_title_basics_df_explode.reset_index()"
   ]
  },
  {
   "cell_type": "code",
   "execution_count": 95,
   "metadata": {
    "ExecuteTime": {
     "end_time": "2022-02-11T15:48:30.659150Z",
     "start_time": "2022-02-11T15:48:30.645188Z"
    }
   },
   "outputs": [
    {
     "data": {
      "text/html": [
       "<div>\n",
       "<style scoped>\n",
       "    .dataframe tbody tr th:only-of-type {\n",
       "        vertical-align: middle;\n",
       "    }\n",
       "\n",
       "    .dataframe tbody tr th {\n",
       "        vertical-align: top;\n",
       "    }\n",
       "\n",
       "    .dataframe thead th {\n",
       "        text-align: right;\n",
       "    }\n",
       "</style>\n",
       "<table border=\"1\" class=\"dataframe\">\n",
       "  <thead>\n",
       "    <tr style=\"text-align: right;\">\n",
       "      <th></th>\n",
       "      <th>tconst</th>\n",
       "      <th>primary_title</th>\n",
       "      <th>genres</th>\n",
       "    </tr>\n",
       "  </thead>\n",
       "  <tbody>\n",
       "    <tr>\n",
       "      <th>0</th>\n",
       "      <td>tt0063540</td>\n",
       "      <td>Sunghursh</td>\n",
       "      <td>Action</td>\n",
       "    </tr>\n",
       "    <tr>\n",
       "      <th>1</th>\n",
       "      <td>tt0066787</td>\n",
       "      <td>One Day Before the Rainy Season</td>\n",
       "      <td>Biography</td>\n",
       "    </tr>\n",
       "    <tr>\n",
       "      <th>2</th>\n",
       "      <td>tt0069049</td>\n",
       "      <td>The Other Side of the Wind</td>\n",
       "      <td>Drama</td>\n",
       "    </tr>\n",
       "    <tr>\n",
       "      <th>3</th>\n",
       "      <td>tt0069204</td>\n",
       "      <td>Sabse Bada Sukh</td>\n",
       "      <td>Comedy</td>\n",
       "    </tr>\n",
       "    <tr>\n",
       "      <th>4</th>\n",
       "      <td>tt0100275</td>\n",
       "      <td>The Wandering Soap Opera</td>\n",
       "      <td>Comedy</td>\n",
       "    </tr>\n",
       "  </tbody>\n",
       "</table>\n",
       "</div>"
      ],
      "text/plain": [
       "      tconst                    primary_title     genres\n",
       "0  tt0063540                        Sunghursh     Action\n",
       "1  tt0066787  One Day Before the Rainy Season  Biography\n",
       "2  tt0069049       The Other Side of the Wind      Drama\n",
       "3  tt0069204                  Sabse Bada Sukh     Comedy\n",
       "4  tt0100275         The Wandering Soap Opera     Comedy"
      ]
     },
     "execution_count": 95,
     "metadata": {},
     "output_type": "execute_result"
    }
   ],
   "source": [
    "imdb_title_basics_df_explode.head()"
   ]
  },
  {
   "cell_type": "code",
   "execution_count": 96,
   "metadata": {
    "ExecuteTime": {
     "end_time": "2022-02-11T15:48:31.197813Z",
     "start_time": "2022-02-11T15:48:31.153932Z"
    }
   },
   "outputs": [],
   "source": [
    "imdb_title_basics_df_explode = imdb_title_basics_df_explode.set_index('primary_title')"
   ]
  },
  {
   "cell_type": "code",
   "execution_count": 97,
   "metadata": {
    "ExecuteTime": {
     "end_time": "2022-02-11T15:48:31.689418Z",
     "start_time": "2022-02-11T15:48:31.675455Z"
    }
   },
   "outputs": [
    {
     "data": {
      "text/html": [
       "<div>\n",
       "<style scoped>\n",
       "    .dataframe tbody tr th:only-of-type {\n",
       "        vertical-align: middle;\n",
       "    }\n",
       "\n",
       "    .dataframe tbody tr th {\n",
       "        vertical-align: top;\n",
       "    }\n",
       "\n",
       "    .dataframe thead th {\n",
       "        text-align: right;\n",
       "    }\n",
       "</style>\n",
       "<table border=\"1\" class=\"dataframe\">\n",
       "  <thead>\n",
       "    <tr style=\"text-align: right;\">\n",
       "      <th></th>\n",
       "      <th>tconst</th>\n",
       "      <th>genres</th>\n",
       "    </tr>\n",
       "    <tr>\n",
       "      <th>primary_title</th>\n",
       "      <th></th>\n",
       "      <th></th>\n",
       "    </tr>\n",
       "  </thead>\n",
       "  <tbody>\n",
       "    <tr>\n",
       "      <th>Sunghursh</th>\n",
       "      <td>tt0063540</td>\n",
       "      <td>Action</td>\n",
       "    </tr>\n",
       "    <tr>\n",
       "      <th>One Day Before the Rainy Season</th>\n",
       "      <td>tt0066787</td>\n",
       "      <td>Biography</td>\n",
       "    </tr>\n",
       "    <tr>\n",
       "      <th>The Other Side of the Wind</th>\n",
       "      <td>tt0069049</td>\n",
       "      <td>Drama</td>\n",
       "    </tr>\n",
       "    <tr>\n",
       "      <th>Sabse Bada Sukh</th>\n",
       "      <td>tt0069204</td>\n",
       "      <td>Comedy</td>\n",
       "    </tr>\n",
       "    <tr>\n",
       "      <th>The Wandering Soap Opera</th>\n",
       "      <td>tt0100275</td>\n",
       "      <td>Comedy</td>\n",
       "    </tr>\n",
       "  </tbody>\n",
       "</table>\n",
       "</div>"
      ],
      "text/plain": [
       "                                    tconst     genres\n",
       "primary_title                                        \n",
       "Sunghursh                        tt0063540     Action\n",
       "One Day Before the Rainy Season  tt0066787  Biography\n",
       "The Other Side of the Wind       tt0069049      Drama\n",
       "Sabse Bada Sukh                  tt0069204     Comedy\n",
       "The Wandering Soap Opera         tt0100275     Comedy"
      ]
     },
     "execution_count": 97,
     "metadata": {},
     "output_type": "execute_result"
    }
   ],
   "source": [
    "imdb_title_basics_df_explode.head()"
   ]
  },
  {
   "cell_type": "code",
   "execution_count": 98,
   "metadata": {
    "ExecuteTime": {
     "end_time": "2022-02-11T15:48:31.813685Z",
     "start_time": "2022-02-11T15:48:31.691413Z"
    }
   },
   "outputs": [
    {
     "data": {
      "text/html": [
       "<div>\n",
       "<style scoped>\n",
       "    .dataframe tbody tr th:only-of-type {\n",
       "        vertical-align: middle;\n",
       "    }\n",
       "\n",
       "    .dataframe tbody tr th {\n",
       "        vertical-align: top;\n",
       "    }\n",
       "\n",
       "    .dataframe thead th {\n",
       "        text-align: right;\n",
       "    }\n",
       "</style>\n",
       "<table border=\"1\" class=\"dataframe\">\n",
       "  <thead>\n",
       "    <tr style=\"text-align: right;\">\n",
       "      <th></th>\n",
       "      <th>release_date</th>\n",
       "      <th>production_budget</th>\n",
       "      <th>worldwide_gross</th>\n",
       "      <th>worldwide_net</th>\n",
       "      <th>studio</th>\n",
       "    </tr>\n",
       "  </thead>\n",
       "  <tbody>\n",
       "    <tr>\n",
       "      <th>10 Cloverfield Lane</th>\n",
       "      <td>2016-03-11</td>\n",
       "      <td>5000000</td>\n",
       "      <td>108286422</td>\n",
       "      <td>103286422</td>\n",
       "      <td>Par.</td>\n",
       "    </tr>\n",
       "    <tr>\n",
       "      <th>12 Strong</th>\n",
       "      <td>2018-01-19</td>\n",
       "      <td>35000000</td>\n",
       "      <td>71118378</td>\n",
       "      <td>36118378</td>\n",
       "      <td>WB</td>\n",
       "    </tr>\n",
       "    <tr>\n",
       "      <th>12 Years a Slave</th>\n",
       "      <td>2013-10-18</td>\n",
       "      <td>20000000</td>\n",
       "      <td>181025343</td>\n",
       "      <td>161025343</td>\n",
       "      <td>FoxS</td>\n",
       "    </tr>\n",
       "    <tr>\n",
       "      <th>127 Hours</th>\n",
       "      <td>2010-11-05</td>\n",
       "      <td>18000000</td>\n",
       "      <td>60217171</td>\n",
       "      <td>42217171</td>\n",
       "      <td>FoxS</td>\n",
       "    </tr>\n",
       "    <tr>\n",
       "      <th>13 Hours: The Secret Soldiers of Benghazi</th>\n",
       "      <td>2016-01-15</td>\n",
       "      <td>50000000</td>\n",
       "      <td>69411370</td>\n",
       "      <td>19411370</td>\n",
       "      <td>Par.</td>\n",
       "    </tr>\n",
       "  </tbody>\n",
       "</table>\n",
       "</div>"
      ],
      "text/plain": [
       "                                          release_date  production_budget  \\\n",
       "10 Cloverfield Lane                         2016-03-11            5000000   \n",
       "12 Strong                                   2018-01-19           35000000   \n",
       "12 Years a Slave                            2013-10-18           20000000   \n",
       "127 Hours                                   2010-11-05           18000000   \n",
       "13 Hours: The Secret Soldiers of Benghazi   2016-01-15           50000000   \n",
       "\n",
       "                                           worldwide_gross  worldwide_net  \\\n",
       "10 Cloverfield Lane                              108286422      103286422   \n",
       "12 Strong                                         71118378       36118378   \n",
       "12 Years a Slave                                 181025343      161025343   \n",
       "127 Hours                                         60217171       42217171   \n",
       "13 Hours: The Secret Soldiers of Benghazi         69411370       19411370   \n",
       "\n",
       "                                          studio  \n",
       "10 Cloverfield Lane                         Par.  \n",
       "12 Strong                                     WB  \n",
       "12 Years a Slave                            FoxS  \n",
       "127 Hours                                   FoxS  \n",
       "13 Hours: The Secret Soldiers of Benghazi   Par.  "
      ]
     },
     "execution_count": 98,
     "metadata": {},
     "output_type": "execute_result"
    }
   ],
   "source": [
    "budget_studio_df.head()"
   ]
  },
  {
   "cell_type": "code",
   "execution_count": 99,
   "metadata": {
    "ExecuteTime": {
     "end_time": "2022-02-11T15:48:32.287982Z",
     "start_time": "2022-02-11T15:48:31.816679Z"
    }
   },
   "outputs": [
    {
     "data": {
      "text/html": [
       "<div>\n",
       "<style scoped>\n",
       "    .dataframe tbody tr th:only-of-type {\n",
       "        vertical-align: middle;\n",
       "    }\n",
       "\n",
       "    .dataframe tbody tr th {\n",
       "        vertical-align: top;\n",
       "    }\n",
       "\n",
       "    .dataframe thead th {\n",
       "        text-align: right;\n",
       "    }\n",
       "</style>\n",
       "<table border=\"1\" class=\"dataframe\">\n",
       "  <thead>\n",
       "    <tr style=\"text-align: right;\">\n",
       "      <th></th>\n",
       "      <th>tconst</th>\n",
       "      <th>genres</th>\n",
       "      <th>release_date</th>\n",
       "      <th>production_budget</th>\n",
       "      <th>worldwide_gross</th>\n",
       "      <th>worldwide_net</th>\n",
       "      <th>studio</th>\n",
       "    </tr>\n",
       "  </thead>\n",
       "  <tbody>\n",
       "    <tr>\n",
       "      <th>10 Cloverfield Lane</th>\n",
       "      <td>tt1179933</td>\n",
       "      <td>Drama</td>\n",
       "      <td>2016-03-11</td>\n",
       "      <td>5000000</td>\n",
       "      <td>108286422</td>\n",
       "      <td>103286422</td>\n",
       "      <td>Par.</td>\n",
       "    </tr>\n",
       "    <tr>\n",
       "      <th>12 Strong</th>\n",
       "      <td>tt1413492</td>\n",
       "      <td>Action</td>\n",
       "      <td>2018-01-19</td>\n",
       "      <td>35000000</td>\n",
       "      <td>71118378</td>\n",
       "      <td>36118378</td>\n",
       "      <td>WB</td>\n",
       "    </tr>\n",
       "    <tr>\n",
       "      <th>12 Years a Slave</th>\n",
       "      <td>tt2024544</td>\n",
       "      <td>Biography</td>\n",
       "      <td>2013-10-18</td>\n",
       "      <td>20000000</td>\n",
       "      <td>181025343</td>\n",
       "      <td>161025343</td>\n",
       "      <td>FoxS</td>\n",
       "    </tr>\n",
       "    <tr>\n",
       "      <th>127 Hours</th>\n",
       "      <td>tt1542344</td>\n",
       "      <td>Adventure</td>\n",
       "      <td>2010-11-05</td>\n",
       "      <td>18000000</td>\n",
       "      <td>60217171</td>\n",
       "      <td>42217171</td>\n",
       "      <td>FoxS</td>\n",
       "    </tr>\n",
       "    <tr>\n",
       "      <th>2 Guns</th>\n",
       "      <td>tt1272878</td>\n",
       "      <td>Action</td>\n",
       "      <td>2013-08-02</td>\n",
       "      <td>61000000</td>\n",
       "      <td>132493015</td>\n",
       "      <td>71493015</td>\n",
       "      <td>Uni.</td>\n",
       "    </tr>\n",
       "  </tbody>\n",
       "</table>\n",
       "</div>"
      ],
      "text/plain": [
       "                        tconst     genres release_date  production_budget  \\\n",
       "10 Cloverfield Lane  tt1179933      Drama   2016-03-11            5000000   \n",
       "12 Strong            tt1413492     Action   2018-01-19           35000000   \n",
       "12 Years a Slave     tt2024544  Biography   2013-10-18           20000000   \n",
       "127 Hours            tt1542344  Adventure   2010-11-05           18000000   \n",
       "2 Guns               tt1272878     Action   2013-08-02           61000000   \n",
       "\n",
       "                     worldwide_gross  worldwide_net studio  \n",
       "10 Cloverfield Lane        108286422      103286422   Par.  \n",
       "12 Strong                   71118378       36118378     WB  \n",
       "12 Years a Slave           181025343      161025343   FoxS  \n",
       "127 Hours                   60217171       42217171   FoxS  \n",
       "2 Guns                     132493015       71493015   Uni.  "
      ]
     },
     "execution_count": 99,
     "metadata": {},
     "output_type": "execute_result"
    }
   ],
   "source": [
    "budget_genres_df = imdb_title_basics_df_explode.join(budget_studio_df, how='inner')\n",
    "budget_genres_df.head()"
   ]
  },
  {
   "cell_type": "code",
   "execution_count": 100,
   "metadata": {
    "ExecuteTime": {
     "end_time": "2022-02-11T15:48:32.302976Z",
     "start_time": "2022-02-11T15:48:32.290976Z"
    }
   },
   "outputs": [
    {
     "data": {
      "text/plain": [
       "(922, 7)"
      ]
     },
     "execution_count": 100,
     "metadata": {},
     "output_type": "execute_result"
    }
   ],
   "source": [
    "budget_genres_df.shape"
   ]
  },
  {
   "cell_type": "code",
   "execution_count": 101,
   "metadata": {
    "ExecuteTime": {
     "end_time": "2022-02-11T15:48:32.414507Z",
     "start_time": "2022-02-11T15:48:32.304937Z"
    }
   },
   "outputs": [
    {
     "name": "stdout",
     "output_type": "stream",
     "text": [
      "<class 'pandas.core.frame.DataFrame'>\n",
      "Index: 922 entries, 10 Cloverfield Lane to Zootopia\n",
      "Data columns (total 7 columns):\n",
      " #   Column             Non-Null Count  Dtype         \n",
      "---  ------             --------------  -----         \n",
      " 0   tconst             922 non-null    object        \n",
      " 1   genres             922 non-null    object        \n",
      " 2   release_date       922 non-null    datetime64[ns]\n",
      " 3   production_budget  922 non-null    int64         \n",
      " 4   worldwide_gross    922 non-null    int64         \n",
      " 5   worldwide_net      922 non-null    int64         \n",
      " 6   studio             922 non-null    object        \n",
      "dtypes: datetime64[ns](1), int64(3), object(3)\n",
      "memory usage: 57.6+ KB\n"
     ]
    }
   ],
   "source": [
    "budget_genres_df.info()"
   ]
  },
  {
   "cell_type": "code",
   "execution_count": 102,
   "metadata": {
    "ExecuteTime": {
     "end_time": "2022-02-11T15:48:32.508476Z",
     "start_time": "2022-02-11T15:48:32.417400Z"
    }
   },
   "outputs": [],
   "source": [
    "budget_genres_df = budget_genres_df.dropna()"
   ]
  },
  {
   "cell_type": "code",
   "execution_count": 103,
   "metadata": {
    "ExecuteTime": {
     "end_time": "2022-02-11T15:48:32.601372Z",
     "start_time": "2022-02-11T15:48:32.511073Z"
    }
   },
   "outputs": [
    {
     "data": {
      "text/plain": [
       "(922, 7)"
      ]
     },
     "execution_count": 103,
     "metadata": {},
     "output_type": "execute_result"
    }
   ],
   "source": [
    "budget_genres_df.shape"
   ]
  },
  {
   "cell_type": "code",
   "execution_count": 104,
   "metadata": {
    "ExecuteTime": {
     "end_time": "2022-02-11T15:48:32.711020Z",
     "start_time": "2022-02-11T15:48:32.603332Z"
    }
   },
   "outputs": [],
   "source": [
    "top10_genres = budget_genres_df.genres.value_counts().head(10)"
   ]
  },
  {
   "cell_type": "code",
   "execution_count": 105,
   "metadata": {
    "ExecuteTime": {
     "end_time": "2022-02-11T15:48:32.805016Z",
     "start_time": "2022-02-11T15:48:32.714017Z"
    }
   },
   "outputs": [
    {
     "data": {
      "text/plain": [
       "Action         280\n",
       "Comedy         194\n",
       "Drama          152\n",
       "Adventure      115\n",
       "Biography       69\n",
       "Horror          49\n",
       "Crime           37\n",
       "Documentary     10\n",
       "Animation        7\n",
       "Thriller         3\n",
       "Name: genres, dtype: int64"
      ]
     },
     "execution_count": 105,
     "metadata": {},
     "output_type": "execute_result"
    }
   ],
   "source": [
    "top10_genres"
   ]
  },
  {
   "cell_type": "code",
   "execution_count": 106,
   "metadata": {
    "ExecuteTime": {
     "end_time": "2022-02-11T15:48:32.915146Z",
     "start_time": "2022-02-11T15:48:32.806981Z"
    }
   },
   "outputs": [
    {
     "data": {
      "text/html": [
       "<div>\n",
       "<style scoped>\n",
       "    .dataframe tbody tr th:only-of-type {\n",
       "        vertical-align: middle;\n",
       "    }\n",
       "\n",
       "    .dataframe tbody tr th {\n",
       "        vertical-align: top;\n",
       "    }\n",
       "\n",
       "    .dataframe thead th {\n",
       "        text-align: right;\n",
       "    }\n",
       "</style>\n",
       "<table border=\"1\" class=\"dataframe\">\n",
       "  <thead>\n",
       "    <tr style=\"text-align: right;\">\n",
       "      <th></th>\n",
       "      <th>production_budget</th>\n",
       "      <th>worldwide_gross</th>\n",
       "      <th>worldwide_net</th>\n",
       "    </tr>\n",
       "    <tr>\n",
       "      <th>genres</th>\n",
       "      <th></th>\n",
       "      <th></th>\n",
       "      <th></th>\n",
       "    </tr>\n",
       "  </thead>\n",
       "  <tbody>\n",
       "    <tr>\n",
       "      <th>Action</th>\n",
       "      <td>26653000000</td>\n",
       "      <td>91416243861</td>\n",
       "      <td>64763243861</td>\n",
       "    </tr>\n",
       "    <tr>\n",
       "      <th>Adventure</th>\n",
       "      <td>10459400000</td>\n",
       "      <td>38431466605</td>\n",
       "      <td>27972066605</td>\n",
       "    </tr>\n",
       "    <tr>\n",
       "      <th>Animation</th>\n",
       "      <td>521000000</td>\n",
       "      <td>2506321855</td>\n",
       "      <td>1985321855</td>\n",
       "    </tr>\n",
       "    <tr>\n",
       "      <th>Biography</th>\n",
       "      <td>1725170000</td>\n",
       "      <td>7452572524</td>\n",
       "      <td>5727402524</td>\n",
       "    </tr>\n",
       "    <tr>\n",
       "      <th>Comedy</th>\n",
       "      <td>5188470000</td>\n",
       "      <td>18253299913</td>\n",
       "      <td>13064829913</td>\n",
       "    </tr>\n",
       "    <tr>\n",
       "      <th>Crime</th>\n",
       "      <td>1165000000</td>\n",
       "      <td>3769878307</td>\n",
       "      <td>2604878307</td>\n",
       "    </tr>\n",
       "    <tr>\n",
       "      <th>Documentary</th>\n",
       "      <td>168000000</td>\n",
       "      <td>911781493</td>\n",
       "      <td>743781493</td>\n",
       "    </tr>\n",
       "    <tr>\n",
       "      <th>Drama</th>\n",
       "      <td>3232147650</td>\n",
       "      <td>11858474641</td>\n",
       "      <td>8626326991</td>\n",
       "    </tr>\n",
       "    <tr>\n",
       "      <th>Fantasy</th>\n",
       "      <td>67000000</td>\n",
       "      <td>130804869</td>\n",
       "      <td>63804869</td>\n",
       "    </tr>\n",
       "    <tr>\n",
       "      <th>Horror</th>\n",
       "      <td>600100000</td>\n",
       "      <td>5170494544</td>\n",
       "      <td>4570394544</td>\n",
       "    </tr>\n",
       "    <tr>\n",
       "      <th>Mystery</th>\n",
       "      <td>157000000</td>\n",
       "      <td>712999446</td>\n",
       "      <td>555999446</td>\n",
       "    </tr>\n",
       "    <tr>\n",
       "      <th>Romance</th>\n",
       "      <td>50200000</td>\n",
       "      <td>126931325</td>\n",
       "      <td>76731325</td>\n",
       "    </tr>\n",
       "    <tr>\n",
       "      <th>Thriller</th>\n",
       "      <td>114900000</td>\n",
       "      <td>382028742</td>\n",
       "      <td>267128742</td>\n",
       "    </tr>\n",
       "  </tbody>\n",
       "</table>\n",
       "</div>"
      ],
      "text/plain": [
       "             production_budget  worldwide_gross  worldwide_net\n",
       "genres                                                        \n",
       "Action             26653000000      91416243861    64763243861\n",
       "Adventure          10459400000      38431466605    27972066605\n",
       "Animation            521000000       2506321855     1985321855\n",
       "Biography           1725170000       7452572524     5727402524\n",
       "Comedy              5188470000      18253299913    13064829913\n",
       "Crime               1165000000       3769878307     2604878307\n",
       "Documentary          168000000        911781493      743781493\n",
       "Drama               3232147650      11858474641     8626326991\n",
       "Fantasy               67000000        130804869       63804869\n",
       "Horror               600100000       5170494544     4570394544\n",
       "Mystery              157000000        712999446      555999446\n",
       "Romance               50200000        126931325       76731325\n",
       "Thriller             114900000        382028742      267128742"
      ]
     },
     "execution_count": 106,
     "metadata": {},
     "output_type": "execute_result"
    }
   ],
   "source": [
    "budget_genres_df.groupby(['genres']).sum()"
   ]
  },
  {
   "cell_type": "code",
   "execution_count": 107,
   "metadata": {
    "ExecuteTime": {
     "end_time": "2022-02-11T15:48:33.026350Z",
     "start_time": "2022-02-11T15:48:32.919142Z"
    }
   },
   "outputs": [],
   "source": [
    "budget_genres_df_agg = budget_genres_df.groupby(['genres']).sum()"
   ]
  },
  {
   "cell_type": "code",
   "execution_count": 108,
   "metadata": {
    "ExecuteTime": {
     "end_time": "2022-02-11T15:48:33.137371Z",
     "start_time": "2022-02-11T15:48:33.029371Z"
    }
   },
   "outputs": [
    {
     "data": {
      "text/html": [
       "<div>\n",
       "<style scoped>\n",
       "    .dataframe tbody tr th:only-of-type {\n",
       "        vertical-align: middle;\n",
       "    }\n",
       "\n",
       "    .dataframe tbody tr th {\n",
       "        vertical-align: top;\n",
       "    }\n",
       "\n",
       "    .dataframe thead th {\n",
       "        text-align: right;\n",
       "    }\n",
       "</style>\n",
       "<table border=\"1\" class=\"dataframe\">\n",
       "  <thead>\n",
       "    <tr style=\"text-align: right;\">\n",
       "      <th></th>\n",
       "      <th>production_budget</th>\n",
       "      <th>worldwide_gross</th>\n",
       "      <th>worldwide_net</th>\n",
       "    </tr>\n",
       "    <tr>\n",
       "      <th>genres</th>\n",
       "      <th></th>\n",
       "      <th></th>\n",
       "      <th></th>\n",
       "    </tr>\n",
       "  </thead>\n",
       "  <tbody>\n",
       "    <tr>\n",
       "      <th>Action</th>\n",
       "      <td>26653000000</td>\n",
       "      <td>91416243861</td>\n",
       "      <td>64763243861</td>\n",
       "    </tr>\n",
       "    <tr>\n",
       "      <th>Adventure</th>\n",
       "      <td>10459400000</td>\n",
       "      <td>38431466605</td>\n",
       "      <td>27972066605</td>\n",
       "    </tr>\n",
       "    <tr>\n",
       "      <th>Comedy</th>\n",
       "      <td>5188470000</td>\n",
       "      <td>18253299913</td>\n",
       "      <td>13064829913</td>\n",
       "    </tr>\n",
       "    <tr>\n",
       "      <th>Drama</th>\n",
       "      <td>3232147650</td>\n",
       "      <td>11858474641</td>\n",
       "      <td>8626326991</td>\n",
       "    </tr>\n",
       "    <tr>\n",
       "      <th>Biography</th>\n",
       "      <td>1725170000</td>\n",
       "      <td>7452572524</td>\n",
       "      <td>5727402524</td>\n",
       "    </tr>\n",
       "    <tr>\n",
       "      <th>Horror</th>\n",
       "      <td>600100000</td>\n",
       "      <td>5170494544</td>\n",
       "      <td>4570394544</td>\n",
       "    </tr>\n",
       "    <tr>\n",
       "      <th>Crime</th>\n",
       "      <td>1165000000</td>\n",
       "      <td>3769878307</td>\n",
       "      <td>2604878307</td>\n",
       "    </tr>\n",
       "    <tr>\n",
       "      <th>Animation</th>\n",
       "      <td>521000000</td>\n",
       "      <td>2506321855</td>\n",
       "      <td>1985321855</td>\n",
       "    </tr>\n",
       "    <tr>\n",
       "      <th>Documentary</th>\n",
       "      <td>168000000</td>\n",
       "      <td>911781493</td>\n",
       "      <td>743781493</td>\n",
       "    </tr>\n",
       "    <tr>\n",
       "      <th>Mystery</th>\n",
       "      <td>157000000</td>\n",
       "      <td>712999446</td>\n",
       "      <td>555999446</td>\n",
       "    </tr>\n",
       "  </tbody>\n",
       "</table>\n",
       "</div>"
      ],
      "text/plain": [
       "             production_budget  worldwide_gross  worldwide_net\n",
       "genres                                                        \n",
       "Action             26653000000      91416243861    64763243861\n",
       "Adventure          10459400000      38431466605    27972066605\n",
       "Comedy              5188470000      18253299913    13064829913\n",
       "Drama               3232147650      11858474641     8626326991\n",
       "Biography           1725170000       7452572524     5727402524\n",
       "Horror               600100000       5170494544     4570394544\n",
       "Crime               1165000000       3769878307     2604878307\n",
       "Animation            521000000       2506321855     1985321855\n",
       "Documentary          168000000        911781493      743781493\n",
       "Mystery              157000000        712999446      555999446"
      ]
     },
     "execution_count": 108,
     "metadata": {},
     "output_type": "execute_result"
    }
   ],
   "source": [
    "budget_genres_df_agg = budget_genres_df_agg.sort_values('worldwide_gross', ascending=False).head(10)\n",
    "budget_genres_df_agg"
   ]
  },
  {
   "cell_type": "code",
   "execution_count": 109,
   "metadata": {
    "ExecuteTime": {
     "end_time": "2022-02-11T15:48:33.231929Z",
     "start_time": "2022-02-11T15:48:33.140360Z"
    }
   },
   "outputs": [
    {
     "data": {
      "text/plain": [
       "Index(['Action', 'Adventure', 'Comedy', 'Drama', 'Biography', 'Horror',\n",
       "       'Crime', 'Animation', 'Documentary', 'Mystery'],\n",
       "      dtype='object', name='genres')"
      ]
     },
     "execution_count": 109,
     "metadata": {},
     "output_type": "execute_result"
    }
   ],
   "source": [
    "budget_genres_df_agg.index"
   ]
  },
  {
   "cell_type": "code",
   "execution_count": 110,
   "metadata": {
    "ExecuteTime": {
     "end_time": "2022-02-11T15:49:09.485519Z",
     "start_time": "2022-02-11T15:49:09.470564Z"
    }
   },
   "outputs": [],
   "source": [
    "font = {'family' : 'Arial',\n",
    "        'weight' : 'bold',\n",
    "        'size'   : 18}\n",
    "\n",
    "plt.rc('font', **font)"
   ]
  },
  {
   "cell_type": "code",
   "execution_count": 111,
   "metadata": {
    "ExecuteTime": {
     "end_time": "2022-02-11T15:49:10.566171Z",
     "start_time": "2022-02-11T15:49:10.122374Z"
    }
   },
   "outputs": [
    {
     "data": {
      "image/png": "[encoded data removed]",
      "text/plain": [
       "<Figure size 1080x576 with 1 Axes>"
      ]
     },
     "metadata": {
      "needs_background": "light"
     },
     "output_type": "display_data"
    }
   ],
   "source": [
    "plt.figure(figsize=(15,8))\n",
    "\n",
    "genres = budget_genres_df_agg.index\n",
    "budget_gross = budget_genres_df_agg.production_budget\n",
    "ww_net = budget_genres_df_agg.worldwide_net\n",
    "ww_gross = budget_genres_df_agg.worldwide_gross\n",
    "\n",
    "plt.bar(range(len(genres)), budget_gross, color='black')\n",
    "plt.bar(range(len(genres)), ww_net, color='lightgreen', bottom=budget_gross)\n",
    "plt.title('Top 10 Genres Gross Revenue', fontsize=25)\n",
    "plt.xlabel('Genres', fontsize=25)\n",
    "plt.ylabel('Worldwide Gross Revenue (Billions)', fontsize=25)\n",
    "plt.xticks(range(len(genres)), genres)\n",
    "plt.tick_params(axis=\"x\", labelrotation=45)\n",
    "\n",
    "plt.legend(['Production Budget', 'Worldwide Net'])\n",
    "plt.savefig('fig05_Top10_genres')\n",
    "plt.show();"
   ]
  },
  {
   "cell_type": "code",
   "execution_count": 112,
   "metadata": {
    "ExecuteTime": {
     "end_time": "2022-02-11T15:49:12.830241Z",
     "start_time": "2022-02-11T15:49:12.808266Z"
    }
   },
   "outputs": [
    {
     "data": {
      "text/plain": [
       "production_budget    4.986929e+09\n",
       "worldwide_gross      1.804835e+10\n",
       "worldwide_net        1.306142e+10\n",
       "dtype: float64"
      ]
     },
     "execution_count": 112,
     "metadata": {},
     "output_type": "execute_result"
    }
   ],
   "source": [
    "budget_genres_df_agg.mean()"
   ]
  },
  {
   "cell_type": "code",
   "execution_count": 113,
   "metadata": {
    "ExecuteTime": {
     "end_time": "2022-02-11T15:49:13.493626Z",
     "start_time": "2022-02-11T15:49:13.467695Z"
    }
   },
   "outputs": [
    {
     "data": {
      "text/html": [
       "<div>\n",
       "<style scoped>\n",
       "    .dataframe tbody tr th:only-of-type {\n",
       "        vertical-align: middle;\n",
       "    }\n",
       "\n",
       "    .dataframe tbody tr th {\n",
       "        vertical-align: top;\n",
       "    }\n",
       "\n",
       "    .dataframe thead th {\n",
       "        text-align: right;\n",
       "    }\n",
       "</style>\n",
       "<table border=\"1\" class=\"dataframe\">\n",
       "  <thead>\n",
       "    <tr style=\"text-align: right;\">\n",
       "      <th></th>\n",
       "      <th>production_budget</th>\n",
       "      <th>worldwide_gross</th>\n",
       "      <th>worldwide_net</th>\n",
       "    </tr>\n",
       "  </thead>\n",
       "  <tbody>\n",
       "    <tr>\n",
       "      <th>count</th>\n",
       "      <td>1.000000e+01</td>\n",
       "      <td>1.000000e+01</td>\n",
       "      <td>1.000000e+01</td>\n",
       "    </tr>\n",
       "    <tr>\n",
       "      <th>mean</th>\n",
       "      <td>4.986929e+09</td>\n",
       "      <td>1.804835e+10</td>\n",
       "      <td>1.306142e+10</td>\n",
       "    </tr>\n",
       "    <tr>\n",
       "      <th>std</th>\n",
       "      <td>8.256121e+09</td>\n",
       "      <td>2.819454e+10</td>\n",
       "      <td>1.994740e+10</td>\n",
       "    </tr>\n",
       "    <tr>\n",
       "      <th>min</th>\n",
       "      <td>1.570000e+08</td>\n",
       "      <td>7.129994e+08</td>\n",
       "      <td>5.559994e+08</td>\n",
       "    </tr>\n",
       "    <tr>\n",
       "      <th>25%</th>\n",
       "      <td>5.407750e+08</td>\n",
       "      <td>2.822211e+09</td>\n",
       "      <td>2.140211e+09</td>\n",
       "    </tr>\n",
       "    <tr>\n",
       "      <th>50%</th>\n",
       "      <td>1.445085e+09</td>\n",
       "      <td>6.311534e+09</td>\n",
       "      <td>5.148899e+09</td>\n",
       "    </tr>\n",
       "    <tr>\n",
       "      <th>75%</th>\n",
       "      <td>4.699389e+09</td>\n",
       "      <td>1.665459e+10</td>\n",
       "      <td>1.195520e+10</td>\n",
       "    </tr>\n",
       "    <tr>\n",
       "      <th>max</th>\n",
       "      <td>2.665300e+10</td>\n",
       "      <td>9.141624e+10</td>\n",
       "      <td>6.476324e+10</td>\n",
       "    </tr>\n",
       "  </tbody>\n",
       "</table>\n",
       "</div>"
      ],
      "text/plain": [
       "       production_budget  worldwide_gross  worldwide_net\n",
       "count       1.000000e+01     1.000000e+01   1.000000e+01\n",
       "mean        4.986929e+09     1.804835e+10   1.306142e+10\n",
       "std         8.256121e+09     2.819454e+10   1.994740e+10\n",
       "min         1.570000e+08     7.129994e+08   5.559994e+08\n",
       "25%         5.407750e+08     2.822211e+09   2.140211e+09\n",
       "50%         1.445085e+09     6.311534e+09   5.148899e+09\n",
       "75%         4.699389e+09     1.665459e+10   1.195520e+10\n",
       "max         2.665300e+10     9.141624e+10   6.476324e+10"
      ]
     },
     "execution_count": 113,
     "metadata": {},
     "output_type": "execute_result"
    }
   ],
   "source": [
    "budget_genres_df_agg.describe()"
   ]
  },
  {
   "cell_type": "markdown",
   "metadata": {},
   "source": [
    "##### Question 3 Conclusions:\n",
    "\n",
    "Question #3: Which movie genres are the most popular in the movie industry\n",
    "\n",
    "Recommendation #3: Even though the top 3 movies genres produced are Documentary, Drama, and Comedy. When profit and gross revenue is calculated, the top 3 movie genres changes significantly.  The top 3 movie genres that produce the most revenues are Action, Adventure, and Comedy. Here the movie genre Action is on top and the worldwide gross $ is double the amount of Adventure which comes in second.\n",
    "\n",
    "##### The top 5 movie profitable genres are\n",
    "1. Action\n",
    "2. Adventure\n",
    "3. Comedy\n",
    "4. Drama\n",
    "5. Biography\n"
   ]
  },
  {
   "cell_type": "markdown",
   "metadata": {
    "ExecuteTime": {
     "end_time": "2022-01-28T00:11:31.077939Z",
     "start_time": "2022-01-28T00:11:31.066970Z"
    }
   },
   "source": [
    "### Question 4: \n",
    "\n",
    "Which directors tend to add the most value?\n",
    "Lets locate the top directors"
   ]
  },
  {
   "cell_type": "code",
   "execution_count": 114,
   "metadata": {
    "ExecuteTime": {
     "end_time": "2022-02-11T15:49:14.281999Z",
     "start_time": "2022-02-11T15:49:14.257066Z"
    }
   },
   "outputs": [
    {
     "data": {
      "text/html": [
       "<div>\n",
       "<style scoped>\n",
       "    .dataframe tbody tr th:only-of-type {\n",
       "        vertical-align: middle;\n",
       "    }\n",
       "\n",
       "    .dataframe tbody tr th {\n",
       "        vertical-align: top;\n",
       "    }\n",
       "\n",
       "    .dataframe thead th {\n",
       "        text-align: right;\n",
       "    }\n",
       "</style>\n",
       "<table border=\"1\" class=\"dataframe\">\n",
       "  <thead>\n",
       "    <tr style=\"text-align: right;\">\n",
       "      <th></th>\n",
       "      <th>tconst</th>\n",
       "      <th>genres</th>\n",
       "      <th>release_date</th>\n",
       "      <th>production_budget</th>\n",
       "      <th>worldwide_gross</th>\n",
       "      <th>worldwide_net</th>\n",
       "      <th>studio</th>\n",
       "    </tr>\n",
       "  </thead>\n",
       "  <tbody>\n",
       "    <tr>\n",
       "      <th>10 Cloverfield Lane</th>\n",
       "      <td>tt1179933</td>\n",
       "      <td>Drama</td>\n",
       "      <td>2016-03-11</td>\n",
       "      <td>5000000</td>\n",
       "      <td>108286422</td>\n",
       "      <td>103286422</td>\n",
       "      <td>Par.</td>\n",
       "    </tr>\n",
       "    <tr>\n",
       "      <th>12 Strong</th>\n",
       "      <td>tt1413492</td>\n",
       "      <td>Action</td>\n",
       "      <td>2018-01-19</td>\n",
       "      <td>35000000</td>\n",
       "      <td>71118378</td>\n",
       "      <td>36118378</td>\n",
       "      <td>WB</td>\n",
       "    </tr>\n",
       "    <tr>\n",
       "      <th>12 Years a Slave</th>\n",
       "      <td>tt2024544</td>\n",
       "      <td>Biography</td>\n",
       "      <td>2013-10-18</td>\n",
       "      <td>20000000</td>\n",
       "      <td>181025343</td>\n",
       "      <td>161025343</td>\n",
       "      <td>FoxS</td>\n",
       "    </tr>\n",
       "    <tr>\n",
       "      <th>127 Hours</th>\n",
       "      <td>tt1542344</td>\n",
       "      <td>Adventure</td>\n",
       "      <td>2010-11-05</td>\n",
       "      <td>18000000</td>\n",
       "      <td>60217171</td>\n",
       "      <td>42217171</td>\n",
       "      <td>FoxS</td>\n",
       "    </tr>\n",
       "    <tr>\n",
       "      <th>2 Guns</th>\n",
       "      <td>tt1272878</td>\n",
       "      <td>Action</td>\n",
       "      <td>2013-08-02</td>\n",
       "      <td>61000000</td>\n",
       "      <td>132493015</td>\n",
       "      <td>71493015</td>\n",
       "      <td>Uni.</td>\n",
       "    </tr>\n",
       "  </tbody>\n",
       "</table>\n",
       "</div>"
      ],
      "text/plain": [
       "                        tconst     genres release_date  production_budget  \\\n",
       "10 Cloverfield Lane  tt1179933      Drama   2016-03-11            5000000   \n",
       "12 Strong            tt1413492     Action   2018-01-19           35000000   \n",
       "12 Years a Slave     tt2024544  Biography   2013-10-18           20000000   \n",
       "127 Hours            tt1542344  Adventure   2010-11-05           18000000   \n",
       "2 Guns               tt1272878     Action   2013-08-02           61000000   \n",
       "\n",
       "                     worldwide_gross  worldwide_net studio  \n",
       "10 Cloverfield Lane        108286422      103286422   Par.  \n",
       "12 Strong                   71118378       36118378     WB  \n",
       "12 Years a Slave           181025343      161025343   FoxS  \n",
       "127 Hours                   60217171       42217171   FoxS  \n",
       "2 Guns                     132493015       71493015   Uni.  "
      ]
     },
     "execution_count": 114,
     "metadata": {},
     "output_type": "execute_result"
    }
   ],
   "source": [
    "budget_genres_df.head()"
   ]
  },
  {
   "cell_type": "code",
   "execution_count": 115,
   "metadata": {
    "ExecuteTime": {
     "end_time": "2022-02-11T15:49:14.937244Z",
     "start_time": "2022-02-11T15:49:14.907326Z"
    }
   },
   "outputs": [],
   "source": [
    "budget_genres_df = budget_genres_df.reset_index()"
   ]
  },
  {
   "cell_type": "code",
   "execution_count": 116,
   "metadata": {
    "ExecuteTime": {
     "end_time": "2022-02-11T15:49:15.582518Z",
     "start_time": "2022-02-11T15:49:15.552599Z"
    }
   },
   "outputs": [
    {
     "data": {
      "text/html": [
       "<div>\n",
       "<style scoped>\n",
       "    .dataframe tbody tr th:only-of-type {\n",
       "        vertical-align: middle;\n",
       "    }\n",
       "\n",
       "    .dataframe tbody tr th {\n",
       "        vertical-align: top;\n",
       "    }\n",
       "\n",
       "    .dataframe thead th {\n",
       "        text-align: right;\n",
       "    }\n",
       "</style>\n",
       "<table border=\"1\" class=\"dataframe\">\n",
       "  <thead>\n",
       "    <tr style=\"text-align: right;\">\n",
       "      <th></th>\n",
       "      <th>index</th>\n",
       "      <th>tconst</th>\n",
       "      <th>genres</th>\n",
       "      <th>release_date</th>\n",
       "      <th>production_budget</th>\n",
       "      <th>worldwide_gross</th>\n",
       "      <th>worldwide_net</th>\n",
       "      <th>studio</th>\n",
       "    </tr>\n",
       "  </thead>\n",
       "  <tbody>\n",
       "    <tr>\n",
       "      <th>0</th>\n",
       "      <td>10 Cloverfield Lane</td>\n",
       "      <td>tt1179933</td>\n",
       "      <td>Drama</td>\n",
       "      <td>2016-03-11</td>\n",
       "      <td>5000000</td>\n",
       "      <td>108286422</td>\n",
       "      <td>103286422</td>\n",
       "      <td>Par.</td>\n",
       "    </tr>\n",
       "    <tr>\n",
       "      <th>1</th>\n",
       "      <td>12 Strong</td>\n",
       "      <td>tt1413492</td>\n",
       "      <td>Action</td>\n",
       "      <td>2018-01-19</td>\n",
       "      <td>35000000</td>\n",
       "      <td>71118378</td>\n",
       "      <td>36118378</td>\n",
       "      <td>WB</td>\n",
       "    </tr>\n",
       "    <tr>\n",
       "      <th>2</th>\n",
       "      <td>12 Years a Slave</td>\n",
       "      <td>tt2024544</td>\n",
       "      <td>Biography</td>\n",
       "      <td>2013-10-18</td>\n",
       "      <td>20000000</td>\n",
       "      <td>181025343</td>\n",
       "      <td>161025343</td>\n",
       "      <td>FoxS</td>\n",
       "    </tr>\n",
       "    <tr>\n",
       "      <th>3</th>\n",
       "      <td>127 Hours</td>\n",
       "      <td>tt1542344</td>\n",
       "      <td>Adventure</td>\n",
       "      <td>2010-11-05</td>\n",
       "      <td>18000000</td>\n",
       "      <td>60217171</td>\n",
       "      <td>42217171</td>\n",
       "      <td>FoxS</td>\n",
       "    </tr>\n",
       "    <tr>\n",
       "      <th>4</th>\n",
       "      <td>2 Guns</td>\n",
       "      <td>tt1272878</td>\n",
       "      <td>Action</td>\n",
       "      <td>2013-08-02</td>\n",
       "      <td>61000000</td>\n",
       "      <td>132493015</td>\n",
       "      <td>71493015</td>\n",
       "      <td>Uni.</td>\n",
       "    </tr>\n",
       "  </tbody>\n",
       "</table>\n",
       "</div>"
      ],
      "text/plain": [
       "                 index     tconst     genres release_date  production_budget  \\\n",
       "0  10 Cloverfield Lane  tt1179933      Drama   2016-03-11            5000000   \n",
       "1            12 Strong  tt1413492     Action   2018-01-19           35000000   \n",
       "2     12 Years a Slave  tt2024544  Biography   2013-10-18           20000000   \n",
       "3            127 Hours  tt1542344  Adventure   2010-11-05           18000000   \n",
       "4               2 Guns  tt1272878     Action   2013-08-02           61000000   \n",
       "\n",
       "   worldwide_gross  worldwide_net studio  \n",
       "0        108286422      103286422   Par.  \n",
       "1         71118378       36118378     WB  \n",
       "2        181025343      161025343   FoxS  \n",
       "3         60217171       42217171   FoxS  \n",
       "4        132493015       71493015   Uni.  "
      ]
     },
     "execution_count": 116,
     "metadata": {},
     "output_type": "execute_result"
    }
   ],
   "source": [
    "budget_genres_df.head()"
   ]
  },
  {
   "cell_type": "code",
   "execution_count": 117,
   "metadata": {
    "ExecuteTime": {
     "end_time": "2022-02-11T15:49:16.170005Z",
     "start_time": "2022-02-11T15:49:16.140083Z"
    }
   },
   "outputs": [
    {
     "data": {
      "text/html": [
       "<div>\n",
       "<style scoped>\n",
       "    .dataframe tbody tr th:only-of-type {\n",
       "        vertical-align: middle;\n",
       "    }\n",
       "\n",
       "    .dataframe tbody tr th {\n",
       "        vertical-align: top;\n",
       "    }\n",
       "\n",
       "    .dataframe thead th {\n",
       "        text-align: right;\n",
       "    }\n",
       "</style>\n",
       "<table border=\"1\" class=\"dataframe\">\n",
       "  <thead>\n",
       "    <tr style=\"text-align: right;\">\n",
       "      <th></th>\n",
       "      <th>index</th>\n",
       "      <th>genres</th>\n",
       "      <th>release_date</th>\n",
       "      <th>production_budget</th>\n",
       "      <th>worldwide_gross</th>\n",
       "      <th>worldwide_net</th>\n",
       "      <th>studio</th>\n",
       "    </tr>\n",
       "    <tr>\n",
       "      <th>tconst</th>\n",
       "      <th></th>\n",
       "      <th></th>\n",
       "      <th></th>\n",
       "      <th></th>\n",
       "      <th></th>\n",
       "      <th></th>\n",
       "      <th></th>\n",
       "    </tr>\n",
       "  </thead>\n",
       "  <tbody>\n",
       "    <tr>\n",
       "      <th>tt1179933</th>\n",
       "      <td>10 Cloverfield Lane</td>\n",
       "      <td>Drama</td>\n",
       "      <td>2016-03-11</td>\n",
       "      <td>5000000</td>\n",
       "      <td>108286422</td>\n",
       "      <td>103286422</td>\n",
       "      <td>Par.</td>\n",
       "    </tr>\n",
       "    <tr>\n",
       "      <th>tt1413492</th>\n",
       "      <td>12 Strong</td>\n",
       "      <td>Action</td>\n",
       "      <td>2018-01-19</td>\n",
       "      <td>35000000</td>\n",
       "      <td>71118378</td>\n",
       "      <td>36118378</td>\n",
       "      <td>WB</td>\n",
       "    </tr>\n",
       "    <tr>\n",
       "      <th>tt2024544</th>\n",
       "      <td>12 Years a Slave</td>\n",
       "      <td>Biography</td>\n",
       "      <td>2013-10-18</td>\n",
       "      <td>20000000</td>\n",
       "      <td>181025343</td>\n",
       "      <td>161025343</td>\n",
       "      <td>FoxS</td>\n",
       "    </tr>\n",
       "    <tr>\n",
       "      <th>tt1542344</th>\n",
       "      <td>127 Hours</td>\n",
       "      <td>Adventure</td>\n",
       "      <td>2010-11-05</td>\n",
       "      <td>18000000</td>\n",
       "      <td>60217171</td>\n",
       "      <td>42217171</td>\n",
       "      <td>FoxS</td>\n",
       "    </tr>\n",
       "    <tr>\n",
       "      <th>tt1272878</th>\n",
       "      <td>2 Guns</td>\n",
       "      <td>Action</td>\n",
       "      <td>2013-08-02</td>\n",
       "      <td>61000000</td>\n",
       "      <td>132493015</td>\n",
       "      <td>71493015</td>\n",
       "      <td>Uni.</td>\n",
       "    </tr>\n",
       "  </tbody>\n",
       "</table>\n",
       "</div>"
      ],
      "text/plain": [
       "                         index     genres release_date  production_budget  \\\n",
       "tconst                                                                      \n",
       "tt1179933  10 Cloverfield Lane      Drama   2016-03-11            5000000   \n",
       "tt1413492            12 Strong     Action   2018-01-19           35000000   \n",
       "tt2024544     12 Years a Slave  Biography   2013-10-18           20000000   \n",
       "tt1542344            127 Hours  Adventure   2010-11-05           18000000   \n",
       "tt1272878               2 Guns     Action   2013-08-02           61000000   \n",
       "\n",
       "           worldwide_gross  worldwide_net studio  \n",
       "tconst                                            \n",
       "tt1179933        108286422      103286422   Par.  \n",
       "tt1413492         71118378       36118378     WB  \n",
       "tt2024544        181025343      161025343   FoxS  \n",
       "tt1542344         60217171       42217171   FoxS  \n",
       "tt1272878        132493015       71493015   Uni.  "
      ]
     },
     "execution_count": 117,
     "metadata": {},
     "output_type": "execute_result"
    }
   ],
   "source": [
    "budget_genres_df = budget_genres_df.set_index('tconst')\n",
    "budget_genres_df.head()"
   ]
  },
  {
   "cell_type": "code",
   "execution_count": 118,
   "metadata": {
    "ExecuteTime": {
     "end_time": "2022-02-11T15:49:16.755686Z",
     "start_time": "2022-02-11T15:49:16.741728Z"
    }
   },
   "outputs": [
    {
     "data": {
      "text/html": [
       "<div>\n",
       "<style scoped>\n",
       "    .dataframe tbody tr th:only-of-type {\n",
       "        vertical-align: middle;\n",
       "    }\n",
       "\n",
       "    .dataframe tbody tr th {\n",
       "        vertical-align: top;\n",
       "    }\n",
       "\n",
       "    .dataframe thead th {\n",
       "        text-align: right;\n",
       "    }\n",
       "</style>\n",
       "<table border=\"1\" class=\"dataframe\">\n",
       "  <thead>\n",
       "    <tr style=\"text-align: right;\">\n",
       "      <th></th>\n",
       "      <th>directors</th>\n",
       "      <th>writers</th>\n",
       "    </tr>\n",
       "    <tr>\n",
       "      <th>tconst</th>\n",
       "      <th></th>\n",
       "      <th></th>\n",
       "    </tr>\n",
       "  </thead>\n",
       "  <tbody>\n",
       "    <tr>\n",
       "      <th>tt0285252</th>\n",
       "      <td>nm0899854</td>\n",
       "      <td>nm0899854</td>\n",
       "    </tr>\n",
       "    <tr>\n",
       "      <th>tt0438973</th>\n",
       "      <td>NaN</td>\n",
       "      <td>nm0175726,nm1802864</td>\n",
       "    </tr>\n",
       "    <tr>\n",
       "      <th>tt0462036</th>\n",
       "      <td>nm1940585</td>\n",
       "      <td>nm1940585</td>\n",
       "    </tr>\n",
       "    <tr>\n",
       "      <th>tt0835418</th>\n",
       "      <td>nm0151540</td>\n",
       "      <td>nm0310087,nm0841532</td>\n",
       "    </tr>\n",
       "    <tr>\n",
       "      <th>tt0878654</th>\n",
       "      <td>nm0089502,nm2291498,nm2292011</td>\n",
       "      <td>nm0284943</td>\n",
       "    </tr>\n",
       "  </tbody>\n",
       "</table>\n",
       "</div>"
      ],
      "text/plain": [
       "                               directors              writers\n",
       "tconst                                                       \n",
       "tt0285252                      nm0899854            nm0899854\n",
       "tt0438973                            NaN  nm0175726,nm1802864\n",
       "tt0462036                      nm1940585            nm1940585\n",
       "tt0835418                      nm0151540  nm0310087,nm0841532\n",
       "tt0878654  nm0089502,nm2291498,nm2292011            nm0284943"
      ]
     },
     "execution_count": 118,
     "metadata": {},
     "output_type": "execute_result"
    }
   ],
   "source": [
    "imdb_title_crew_df = csv_files_dict['imdb_title_crew_gz']\n",
    "imdb_title_crew_df.head()"
   ]
  },
  {
   "cell_type": "code",
   "execution_count": 119,
   "metadata": {
    "ExecuteTime": {
     "end_time": "2022-02-11T15:49:17.310201Z",
     "start_time": "2022-02-11T15:49:17.297236Z"
    }
   },
   "outputs": [
    {
     "data": {
      "text/plain": [
       "(146144, 2)"
      ]
     },
     "execution_count": 119,
     "metadata": {},
     "output_type": "execute_result"
    }
   ],
   "source": [
    "imdb_title_crew_df.shape"
   ]
  },
  {
   "cell_type": "code",
   "execution_count": 120,
   "metadata": {
    "ExecuteTime": {
     "end_time": "2022-02-11T15:49:17.897633Z",
     "start_time": "2022-02-11T15:49:17.883670Z"
    }
   },
   "outputs": [
    {
     "data": {
      "text/html": [
       "<div>\n",
       "<style scoped>\n",
       "    .dataframe tbody tr th:only-of-type {\n",
       "        vertical-align: middle;\n",
       "    }\n",
       "\n",
       "    .dataframe tbody tr th {\n",
       "        vertical-align: top;\n",
       "    }\n",
       "\n",
       "    .dataframe thead th {\n",
       "        text-align: right;\n",
       "    }\n",
       "</style>\n",
       "<table border=\"1\" class=\"dataframe\">\n",
       "  <thead>\n",
       "    <tr style=\"text-align: right;\">\n",
       "      <th></th>\n",
       "      <th>ordering</th>\n",
       "      <th>nconst</th>\n",
       "      <th>category</th>\n",
       "      <th>job</th>\n",
       "      <th>characters</th>\n",
       "    </tr>\n",
       "    <tr>\n",
       "      <th>tconst</th>\n",
       "      <th></th>\n",
       "      <th></th>\n",
       "      <th></th>\n",
       "      <th></th>\n",
       "      <th></th>\n",
       "    </tr>\n",
       "  </thead>\n",
       "  <tbody>\n",
       "    <tr>\n",
       "      <th>tt0111414</th>\n",
       "      <td>1</td>\n",
       "      <td>nm0246005</td>\n",
       "      <td>actor</td>\n",
       "      <td>NaN</td>\n",
       "      <td>[\"The Man\"]</td>\n",
       "    </tr>\n",
       "    <tr>\n",
       "      <th>tt0111414</th>\n",
       "      <td>2</td>\n",
       "      <td>nm0398271</td>\n",
       "      <td>director</td>\n",
       "      <td>NaN</td>\n",
       "      <td>NaN</td>\n",
       "    </tr>\n",
       "    <tr>\n",
       "      <th>tt0111414</th>\n",
       "      <td>3</td>\n",
       "      <td>nm3739909</td>\n",
       "      <td>producer</td>\n",
       "      <td>producer</td>\n",
       "      <td>NaN</td>\n",
       "    </tr>\n",
       "    <tr>\n",
       "      <th>tt0323808</th>\n",
       "      <td>10</td>\n",
       "      <td>nm0059247</td>\n",
       "      <td>editor</td>\n",
       "      <td>NaN</td>\n",
       "      <td>NaN</td>\n",
       "    </tr>\n",
       "    <tr>\n",
       "      <th>tt0323808</th>\n",
       "      <td>1</td>\n",
       "      <td>nm3579312</td>\n",
       "      <td>actress</td>\n",
       "      <td>NaN</td>\n",
       "      <td>[\"Beth Boothby\"]</td>\n",
       "    </tr>\n",
       "  </tbody>\n",
       "</table>\n",
       "</div>"
      ],
      "text/plain": [
       "           ordering     nconst  category       job        characters\n",
       "tconst                                                              \n",
       "tt0111414         1  nm0246005     actor       NaN       [\"The Man\"]\n",
       "tt0111414         2  nm0398271  director       NaN               NaN\n",
       "tt0111414         3  nm3739909  producer  producer               NaN\n",
       "tt0323808        10  nm0059247    editor       NaN               NaN\n",
       "tt0323808         1  nm3579312   actress       NaN  [\"Beth Boothby\"]"
      ]
     },
     "execution_count": 120,
     "metadata": {},
     "output_type": "execute_result"
    }
   ],
   "source": [
    "imdb_title_principals_df = csv_files_dict['imdb_title_principals_gz']\n",
    "imdb_title_principals_df.head()"
   ]
  },
  {
   "cell_type": "code",
   "execution_count": 121,
   "metadata": {
    "ExecuteTime": {
     "end_time": "2022-02-11T15:49:18.481451Z",
     "start_time": "2022-02-11T15:49:18.467488Z"
    }
   },
   "outputs": [
    {
     "data": {
      "text/plain": [
       "(1028186, 5)"
      ]
     },
     "execution_count": 121,
     "metadata": {},
     "output_type": "execute_result"
    }
   ],
   "source": [
    "imdb_title_principals_df.shape"
   ]
  },
  {
   "cell_type": "code",
   "execution_count": 122,
   "metadata": {
    "ExecuteTime": {
     "end_time": "2022-02-11T15:49:19.866668Z",
     "start_time": "2022-02-11T15:49:19.075984Z"
    }
   },
   "outputs": [
    {
     "data": {
      "text/html": [
       "<div>\n",
       "<style scoped>\n",
       "    .dataframe tbody tr th:only-of-type {\n",
       "        vertical-align: middle;\n",
       "    }\n",
       "\n",
       "    .dataframe tbody tr th {\n",
       "        vertical-align: top;\n",
       "    }\n",
       "\n",
       "    .dataframe thead th {\n",
       "        text-align: right;\n",
       "    }\n",
       "</style>\n",
       "<table border=\"1\" class=\"dataframe\">\n",
       "  <thead>\n",
       "    <tr style=\"text-align: right;\">\n",
       "      <th></th>\n",
       "      <th>ordering</th>\n",
       "      <th>nconst</th>\n",
       "      <th>category</th>\n",
       "      <th>job</th>\n",
       "      <th>characters</th>\n",
       "      <th>directors</th>\n",
       "      <th>writers</th>\n",
       "    </tr>\n",
       "    <tr>\n",
       "      <th>tconst</th>\n",
       "      <th></th>\n",
       "      <th></th>\n",
       "      <th></th>\n",
       "      <th></th>\n",
       "      <th></th>\n",
       "      <th></th>\n",
       "      <th></th>\n",
       "    </tr>\n",
       "  </thead>\n",
       "  <tbody>\n",
       "    <tr>\n",
       "      <th>tt0063540</th>\n",
       "      <td>10</td>\n",
       "      <td>nm0006210</td>\n",
       "      <td>composer</td>\n",
       "      <td>NaN</td>\n",
       "      <td>NaN</td>\n",
       "      <td>nm0712540</td>\n",
       "      <td>nm0023551,nm1194313,nm0347899,nm1391276</td>\n",
       "    </tr>\n",
       "    <tr>\n",
       "      <th>tt0063540</th>\n",
       "      <td>1</td>\n",
       "      <td>nm0474801</td>\n",
       "      <td>actor</td>\n",
       "      <td>NaN</td>\n",
       "      <td>[\"Kundan S. Prasad\",\"Bajrangi\"]</td>\n",
       "      <td>nm0712540</td>\n",
       "      <td>nm0023551,nm1194313,nm0347899,nm1391276</td>\n",
       "    </tr>\n",
       "    <tr>\n",
       "      <th>tt0063540</th>\n",
       "      <td>2</td>\n",
       "      <td>nm0904537</td>\n",
       "      <td>actress</td>\n",
       "      <td>NaN</td>\n",
       "      <td>[\"Munni\",\"Laila-E-Aasmaan\"]</td>\n",
       "      <td>nm0712540</td>\n",
       "      <td>nm0023551,nm1194313,nm0347899,nm1391276</td>\n",
       "    </tr>\n",
       "    <tr>\n",
       "      <th>tt0063540</th>\n",
       "      <td>3</td>\n",
       "      <td>nm0756379</td>\n",
       "      <td>actor</td>\n",
       "      <td>NaN</td>\n",
       "      <td>[\"Ganeshi N. Prasad\"]</td>\n",
       "      <td>nm0712540</td>\n",
       "      <td>nm0023551,nm1194313,nm0347899,nm1391276</td>\n",
       "    </tr>\n",
       "    <tr>\n",
       "      <th>tt0063540</th>\n",
       "      <td>4</td>\n",
       "      <td>nm0474876</td>\n",
       "      <td>actor</td>\n",
       "      <td>NaN</td>\n",
       "      <td>[\"Dwarka N. Prasad\"]</td>\n",
       "      <td>nm0712540</td>\n",
       "      <td>nm0023551,nm1194313,nm0347899,nm1391276</td>\n",
       "    </tr>\n",
       "  </tbody>\n",
       "</table>\n",
       "</div>"
      ],
      "text/plain": [
       "           ordering     nconst  category  job  \\\n",
       "tconst                                          \n",
       "tt0063540        10  nm0006210  composer  NaN   \n",
       "tt0063540         1  nm0474801     actor  NaN   \n",
       "tt0063540         2  nm0904537   actress  NaN   \n",
       "tt0063540         3  nm0756379     actor  NaN   \n",
       "tt0063540         4  nm0474876     actor  NaN   \n",
       "\n",
       "                                characters  directors  \\\n",
       "tconst                                                  \n",
       "tt0063540                              NaN  nm0712540   \n",
       "tt0063540  [\"Kundan S. Prasad\",\"Bajrangi\"]  nm0712540   \n",
       "tt0063540      [\"Munni\",\"Laila-E-Aasmaan\"]  nm0712540   \n",
       "tt0063540            [\"Ganeshi N. Prasad\"]  nm0712540   \n",
       "tt0063540             [\"Dwarka N. Prasad\"]  nm0712540   \n",
       "\n",
       "                                           writers  \n",
       "tconst                                              \n",
       "tt0063540  nm0023551,nm1194313,nm0347899,nm1391276  \n",
       "tt0063540  nm0023551,nm1194313,nm0347899,nm1391276  \n",
       "tt0063540  nm0023551,nm1194313,nm0347899,nm1391276  \n",
       "tt0063540  nm0023551,nm1194313,nm0347899,nm1391276  \n",
       "tt0063540  nm0023551,nm1194313,nm0347899,nm1391276  "
      ]
     },
     "execution_count": 122,
     "metadata": {},
     "output_type": "execute_result"
    }
   ],
   "source": [
    "imdb_principals_crew_df = imdb_title_principals_df.join(imdb_title_crew_df, how='inner')\n",
    "imdb_principals_crew_df.head()"
   ]
  },
  {
   "cell_type": "code",
   "execution_count": 123,
   "metadata": {
    "ExecuteTime": {
     "end_time": "2022-02-11T15:49:20.717400Z",
     "start_time": "2022-02-11T15:49:20.483978Z"
    }
   },
   "outputs": [
    {
     "data": {
      "text/html": [
       "<div>\n",
       "<style scoped>\n",
       "    .dataframe tbody tr th:only-of-type {\n",
       "        vertical-align: middle;\n",
       "    }\n",
       "\n",
       "    .dataframe tbody tr th {\n",
       "        vertical-align: top;\n",
       "    }\n",
       "\n",
       "    .dataframe thead th {\n",
       "        text-align: right;\n",
       "    }\n",
       "</style>\n",
       "<table border=\"1\" class=\"dataframe\">\n",
       "  <thead>\n",
       "    <tr style=\"text-align: right;\">\n",
       "      <th></th>\n",
       "      <th>ordering</th>\n",
       "      <th>nconst</th>\n",
       "      <th>directors</th>\n",
       "      <th>writers</th>\n",
       "    </tr>\n",
       "    <tr>\n",
       "      <th>tconst</th>\n",
       "      <th></th>\n",
       "      <th></th>\n",
       "      <th></th>\n",
       "      <th></th>\n",
       "    </tr>\n",
       "  </thead>\n",
       "  <tbody>\n",
       "    <tr>\n",
       "      <th>tt0063540</th>\n",
       "      <td>10</td>\n",
       "      <td>nm0006210</td>\n",
       "      <td>nm0712540</td>\n",
       "      <td>nm0023551,nm1194313,nm0347899,nm1391276</td>\n",
       "    </tr>\n",
       "    <tr>\n",
       "      <th>tt0063540</th>\n",
       "      <td>1</td>\n",
       "      <td>nm0474801</td>\n",
       "      <td>nm0712540</td>\n",
       "      <td>nm0023551,nm1194313,nm0347899,nm1391276</td>\n",
       "    </tr>\n",
       "  </tbody>\n",
       "</table>\n",
       "</div>"
      ],
      "text/plain": [
       "           ordering     nconst  directors  \\\n",
       "tconst                                      \n",
       "tt0063540        10  nm0006210  nm0712540   \n",
       "tt0063540         1  nm0474801  nm0712540   \n",
       "\n",
       "                                           writers  \n",
       "tconst                                              \n",
       "tt0063540  nm0023551,nm1194313,nm0347899,nm1391276  \n",
       "tt0063540  nm0023551,nm1194313,nm0347899,nm1391276  "
      ]
     },
     "execution_count": 123,
     "metadata": {},
     "output_type": "execute_result"
    }
   ],
   "source": [
    "imdb_principals_crew_df = imdb_principals_crew_df.drop(['category', 'job', 'characters'], axis =1)\n",
    "imdb_principals_crew_df.head(2)"
   ]
  },
  {
   "cell_type": "code",
   "execution_count": 124,
   "metadata": {
    "ExecuteTime": {
     "end_time": "2022-02-11T15:49:21.426622Z",
     "start_time": "2022-02-11T15:49:21.381743Z"
    }
   },
   "outputs": [],
   "source": [
    "imdb_principals_crew_df = imdb_principals_crew_df.drop(['directors', 'writers', 'ordering'], axis=1)"
   ]
  },
  {
   "cell_type": "code",
   "execution_count": 125,
   "metadata": {
    "ExecuteTime": {
     "end_time": "2022-02-11T15:49:22.468714Z",
     "start_time": "2022-02-11T15:49:22.017042Z"
    }
   },
   "outputs": [
    {
     "data": {
      "text/plain": [
       "(9118, 8)"
      ]
     },
     "execution_count": 125,
     "metadata": {},
     "output_type": "execute_result"
    }
   ],
   "source": [
    "budget_crew_df = budget_genres_df.join(imdb_principals_crew_df, how='inner')\n",
    "budget_crew_df.shape"
   ]
  },
  {
   "cell_type": "code",
   "execution_count": 126,
   "metadata": {
    "ExecuteTime": {
     "end_time": "2022-02-11T15:49:23.102838Z",
     "start_time": "2022-02-11T15:49:23.074584Z"
    }
   },
   "outputs": [
    {
     "data": {
      "text/html": [
       "<div>\n",
       "<style scoped>\n",
       "    .dataframe tbody tr th:only-of-type {\n",
       "        vertical-align: middle;\n",
       "    }\n",
       "\n",
       "    .dataframe tbody tr th {\n",
       "        vertical-align: top;\n",
       "    }\n",
       "\n",
       "    .dataframe thead th {\n",
       "        text-align: right;\n",
       "    }\n",
       "</style>\n",
       "<table border=\"1\" class=\"dataframe\">\n",
       "  <thead>\n",
       "    <tr style=\"text-align: right;\">\n",
       "      <th></th>\n",
       "      <th>index</th>\n",
       "      <th>genres</th>\n",
       "      <th>release_date</th>\n",
       "      <th>production_budget</th>\n",
       "      <th>worldwide_gross</th>\n",
       "      <th>worldwide_net</th>\n",
       "      <th>studio</th>\n",
       "      <th>nconst</th>\n",
       "    </tr>\n",
       "    <tr>\n",
       "      <th>tconst</th>\n",
       "      <th></th>\n",
       "      <th></th>\n",
       "      <th></th>\n",
       "      <th></th>\n",
       "      <th></th>\n",
       "      <th></th>\n",
       "      <th></th>\n",
       "      <th></th>\n",
       "    </tr>\n",
       "  </thead>\n",
       "  <tbody>\n",
       "    <tr>\n",
       "      <th>tt0359950</th>\n",
       "      <td>The Secret Life of Walter Mitty</td>\n",
       "      <td>Adventure</td>\n",
       "      <td>2013-12-25</td>\n",
       "      <td>91000000</td>\n",
       "      <td>187861183</td>\n",
       "      <td>96861183</td>\n",
       "      <td>Fox</td>\n",
       "      <td>nm0788640</td>\n",
       "    </tr>\n",
       "    <tr>\n",
       "      <th>tt0359950</th>\n",
       "      <td>The Secret Life of Walter Mitty</td>\n",
       "      <td>Adventure</td>\n",
       "      <td>2013-12-25</td>\n",
       "      <td>91000000</td>\n",
       "      <td>187861183</td>\n",
       "      <td>96861183</td>\n",
       "      <td>Fox</td>\n",
       "      <td>nm0001774</td>\n",
       "    </tr>\n",
       "    <tr>\n",
       "      <th>tt0359950</th>\n",
       "      <td>The Secret Life of Walter Mitty</td>\n",
       "      <td>Adventure</td>\n",
       "      <td>2013-12-25</td>\n",
       "      <td>91000000</td>\n",
       "      <td>187861183</td>\n",
       "      <td>96861183</td>\n",
       "      <td>Fox</td>\n",
       "      <td>nm1325419</td>\n",
       "    </tr>\n",
       "    <tr>\n",
       "      <th>tt0359950</th>\n",
       "      <td>The Secret Life of Walter Mitty</td>\n",
       "      <td>Adventure</td>\n",
       "      <td>2013-12-25</td>\n",
       "      <td>91000000</td>\n",
       "      <td>187861183</td>\n",
       "      <td>96861183</td>\n",
       "      <td>Fox</td>\n",
       "      <td>nm1789985</td>\n",
       "    </tr>\n",
       "    <tr>\n",
       "      <th>tt0359950</th>\n",
       "      <td>The Secret Life of Walter Mitty</td>\n",
       "      <td>Adventure</td>\n",
       "      <td>2013-12-25</td>\n",
       "      <td>91000000</td>\n",
       "      <td>187861183</td>\n",
       "      <td>96861183</td>\n",
       "      <td>Fox</td>\n",
       "      <td>nm1063517</td>\n",
       "    </tr>\n",
       "  </tbody>\n",
       "</table>\n",
       "</div>"
      ],
      "text/plain": [
       "                                     index     genres release_date  \\\n",
       "tconst                                                               \n",
       "tt0359950  The Secret Life of Walter Mitty  Adventure   2013-12-25   \n",
       "tt0359950  The Secret Life of Walter Mitty  Adventure   2013-12-25   \n",
       "tt0359950  The Secret Life of Walter Mitty  Adventure   2013-12-25   \n",
       "tt0359950  The Secret Life of Walter Mitty  Adventure   2013-12-25   \n",
       "tt0359950  The Secret Life of Walter Mitty  Adventure   2013-12-25   \n",
       "\n",
       "           production_budget  worldwide_gross  worldwide_net studio     nconst  \n",
       "tconst                                                                          \n",
       "tt0359950           91000000        187861183       96861183    Fox  nm0788640  \n",
       "tt0359950           91000000        187861183       96861183    Fox  nm0001774  \n",
       "tt0359950           91000000        187861183       96861183    Fox  nm1325419  \n",
       "tt0359950           91000000        187861183       96861183    Fox  nm1789985  \n",
       "tt0359950           91000000        187861183       96861183    Fox  nm1063517  "
      ]
     },
     "execution_count": 126,
     "metadata": {},
     "output_type": "execute_result"
    }
   ],
   "source": [
    "budget_crew_df.head()"
   ]
  },
  {
   "cell_type": "code",
   "execution_count": 127,
   "metadata": {
    "ExecuteTime": {
     "end_time": "2022-02-11T15:49:23.721239Z",
     "start_time": "2022-02-11T15:49:23.707246Z"
    }
   },
   "outputs": [],
   "source": [
    "budget_crew_df = budget_crew_df.drop_duplicates(subset='index')"
   ]
  },
  {
   "cell_type": "code",
   "execution_count": 128,
   "metadata": {
    "ExecuteTime": {
     "end_time": "2022-02-11T15:49:24.322864Z",
     "start_time": "2022-02-11T15:49:24.308870Z"
    }
   },
   "outputs": [
    {
     "data": {
      "text/plain": [
       "(919, 8)"
      ]
     },
     "execution_count": 128,
     "metadata": {},
     "output_type": "execute_result"
    }
   ],
   "source": [
    "budget_crew_df.shape"
   ]
  },
  {
   "cell_type": "code",
   "execution_count": 129,
   "metadata": {
    "ExecuteTime": {
     "end_time": "2022-02-11T15:49:24.922872Z",
     "start_time": "2022-02-11T15:49:24.895772Z"
    }
   },
   "outputs": [
    {
     "name": "stdout",
     "output_type": "stream",
     "text": [
      "<class 'pandas.core.frame.DataFrame'>\n",
      "Index: 919 entries, tt0359950 to tt7784604\n",
      "Data columns (total 8 columns):\n",
      " #   Column             Non-Null Count  Dtype         \n",
      "---  ------             --------------  -----         \n",
      " 0   index              919 non-null    object        \n",
      " 1   genres             919 non-null    object        \n",
      " 2   release_date       919 non-null    datetime64[ns]\n",
      " 3   production_budget  919 non-null    int64         \n",
      " 4   worldwide_gross    919 non-null    int64         \n",
      " 5   worldwide_net      919 non-null    int64         \n",
      " 6   studio             919 non-null    object        \n",
      " 7   nconst             919 non-null    object        \n",
      "dtypes: datetime64[ns](1), int64(3), object(4)\n",
      "memory usage: 64.6+ KB\n"
     ]
    }
   ],
   "source": [
    "budget_crew_df.info()"
   ]
  },
  {
   "cell_type": "code",
   "execution_count": 130,
   "metadata": {
    "ExecuteTime": {
     "end_time": "2022-02-11T15:49:25.539103Z",
     "start_time": "2022-02-11T15:49:25.509071Z"
    }
   },
   "outputs": [
    {
     "data": {
      "text/html": [
       "<div>\n",
       "<style scoped>\n",
       "    .dataframe tbody tr th:only-of-type {\n",
       "        vertical-align: middle;\n",
       "    }\n",
       "\n",
       "    .dataframe tbody tr th {\n",
       "        vertical-align: top;\n",
       "    }\n",
       "\n",
       "    .dataframe thead th {\n",
       "        text-align: right;\n",
       "    }\n",
       "</style>\n",
       "<table border=\"1\" class=\"dataframe\">\n",
       "  <thead>\n",
       "    <tr style=\"text-align: right;\">\n",
       "      <th></th>\n",
       "      <th>index</th>\n",
       "      <th>genres</th>\n",
       "      <th>release_date</th>\n",
       "      <th>production_budget</th>\n",
       "      <th>worldwide_gross</th>\n",
       "      <th>worldwide_net</th>\n",
       "      <th>studio</th>\n",
       "    </tr>\n",
       "    <tr>\n",
       "      <th>nconst</th>\n",
       "      <th></th>\n",
       "      <th></th>\n",
       "      <th></th>\n",
       "      <th></th>\n",
       "      <th></th>\n",
       "      <th></th>\n",
       "      <th></th>\n",
       "    </tr>\n",
       "  </thead>\n",
       "  <tbody>\n",
       "    <tr>\n",
       "      <th>nm0788640</th>\n",
       "      <td>The Secret Life of Walter Mitty</td>\n",
       "      <td>Adventure</td>\n",
       "      <td>2013-12-25</td>\n",
       "      <td>91000000</td>\n",
       "      <td>187861183</td>\n",
       "      <td>96861183</td>\n",
       "      <td>Fox</td>\n",
       "    </tr>\n",
       "    <tr>\n",
       "      <th>nm0787834</th>\n",
       "      <td>A Walk Among the Tombstones</td>\n",
       "      <td>Action</td>\n",
       "      <td>2014-09-19</td>\n",
       "      <td>28000000</td>\n",
       "      <td>62108587</td>\n",
       "      <td>34108587</td>\n",
       "      <td>Uni.</td>\n",
       "    </tr>\n",
       "    <tr>\n",
       "      <th>nm0189777</th>\n",
       "      <td>Jurassic World</td>\n",
       "      <td>Action</td>\n",
       "      <td>2015-06-12</td>\n",
       "      <td>215000000</td>\n",
       "      <td>1648854864</td>\n",
       "      <td>1433854864</td>\n",
       "      <td>Uni.</td>\n",
       "    </tr>\n",
       "    <tr>\n",
       "      <th>nm0002201</th>\n",
       "      <td>The Three Stooges</td>\n",
       "      <td>Comedy</td>\n",
       "      <td>2012-04-13</td>\n",
       "      <td>30000000</td>\n",
       "      <td>54052249</td>\n",
       "      <td>24052249</td>\n",
       "      <td>Fox</td>\n",
       "    </tr>\n",
       "    <tr>\n",
       "      <th>nm0174807</th>\n",
       "      <td>Tangled</td>\n",
       "      <td>Adventure</td>\n",
       "      <td>2010-11-24</td>\n",
       "      <td>260000000</td>\n",
       "      <td>586477240</td>\n",
       "      <td>326477240</td>\n",
       "      <td>BV</td>\n",
       "    </tr>\n",
       "  </tbody>\n",
       "</table>\n",
       "</div>"
      ],
      "text/plain": [
       "                                     index     genres release_date  \\\n",
       "nconst                                                               \n",
       "nm0788640  The Secret Life of Walter Mitty  Adventure   2013-12-25   \n",
       "nm0787834      A Walk Among the Tombstones     Action   2014-09-19   \n",
       "nm0189777                   Jurassic World     Action   2015-06-12   \n",
       "nm0002201                The Three Stooges     Comedy   2012-04-13   \n",
       "nm0174807                          Tangled  Adventure   2010-11-24   \n",
       "\n",
       "           production_budget  worldwide_gross  worldwide_net studio  \n",
       "nconst                                                               \n",
       "nm0788640           91000000        187861183       96861183    Fox  \n",
       "nm0787834           28000000         62108587       34108587   Uni.  \n",
       "nm0189777          215000000       1648854864     1433854864   Uni.  \n",
       "nm0002201           30000000         54052249       24052249    Fox  \n",
       "nm0174807          260000000        586477240      326477240     BV  "
      ]
     },
     "execution_count": 130,
     "metadata": {},
     "output_type": "execute_result"
    }
   ],
   "source": [
    "budget_crew_df = budget_crew_df.set_index('nconst')\n",
    "budget_crew_df.head()"
   ]
  },
  {
   "cell_type": "code",
   "execution_count": 131,
   "metadata": {
    "ExecuteTime": {
     "end_time": "2022-02-11T15:49:26.157663Z",
     "start_time": "2022-02-11T15:49:26.128740Z"
    }
   },
   "outputs": [
    {
     "data": {
      "text/html": [
       "<div>\n",
       "<style scoped>\n",
       "    .dataframe tbody tr th:only-of-type {\n",
       "        vertical-align: middle;\n",
       "    }\n",
       "\n",
       "    .dataframe tbody tr th {\n",
       "        vertical-align: top;\n",
       "    }\n",
       "\n",
       "    .dataframe thead th {\n",
       "        text-align: right;\n",
       "    }\n",
       "</style>\n",
       "<table border=\"1\" class=\"dataframe\">\n",
       "  <thead>\n",
       "    <tr style=\"text-align: right;\">\n",
       "      <th></th>\n",
       "      <th>primary_name</th>\n",
       "      <th>birth_year</th>\n",
       "      <th>death_year</th>\n",
       "      <th>primary_profession</th>\n",
       "      <th>known_for_titles</th>\n",
       "    </tr>\n",
       "    <tr>\n",
       "      <th>nconst</th>\n",
       "      <th></th>\n",
       "      <th></th>\n",
       "      <th></th>\n",
       "      <th></th>\n",
       "      <th></th>\n",
       "    </tr>\n",
       "  </thead>\n",
       "  <tbody>\n",
       "    <tr>\n",
       "      <th>nm0061671</th>\n",
       "      <td>Mary Ellen Bauder</td>\n",
       "      <td>NaN</td>\n",
       "      <td>NaN</td>\n",
       "      <td>miscellaneous,production_manager,producer</td>\n",
       "      <td>tt0837562,tt2398241,tt0844471,tt0118553</td>\n",
       "    </tr>\n",
       "    <tr>\n",
       "      <th>nm0061865</th>\n",
       "      <td>Joseph Bauer</td>\n",
       "      <td>NaN</td>\n",
       "      <td>NaN</td>\n",
       "      <td>composer,music_department,sound_department</td>\n",
       "      <td>tt0896534,tt6791238,tt0287072,tt1682940</td>\n",
       "    </tr>\n",
       "    <tr>\n",
       "      <th>nm0062070</th>\n",
       "      <td>Bruce Baum</td>\n",
       "      <td>NaN</td>\n",
       "      <td>NaN</td>\n",
       "      <td>miscellaneous,actor,writer</td>\n",
       "      <td>tt1470654,tt0363631,tt0104030,tt0102898</td>\n",
       "    </tr>\n",
       "    <tr>\n",
       "      <th>nm0062195</th>\n",
       "      <td>Axel Baumann</td>\n",
       "      <td>NaN</td>\n",
       "      <td>NaN</td>\n",
       "      <td>camera_department,cinematographer,art_department</td>\n",
       "      <td>tt0114371,tt2004304,tt1618448,tt1224387</td>\n",
       "    </tr>\n",
       "    <tr>\n",
       "      <th>nm0062798</th>\n",
       "      <td>Pete Baxter</td>\n",
       "      <td>NaN</td>\n",
       "      <td>NaN</td>\n",
       "      <td>production_designer,art_department,set_decorator</td>\n",
       "      <td>tt0452644,tt0452692,tt3458030,tt2178256</td>\n",
       "    </tr>\n",
       "  </tbody>\n",
       "</table>\n",
       "</div>"
      ],
      "text/plain": [
       "                primary_name  birth_year  death_year  \\\n",
       "nconst                                                 \n",
       "nm0061671  Mary Ellen Bauder         NaN         NaN   \n",
       "nm0061865       Joseph Bauer         NaN         NaN   \n",
       "nm0062070         Bruce Baum         NaN         NaN   \n",
       "nm0062195       Axel Baumann         NaN         NaN   \n",
       "nm0062798        Pete Baxter         NaN         NaN   \n",
       "\n",
       "                                         primary_profession  \\\n",
       "nconst                                                        \n",
       "nm0061671         miscellaneous,production_manager,producer   \n",
       "nm0061865        composer,music_department,sound_department   \n",
       "nm0062070                        miscellaneous,actor,writer   \n",
       "nm0062195  camera_department,cinematographer,art_department   \n",
       "nm0062798  production_designer,art_department,set_decorator   \n",
       "\n",
       "                                  known_for_titles  \n",
       "nconst                                              \n",
       "nm0061671  tt0837562,tt2398241,tt0844471,tt0118553  \n",
       "nm0061865  tt0896534,tt6791238,tt0287072,tt1682940  \n",
       "nm0062070  tt1470654,tt0363631,tt0104030,tt0102898  \n",
       "nm0062195  tt0114371,tt2004304,tt1618448,tt1224387  \n",
       "nm0062798  tt0452644,tt0452692,tt3458030,tt2178256  "
      ]
     },
     "execution_count": 131,
     "metadata": {},
     "output_type": "execute_result"
    }
   ],
   "source": [
    "imdb_name_basics_df = csv_files_dict['imdb_name_basics_gz']\n",
    "imdb_name_basics_df.head()"
   ]
  },
  {
   "cell_type": "code",
   "execution_count": 132,
   "metadata": {
    "ExecuteTime": {
     "end_time": "2022-02-11T15:49:26.786900Z",
     "start_time": "2022-02-11T15:49:26.744933Z"
    }
   },
   "outputs": [
    {
     "data": {
      "text/html": [
       "<div>\n",
       "<style scoped>\n",
       "    .dataframe tbody tr th:only-of-type {\n",
       "        vertical-align: middle;\n",
       "    }\n",
       "\n",
       "    .dataframe tbody tr th {\n",
       "        vertical-align: top;\n",
       "    }\n",
       "\n",
       "    .dataframe thead th {\n",
       "        text-align: right;\n",
       "    }\n",
       "</style>\n",
       "<table border=\"1\" class=\"dataframe\">\n",
       "  <thead>\n",
       "    <tr style=\"text-align: right;\">\n",
       "      <th></th>\n",
       "      <th>primary_name</th>\n",
       "    </tr>\n",
       "    <tr>\n",
       "      <th>nconst</th>\n",
       "      <th></th>\n",
       "    </tr>\n",
       "  </thead>\n",
       "  <tbody>\n",
       "    <tr>\n",
       "      <th>nm0061671</th>\n",
       "      <td>Mary Ellen Bauder</td>\n",
       "    </tr>\n",
       "    <tr>\n",
       "      <th>nm0061865</th>\n",
       "      <td>Joseph Bauer</td>\n",
       "    </tr>\n",
       "    <tr>\n",
       "      <th>nm0062070</th>\n",
       "      <td>Bruce Baum</td>\n",
       "    </tr>\n",
       "    <tr>\n",
       "      <th>nm0062195</th>\n",
       "      <td>Axel Baumann</td>\n",
       "    </tr>\n",
       "    <tr>\n",
       "      <th>nm0062798</th>\n",
       "      <td>Pete Baxter</td>\n",
       "    </tr>\n",
       "  </tbody>\n",
       "</table>\n",
       "</div>"
      ],
      "text/plain": [
       "                primary_name\n",
       "nconst                      \n",
       "nm0061671  Mary Ellen Bauder\n",
       "nm0061865       Joseph Bauer\n",
       "nm0062070         Bruce Baum\n",
       "nm0062195       Axel Baumann\n",
       "nm0062798        Pete Baxter"
      ]
     },
     "execution_count": 132,
     "metadata": {},
     "output_type": "execute_result"
    }
   ],
   "source": [
    "imdb_name_basics_df = imdb_name_basics_df.drop(['birth_year', 'death_year', 'primary_profession', \n",
    "                                               'known_for_titles'], axis=1)\n",
    "imdb_name_basics_df.head()"
   ]
  },
  {
   "cell_type": "code",
   "execution_count": 133,
   "metadata": {
    "ExecuteTime": {
     "end_time": "2022-02-11T15:49:28.710403Z",
     "start_time": "2022-02-11T15:49:27.418679Z"
    }
   },
   "outputs": [
    {
     "data": {
      "text/html": [
       "<div>\n",
       "<style scoped>\n",
       "    .dataframe tbody tr th:only-of-type {\n",
       "        vertical-align: middle;\n",
       "    }\n",
       "\n",
       "    .dataframe tbody tr th {\n",
       "        vertical-align: top;\n",
       "    }\n",
       "\n",
       "    .dataframe thead th {\n",
       "        text-align: right;\n",
       "    }\n",
       "</style>\n",
       "<table border=\"1\" class=\"dataframe\">\n",
       "  <thead>\n",
       "    <tr style=\"text-align: right;\">\n",
       "      <th></th>\n",
       "      <th>index</th>\n",
       "      <th>genres</th>\n",
       "      <th>release_date</th>\n",
       "      <th>production_budget</th>\n",
       "      <th>worldwide_gross</th>\n",
       "      <th>worldwide_net</th>\n",
       "      <th>studio</th>\n",
       "      <th>primary_name</th>\n",
       "    </tr>\n",
       "    <tr>\n",
       "      <th>nconst</th>\n",
       "      <th></th>\n",
       "      <th></th>\n",
       "      <th></th>\n",
       "      <th></th>\n",
       "      <th></th>\n",
       "      <th></th>\n",
       "      <th></th>\n",
       "      <th></th>\n",
       "    </tr>\n",
       "  </thead>\n",
       "  <tbody>\n",
       "    <tr>\n",
       "      <th>nm0000093</th>\n",
       "      <td>Kick-Ass 2</td>\n",
       "      <td>Action</td>\n",
       "      <td>2013-08-16</td>\n",
       "      <td>28000000</td>\n",
       "      <td>63129909</td>\n",
       "      <td>35129909</td>\n",
       "      <td>Uni.</td>\n",
       "      <td>Brad Pitt</td>\n",
       "    </tr>\n",
       "    <tr>\n",
       "      <th>nm0000165</th>\n",
       "      <td>The Dark Tower</td>\n",
       "      <td>Action</td>\n",
       "      <td>2017-08-04</td>\n",
       "      <td>60000000</td>\n",
       "      <td>113461527</td>\n",
       "      <td>53461527</td>\n",
       "      <td>Sony</td>\n",
       "      <td>Ron Howard</td>\n",
       "    </tr>\n",
       "    <tr>\n",
       "      <th>nm0000184</th>\n",
       "      <td>Rogue One: A Star Wars Story</td>\n",
       "      <td>Action</td>\n",
       "      <td>2016-12-16</td>\n",
       "      <td>200000000</td>\n",
       "      <td>1049102856</td>\n",
       "      <td>849102856</td>\n",
       "      <td>BV</td>\n",
       "      <td>George Lucas</td>\n",
       "    </tr>\n",
       "    <tr>\n",
       "      <th>nm0000226</th>\n",
       "      <td>The Karate Kid</td>\n",
       "      <td>Action</td>\n",
       "      <td>2010-06-11</td>\n",
       "      <td>40000000</td>\n",
       "      <td>351774938</td>\n",
       "      <td>311774938</td>\n",
       "      <td>Sony</td>\n",
       "      <td>Will Smith</td>\n",
       "    </tr>\n",
       "    <tr>\n",
       "      <th>nm0000384</th>\n",
       "      <td>Silver Linings Playbook</td>\n",
       "      <td>Comedy</td>\n",
       "      <td>2012-11-16</td>\n",
       "      <td>21000000</td>\n",
       "      <td>236412453</td>\n",
       "      <td>215412453</td>\n",
       "      <td>Wein.</td>\n",
       "      <td>Danny Elfman</td>\n",
       "    </tr>\n",
       "  </tbody>\n",
       "</table>\n",
       "</div>"
      ],
      "text/plain": [
       "                                  index  genres release_date  \\\n",
       "nconst                                                         \n",
       "nm0000093                    Kick-Ass 2  Action   2013-08-16   \n",
       "nm0000165                The Dark Tower  Action   2017-08-04   \n",
       "nm0000184  Rogue One: A Star Wars Story  Action   2016-12-16   \n",
       "nm0000226                The Karate Kid  Action   2010-06-11   \n",
       "nm0000384       Silver Linings Playbook  Comedy   2012-11-16   \n",
       "\n",
       "           production_budget  worldwide_gross  worldwide_net studio  \\\n",
       "nconst                                                                \n",
       "nm0000093           28000000         63129909       35129909   Uni.   \n",
       "nm0000165           60000000        113461527       53461527   Sony   \n",
       "nm0000184          200000000       1049102856      849102856     BV   \n",
       "nm0000226           40000000        351774938      311774938   Sony   \n",
       "nm0000384           21000000        236412453      215412453  Wein.   \n",
       "\n",
       "           primary_name  \n",
       "nconst                   \n",
       "nm0000093     Brad Pitt  \n",
       "nm0000165    Ron Howard  \n",
       "nm0000184  George Lucas  \n",
       "nm0000226    Will Smith  \n",
       "nm0000384  Danny Elfman  "
      ]
     },
     "execution_count": 133,
     "metadata": {},
     "output_type": "execute_result"
    }
   ],
   "source": [
    "budget_director_df = budget_crew_df.join(imdb_name_basics_df, how='inner')\n",
    "budget_director_df.head()"
   ]
  },
  {
   "cell_type": "code",
   "execution_count": 134,
   "metadata": {
    "ExecuteTime": {
     "end_time": "2022-02-11T15:49:29.356287Z",
     "start_time": "2022-02-11T15:49:29.343322Z"
    }
   },
   "outputs": [
    {
     "data": {
      "text/plain": [
       "(919, 8)"
      ]
     },
     "execution_count": 134,
     "metadata": {},
     "output_type": "execute_result"
    }
   ],
   "source": [
    "budget_director_df.shape"
   ]
  },
  {
   "cell_type": "code",
   "execution_count": 135,
   "metadata": {
    "ExecuteTime": {
     "end_time": "2022-02-11T15:49:29.972004Z",
     "start_time": "2022-02-11T15:49:29.944048Z"
    }
   },
   "outputs": [
    {
     "name": "stdout",
     "output_type": "stream",
     "text": [
      "<class 'pandas.core.frame.DataFrame'>\n",
      "Index: 919 entries, nm0000093 to nm9195200\n",
      "Data columns (total 8 columns):\n",
      " #   Column             Non-Null Count  Dtype         \n",
      "---  ------             --------------  -----         \n",
      " 0   index              919 non-null    object        \n",
      " 1   genres             919 non-null    object        \n",
      " 2   release_date       919 non-null    datetime64[ns]\n",
      " 3   production_budget  919 non-null    int64         \n",
      " 4   worldwide_gross    919 non-null    int64         \n",
      " 5   worldwide_net      919 non-null    int64         \n",
      " 6   studio             919 non-null    object        \n",
      " 7   primary_name       919 non-null    object        \n",
      "dtypes: datetime64[ns](1), int64(3), object(4)\n",
      "memory usage: 64.6+ KB\n"
     ]
    }
   ],
   "source": [
    "budget_director_df.info()"
   ]
  },
  {
   "cell_type": "code",
   "execution_count": 136,
   "metadata": {
    "ExecuteTime": {
     "end_time": "2022-02-11T15:49:30.555415Z",
     "start_time": "2022-02-11T15:49:30.525495Z"
    }
   },
   "outputs": [
    {
     "data": {
      "text/html": [
       "<div>\n",
       "<style scoped>\n",
       "    .dataframe tbody tr th:only-of-type {\n",
       "        vertical-align: middle;\n",
       "    }\n",
       "\n",
       "    .dataframe tbody tr th {\n",
       "        vertical-align: top;\n",
       "    }\n",
       "\n",
       "    .dataframe thead th {\n",
       "        text-align: right;\n",
       "    }\n",
       "</style>\n",
       "<table border=\"1\" class=\"dataframe\">\n",
       "  <thead>\n",
       "    <tr style=\"text-align: right;\">\n",
       "      <th></th>\n",
       "      <th>genres</th>\n",
       "      <th>release_date</th>\n",
       "      <th>production_budget</th>\n",
       "      <th>worldwide_gross</th>\n",
       "      <th>worldwide_net</th>\n",
       "      <th>studio</th>\n",
       "      <th>primary_name</th>\n",
       "    </tr>\n",
       "    <tr>\n",
       "      <th>index</th>\n",
       "      <th></th>\n",
       "      <th></th>\n",
       "      <th></th>\n",
       "      <th></th>\n",
       "      <th></th>\n",
       "      <th></th>\n",
       "      <th></th>\n",
       "    </tr>\n",
       "  </thead>\n",
       "  <tbody>\n",
       "    <tr>\n",
       "      <th>Kick-Ass 2</th>\n",
       "      <td>Action</td>\n",
       "      <td>2013-08-16</td>\n",
       "      <td>28000000</td>\n",
       "      <td>63129909</td>\n",
       "      <td>35129909</td>\n",
       "      <td>Uni.</td>\n",
       "      <td>Brad Pitt</td>\n",
       "    </tr>\n",
       "    <tr>\n",
       "      <th>The Dark Tower</th>\n",
       "      <td>Action</td>\n",
       "      <td>2017-08-04</td>\n",
       "      <td>60000000</td>\n",
       "      <td>113461527</td>\n",
       "      <td>53461527</td>\n",
       "      <td>Sony</td>\n",
       "      <td>Ron Howard</td>\n",
       "    </tr>\n",
       "    <tr>\n",
       "      <th>Rogue One: A Star Wars Story</th>\n",
       "      <td>Action</td>\n",
       "      <td>2016-12-16</td>\n",
       "      <td>200000000</td>\n",
       "      <td>1049102856</td>\n",
       "      <td>849102856</td>\n",
       "      <td>BV</td>\n",
       "      <td>George Lucas</td>\n",
       "    </tr>\n",
       "    <tr>\n",
       "      <th>The Karate Kid</th>\n",
       "      <td>Action</td>\n",
       "      <td>2010-06-11</td>\n",
       "      <td>40000000</td>\n",
       "      <td>351774938</td>\n",
       "      <td>311774938</td>\n",
       "      <td>Sony</td>\n",
       "      <td>Will Smith</td>\n",
       "    </tr>\n",
       "    <tr>\n",
       "      <th>Silver Linings Playbook</th>\n",
       "      <td>Comedy</td>\n",
       "      <td>2012-11-16</td>\n",
       "      <td>21000000</td>\n",
       "      <td>236412453</td>\n",
       "      <td>215412453</td>\n",
       "      <td>Wein.</td>\n",
       "      <td>Danny Elfman</td>\n",
       "    </tr>\n",
       "  </tbody>\n",
       "</table>\n",
       "</div>"
      ],
      "text/plain": [
       "                              genres release_date  production_budget  \\\n",
       "index                                                                  \n",
       "Kick-Ass 2                    Action   2013-08-16           28000000   \n",
       "The Dark Tower                Action   2017-08-04           60000000   \n",
       "Rogue One: A Star Wars Story  Action   2016-12-16          200000000   \n",
       "The Karate Kid                Action   2010-06-11           40000000   \n",
       "Silver Linings Playbook       Comedy   2012-11-16           21000000   \n",
       "\n",
       "                              worldwide_gross  worldwide_net studio  \\\n",
       "index                                                                 \n",
       "Kick-Ass 2                           63129909       35129909   Uni.   \n",
       "The Dark Tower                      113461527       53461527   Sony   \n",
       "Rogue One: A Star Wars Story       1049102856      849102856     BV   \n",
       "The Karate Kid                      351774938      311774938   Sony   \n",
       "Silver Linings Playbook             236412453      215412453  Wein.   \n",
       "\n",
       "                              primary_name  \n",
       "index                                       \n",
       "Kick-Ass 2                       Brad Pitt  \n",
       "The Dark Tower                  Ron Howard  \n",
       "Rogue One: A Star Wars Story  George Lucas  \n",
       "The Karate Kid                  Will Smith  \n",
       "Silver Linings Playbook       Danny Elfman  "
      ]
     },
     "execution_count": 136,
     "metadata": {},
     "output_type": "execute_result"
    }
   ],
   "source": [
    "budget_director_df = budget_director_df.set_index('index')\n",
    "budget_director_df.head()"
   ]
  },
  {
   "cell_type": "code",
   "execution_count": 137,
   "metadata": {
    "ExecuteTime": {
     "end_time": "2022-02-11T15:49:31.189114Z",
     "start_time": "2022-02-11T15:49:31.177120Z"
    }
   },
   "outputs": [],
   "source": [
    "budget_director_df = budget_director_df.reset_index()"
   ]
  },
  {
   "cell_type": "code",
   "execution_count": 138,
   "metadata": {
    "ExecuteTime": {
     "end_time": "2022-02-11T15:49:31.804212Z",
     "start_time": "2022-02-11T15:49:31.777253Z"
    }
   },
   "outputs": [
    {
     "data": {
      "text/html": [
       "<div>\n",
       "<style scoped>\n",
       "    .dataframe tbody tr th:only-of-type {\n",
       "        vertical-align: middle;\n",
       "    }\n",
       "\n",
       "    .dataframe tbody tr th {\n",
       "        vertical-align: top;\n",
       "    }\n",
       "\n",
       "    .dataframe thead th {\n",
       "        text-align: right;\n",
       "    }\n",
       "</style>\n",
       "<table border=\"1\" class=\"dataframe\">\n",
       "  <thead>\n",
       "    <tr style=\"text-align: right;\">\n",
       "      <th></th>\n",
       "      <th>index</th>\n",
       "      <th>genres</th>\n",
       "      <th>release_date</th>\n",
       "      <th>production_budget</th>\n",
       "      <th>worldwide_gross</th>\n",
       "      <th>worldwide_net</th>\n",
       "      <th>studio</th>\n",
       "      <th>primary_name</th>\n",
       "    </tr>\n",
       "  </thead>\n",
       "  <tbody>\n",
       "    <tr>\n",
       "      <th>0</th>\n",
       "      <td>Kick-Ass 2</td>\n",
       "      <td>Action</td>\n",
       "      <td>2013-08-16</td>\n",
       "      <td>28000000</td>\n",
       "      <td>63129909</td>\n",
       "      <td>35129909</td>\n",
       "      <td>Uni.</td>\n",
       "      <td>Brad Pitt</td>\n",
       "    </tr>\n",
       "    <tr>\n",
       "      <th>1</th>\n",
       "      <td>The Dark Tower</td>\n",
       "      <td>Action</td>\n",
       "      <td>2017-08-04</td>\n",
       "      <td>60000000</td>\n",
       "      <td>113461527</td>\n",
       "      <td>53461527</td>\n",
       "      <td>Sony</td>\n",
       "      <td>Ron Howard</td>\n",
       "    </tr>\n",
       "    <tr>\n",
       "      <th>2</th>\n",
       "      <td>Rogue One: A Star Wars Story</td>\n",
       "      <td>Action</td>\n",
       "      <td>2016-12-16</td>\n",
       "      <td>200000000</td>\n",
       "      <td>1049102856</td>\n",
       "      <td>849102856</td>\n",
       "      <td>BV</td>\n",
       "      <td>George Lucas</td>\n",
       "    </tr>\n",
       "    <tr>\n",
       "      <th>3</th>\n",
       "      <td>The Karate Kid</td>\n",
       "      <td>Action</td>\n",
       "      <td>2010-06-11</td>\n",
       "      <td>40000000</td>\n",
       "      <td>351774938</td>\n",
       "      <td>311774938</td>\n",
       "      <td>Sony</td>\n",
       "      <td>Will Smith</td>\n",
       "    </tr>\n",
       "    <tr>\n",
       "      <th>4</th>\n",
       "      <td>Silver Linings Playbook</td>\n",
       "      <td>Comedy</td>\n",
       "      <td>2012-11-16</td>\n",
       "      <td>21000000</td>\n",
       "      <td>236412453</td>\n",
       "      <td>215412453</td>\n",
       "      <td>Wein.</td>\n",
       "      <td>Danny Elfman</td>\n",
       "    </tr>\n",
       "  </tbody>\n",
       "</table>\n",
       "</div>"
      ],
      "text/plain": [
       "                          index  genres release_date  production_budget  \\\n",
       "0                    Kick-Ass 2  Action   2013-08-16           28000000   \n",
       "1                The Dark Tower  Action   2017-08-04           60000000   \n",
       "2  Rogue One: A Star Wars Story  Action   2016-12-16          200000000   \n",
       "3                The Karate Kid  Action   2010-06-11           40000000   \n",
       "4       Silver Linings Playbook  Comedy   2012-11-16           21000000   \n",
       "\n",
       "   worldwide_gross  worldwide_net studio  primary_name  \n",
       "0         63129909       35129909   Uni.     Brad Pitt  \n",
       "1        113461527       53461527   Sony    Ron Howard  \n",
       "2       1049102856      849102856     BV  George Lucas  \n",
       "3        351774938      311774938   Sony    Will Smith  \n",
       "4        236412453      215412453  Wein.  Danny Elfman  "
      ]
     },
     "execution_count": 138,
     "metadata": {},
     "output_type": "execute_result"
    }
   ],
   "source": [
    "budget_director_df.head()"
   ]
  },
  {
   "cell_type": "code",
   "execution_count": 139,
   "metadata": {
    "ExecuteTime": {
     "end_time": "2022-02-11T15:49:32.418984Z",
     "start_time": "2022-02-11T15:49:32.406021Z"
    }
   },
   "outputs": [
    {
     "data": {
      "text/plain": [
       "False    919\n",
       "Name: index, dtype: int64"
      ]
     },
     "execution_count": 139,
     "metadata": {},
     "output_type": "execute_result"
    }
   ],
   "source": [
    "budget_director_df['index'].duplicated().value_counts()"
   ]
  },
  {
   "cell_type": "code",
   "execution_count": 140,
   "metadata": {
    "ExecuteTime": {
     "end_time": "2022-02-11T15:49:33.051244Z",
     "start_time": "2022-02-11T15:49:33.022286Z"
    }
   },
   "outputs": [
    {
     "data": {
      "text/html": [
       "<div>\n",
       "<style scoped>\n",
       "    .dataframe tbody tr th:only-of-type {\n",
       "        vertical-align: middle;\n",
       "    }\n",
       "\n",
       "    .dataframe tbody tr th {\n",
       "        vertical-align: top;\n",
       "    }\n",
       "\n",
       "    .dataframe thead th {\n",
       "        text-align: right;\n",
       "    }\n",
       "</style>\n",
       "<table border=\"1\" class=\"dataframe\">\n",
       "  <thead>\n",
       "    <tr style=\"text-align: right;\">\n",
       "      <th></th>\n",
       "      <th>index</th>\n",
       "      <th>genres</th>\n",
       "      <th>release_date</th>\n",
       "      <th>production_budget</th>\n",
       "      <th>worldwide_gross</th>\n",
       "      <th>worldwide_net</th>\n",
       "      <th>studio</th>\n",
       "      <th>primary_name</th>\n",
       "    </tr>\n",
       "  </thead>\n",
       "  <tbody>\n",
       "    <tr>\n",
       "      <th>373</th>\n",
       "      <td>Avengers: Infinity War</td>\n",
       "      <td>Action</td>\n",
       "      <td>2018-04-27</td>\n",
       "      <td>300000000</td>\n",
       "      <td>2048134200</td>\n",
       "      <td>1748134200</td>\n",
       "      <td>BV</td>\n",
       "      <td>Jack Kirby</td>\n",
       "    </tr>\n",
       "    <tr>\n",
       "      <th>213</th>\n",
       "      <td>Jurassic World</td>\n",
       "      <td>Action</td>\n",
       "      <td>2015-06-12</td>\n",
       "      <td>215000000</td>\n",
       "      <td>1648854864</td>\n",
       "      <td>1433854864</td>\n",
       "      <td>Uni.</td>\n",
       "      <td>Patrick Crowley</td>\n",
       "    </tr>\n",
       "    <tr>\n",
       "      <th>62</th>\n",
       "      <td>Furious 7</td>\n",
       "      <td>Action</td>\n",
       "      <td>2015-04-03</td>\n",
       "      <td>190000000</td>\n",
       "      <td>1518722794</td>\n",
       "      <td>1328722794</td>\n",
       "      <td>Uni.</td>\n",
       "      <td>Brian Tyler</td>\n",
       "    </tr>\n",
       "    <tr>\n",
       "      <th>852</th>\n",
       "      <td>Black Panther</td>\n",
       "      <td>Action</td>\n",
       "      <td>2018-02-16</td>\n",
       "      <td>200000000</td>\n",
       "      <td>1348258224</td>\n",
       "      <td>1148258224</td>\n",
       "      <td>BV</td>\n",
       "      <td>Ludwig Göransson</td>\n",
       "    </tr>\n",
       "    <tr>\n",
       "      <th>214</th>\n",
       "      <td>Jurassic World: Fallen Kingdom</td>\n",
       "      <td>Action</td>\n",
       "      <td>2018-06-22</td>\n",
       "      <td>170000000</td>\n",
       "      <td>1305772799</td>\n",
       "      <td>1135772799</td>\n",
       "      <td>Uni.</td>\n",
       "      <td>Patrick Crowley</td>\n",
       "    </tr>\n",
       "    <tr>\n",
       "      <th>...</th>\n",
       "      <td>...</td>\n",
       "      <td>...</td>\n",
       "      <td>...</td>\n",
       "      <td>...</td>\n",
       "      <td>...</td>\n",
       "      <td>...</td>\n",
       "      <td>...</td>\n",
       "      <td>...</td>\n",
       "    </tr>\n",
       "    <tr>\n",
       "      <th>834</th>\n",
       "      <td>Palo Alto</td>\n",
       "      <td>Drama</td>\n",
       "      <td>2014-05-09</td>\n",
       "      <td>1000000</td>\n",
       "      <td>1156309</td>\n",
       "      <td>156309</td>\n",
       "      <td>Trib.</td>\n",
       "      <td>Blood Orange</td>\n",
       "    </tr>\n",
       "    <tr>\n",
       "      <th>640</th>\n",
       "      <td>Locke</td>\n",
       "      <td>Drama</td>\n",
       "      <td>2014-04-25</td>\n",
       "      <td>2000000</td>\n",
       "      <td>2088390</td>\n",
       "      <td>88390</td>\n",
       "      <td>A24</td>\n",
       "      <td>Justine Wright</td>\n",
       "    </tr>\n",
       "    <tr>\n",
       "      <th>195</th>\n",
       "      <td>Circumstance</td>\n",
       "      <td>Drama</td>\n",
       "      <td>2011-08-26</td>\n",
       "      <td>900000</td>\n",
       "      <td>958978</td>\n",
       "      <td>58978</td>\n",
       "      <td>RAtt.</td>\n",
       "      <td>Andrea Chignoli</td>\n",
       "    </tr>\n",
       "    <tr>\n",
       "      <th>366</th>\n",
       "      <td>Hugo</td>\n",
       "      <td>Adventure</td>\n",
       "      <td>2011-11-23</td>\n",
       "      <td>180000000</td>\n",
       "      <td>180047784</td>\n",
       "      <td>47784</td>\n",
       "      <td>Par.</td>\n",
       "      <td>Graham King</td>\n",
       "    </tr>\n",
       "    <tr>\n",
       "      <th>432</th>\n",
       "      <td>Stoker</td>\n",
       "      <td>Drama</td>\n",
       "      <td>2013-03-01</td>\n",
       "      <td>12000000</td>\n",
       "      <td>12034913</td>\n",
       "      <td>34913</td>\n",
       "      <td>FoxS</td>\n",
       "      <td>Clint Mansell</td>\n",
       "    </tr>\n",
       "  </tbody>\n",
       "</table>\n",
       "<p>919 rows × 8 columns</p>\n",
       "</div>"
      ],
      "text/plain": [
       "                              index     genres release_date  \\\n",
       "373          Avengers: Infinity War     Action   2018-04-27   \n",
       "213                  Jurassic World     Action   2015-06-12   \n",
       "62                        Furious 7     Action   2015-04-03   \n",
       "852                   Black Panther     Action   2018-02-16   \n",
       "214  Jurassic World: Fallen Kingdom     Action   2018-06-22   \n",
       "..                              ...        ...          ...   \n",
       "834                       Palo Alto      Drama   2014-05-09   \n",
       "640                           Locke      Drama   2014-04-25   \n",
       "195                    Circumstance      Drama   2011-08-26   \n",
       "366                            Hugo  Adventure   2011-11-23   \n",
       "432                          Stoker      Drama   2013-03-01   \n",
       "\n",
       "     production_budget  worldwide_gross  worldwide_net studio  \\\n",
       "373          300000000       2048134200     1748134200     BV   \n",
       "213          215000000       1648854864     1433854864   Uni.   \n",
       "62           190000000       1518722794     1328722794   Uni.   \n",
       "852          200000000       1348258224     1148258224     BV   \n",
       "214          170000000       1305772799     1135772799   Uni.   \n",
       "..                 ...              ...            ...    ...   \n",
       "834            1000000          1156309         156309  Trib.   \n",
       "640            2000000          2088390          88390    A24   \n",
       "195             900000           958978          58978  RAtt.   \n",
       "366          180000000        180047784          47784   Par.   \n",
       "432           12000000         12034913          34913   FoxS   \n",
       "\n",
       "         primary_name  \n",
       "373        Jack Kirby  \n",
       "213   Patrick Crowley  \n",
       "62        Brian Tyler  \n",
       "852  Ludwig Göransson  \n",
       "214   Patrick Crowley  \n",
       "..                ...  \n",
       "834      Blood Orange  \n",
       "640    Justine Wright  \n",
       "195   Andrea Chignoli  \n",
       "366       Graham King  \n",
       "432     Clint Mansell  \n",
       "\n",
       "[919 rows x 8 columns]"
      ]
     },
     "execution_count": 140,
     "metadata": {},
     "output_type": "execute_result"
    }
   ],
   "source": [
    "budget_director_df.sort_values(by='worldwide_net', ascending=False)"
   ]
  },
  {
   "cell_type": "code",
   "execution_count": 141,
   "metadata": {
    "ExecuteTime": {
     "end_time": "2022-02-11T15:49:33.694272Z",
     "start_time": "2022-02-11T15:49:33.666349Z"
    }
   },
   "outputs": [
    {
     "data": {
      "text/html": [
       "<div>\n",
       "<style scoped>\n",
       "    .dataframe tbody tr th:only-of-type {\n",
       "        vertical-align: middle;\n",
       "    }\n",
       "\n",
       "    .dataframe tbody tr th {\n",
       "        vertical-align: top;\n",
       "    }\n",
       "\n",
       "    .dataframe thead th {\n",
       "        text-align: right;\n",
       "    }\n",
       "</style>\n",
       "<table border=\"1\" class=\"dataframe\">\n",
       "  <thead>\n",
       "    <tr style=\"text-align: right;\">\n",
       "      <th></th>\n",
       "      <th>index</th>\n",
       "      <th>genres</th>\n",
       "      <th>production_budget</th>\n",
       "      <th>worldwide_gross</th>\n",
       "      <th>worldwide_net</th>\n",
       "      <th>studio</th>\n",
       "      <th>primary_name</th>\n",
       "    </tr>\n",
       "  </thead>\n",
       "  <tbody>\n",
       "    <tr>\n",
       "      <th>0</th>\n",
       "      <td>Kick-Ass 2</td>\n",
       "      <td>Action</td>\n",
       "      <td>28000000</td>\n",
       "      <td>63129909</td>\n",
       "      <td>35129909</td>\n",
       "      <td>Uni.</td>\n",
       "      <td>Brad Pitt</td>\n",
       "    </tr>\n",
       "    <tr>\n",
       "      <th>1</th>\n",
       "      <td>The Dark Tower</td>\n",
       "      <td>Action</td>\n",
       "      <td>60000000</td>\n",
       "      <td>113461527</td>\n",
       "      <td>53461527</td>\n",
       "      <td>Sony</td>\n",
       "      <td>Ron Howard</td>\n",
       "    </tr>\n",
       "    <tr>\n",
       "      <th>2</th>\n",
       "      <td>Rogue One: A Star Wars Story</td>\n",
       "      <td>Action</td>\n",
       "      <td>200000000</td>\n",
       "      <td>1049102856</td>\n",
       "      <td>849102856</td>\n",
       "      <td>BV</td>\n",
       "      <td>George Lucas</td>\n",
       "    </tr>\n",
       "    <tr>\n",
       "      <th>3</th>\n",
       "      <td>The Karate Kid</td>\n",
       "      <td>Action</td>\n",
       "      <td>40000000</td>\n",
       "      <td>351774938</td>\n",
       "      <td>311774938</td>\n",
       "      <td>Sony</td>\n",
       "      <td>Will Smith</td>\n",
       "    </tr>\n",
       "    <tr>\n",
       "      <th>4</th>\n",
       "      <td>Silver Linings Playbook</td>\n",
       "      <td>Comedy</td>\n",
       "      <td>21000000</td>\n",
       "      <td>236412453</td>\n",
       "      <td>215412453</td>\n",
       "      <td>Wein.</td>\n",
       "      <td>Danny Elfman</td>\n",
       "    </tr>\n",
       "    <tr>\n",
       "      <th>...</th>\n",
       "      <td>...</td>\n",
       "      <td>...</td>\n",
       "      <td>...</td>\n",
       "      <td>...</td>\n",
       "      <td>...</td>\n",
       "      <td>...</td>\n",
       "      <td>...</td>\n",
       "    </tr>\n",
       "    <tr>\n",
       "      <th>914</th>\n",
       "      <td>Snatched</td>\n",
       "      <td>Drama</td>\n",
       "      <td>42000000</td>\n",
       "      <td>57852177</td>\n",
       "      <td>15852177</td>\n",
       "      <td>Fox</td>\n",
       "      <td>Swayde McCoy</td>\n",
       "    </tr>\n",
       "    <tr>\n",
       "      <th>915</th>\n",
       "      <td>Book Club</td>\n",
       "      <td>Documentary</td>\n",
       "      <td>10000000</td>\n",
       "      <td>91113683</td>\n",
       "      <td>81113683</td>\n",
       "      <td>Par.</td>\n",
       "      <td>Jeanne Walker</td>\n",
       "    </tr>\n",
       "    <tr>\n",
       "      <th>916</th>\n",
       "      <td>Trolls</td>\n",
       "      <td>Adventure</td>\n",
       "      <td>125000000</td>\n",
       "      <td>344150134</td>\n",
       "      <td>219150134</td>\n",
       "      <td>Fox</td>\n",
       "      <td>Thomas Dam</td>\n",
       "    </tr>\n",
       "    <tr>\n",
       "      <th>917</th>\n",
       "      <td>Unbroken</td>\n",
       "      <td>Drama</td>\n",
       "      <td>65000000</td>\n",
       "      <td>163527824</td>\n",
       "      <td>98527824</td>\n",
       "      <td>Uni.</td>\n",
       "      <td>Helen Enado Odigie</td>\n",
       "    </tr>\n",
       "    <tr>\n",
       "      <th>918</th>\n",
       "      <td>Tower Heist</td>\n",
       "      <td>Action</td>\n",
       "      <td>85000000</td>\n",
       "      <td>150422946</td>\n",
       "      <td>65422946</td>\n",
       "      <td>Uni.</td>\n",
       "      <td>Eric Ehrenhaus</td>\n",
       "    </tr>\n",
       "  </tbody>\n",
       "</table>\n",
       "<p>919 rows × 7 columns</p>\n",
       "</div>"
      ],
      "text/plain": [
       "                            index       genres  production_budget  \\\n",
       "0                      Kick-Ass 2       Action           28000000   \n",
       "1                  The Dark Tower       Action           60000000   \n",
       "2    Rogue One: A Star Wars Story       Action          200000000   \n",
       "3                  The Karate Kid       Action           40000000   \n",
       "4         Silver Linings Playbook       Comedy           21000000   \n",
       "..                            ...          ...                ...   \n",
       "914                      Snatched        Drama           42000000   \n",
       "915                     Book Club  Documentary           10000000   \n",
       "916                        Trolls    Adventure          125000000   \n",
       "917                      Unbroken        Drama           65000000   \n",
       "918                   Tower Heist       Action           85000000   \n",
       "\n",
       "     worldwide_gross  worldwide_net studio        primary_name  \n",
       "0           63129909       35129909   Uni.           Brad Pitt  \n",
       "1          113461527       53461527   Sony          Ron Howard  \n",
       "2         1049102856      849102856     BV        George Lucas  \n",
       "3          351774938      311774938   Sony          Will Smith  \n",
       "4          236412453      215412453  Wein.        Danny Elfman  \n",
       "..               ...            ...    ...                 ...  \n",
       "914         57852177       15852177    Fox        Swayde McCoy  \n",
       "915         91113683       81113683   Par.       Jeanne Walker  \n",
       "916        344150134      219150134    Fox          Thomas Dam  \n",
       "917        163527824       98527824   Uni.  Helen Enado Odigie  \n",
       "918        150422946       65422946   Uni.      Eric Ehrenhaus  \n",
       "\n",
       "[919 rows x 7 columns]"
      ]
     },
     "execution_count": 141,
     "metadata": {},
     "output_type": "execute_result"
    }
   ],
   "source": [
    "budget_director_df.drop('release_date', axis=1)"
   ]
  },
  {
   "cell_type": "code",
   "execution_count": 142,
   "metadata": {
    "ExecuteTime": {
     "end_time": "2022-02-11T15:49:34.294774Z",
     "start_time": "2022-02-11T15:49:34.280800Z"
    }
   },
   "outputs": [
    {
     "data": {
      "text/plain": [
       "False    741\n",
       "True     178\n",
       "Name: primary_name, dtype: int64"
      ]
     },
     "execution_count": 142,
     "metadata": {},
     "output_type": "execute_result"
    }
   ],
   "source": [
    "budget_director_df['primary_name'].duplicated().value_counts()"
   ]
  },
  {
   "cell_type": "code",
   "execution_count": 143,
   "metadata": {
    "ExecuteTime": {
     "end_time": "2022-02-11T15:49:34.911654Z",
     "start_time": "2022-02-11T15:49:34.899648Z"
    }
   },
   "outputs": [],
   "source": [
    "budget_director_df = budget_director_df.sort_values(by='worldwide_net', ascending=False)"
   ]
  },
  {
   "cell_type": "code",
   "execution_count": 144,
   "metadata": {
    "ExecuteTime": {
     "end_time": "2022-02-11T15:49:35.618641Z",
     "start_time": "2022-02-11T15:49:35.590185Z"
    }
   },
   "outputs": [
    {
     "data": {
      "text/html": [
       "<div>\n",
       "<style scoped>\n",
       "    .dataframe tbody tr th:only-of-type {\n",
       "        vertical-align: middle;\n",
       "    }\n",
       "\n",
       "    .dataframe tbody tr th {\n",
       "        vertical-align: top;\n",
       "    }\n",
       "\n",
       "    .dataframe thead th {\n",
       "        text-align: right;\n",
       "    }\n",
       "</style>\n",
       "<table border=\"1\" class=\"dataframe\">\n",
       "  <thead>\n",
       "    <tr style=\"text-align: right;\">\n",
       "      <th></th>\n",
       "      <th>index</th>\n",
       "      <th>genres</th>\n",
       "      <th>release_date</th>\n",
       "      <th>production_budget</th>\n",
       "      <th>worldwide_gross</th>\n",
       "      <th>worldwide_net</th>\n",
       "      <th>studio</th>\n",
       "      <th>primary_name</th>\n",
       "    </tr>\n",
       "  </thead>\n",
       "  <tbody>\n",
       "    <tr>\n",
       "      <th>373</th>\n",
       "      <td>Avengers: Infinity War</td>\n",
       "      <td>Action</td>\n",
       "      <td>2018-04-27</td>\n",
       "      <td>300000000</td>\n",
       "      <td>2048134200</td>\n",
       "      <td>1748134200</td>\n",
       "      <td>BV</td>\n",
       "      <td>Jack Kirby</td>\n",
       "    </tr>\n",
       "    <tr>\n",
       "      <th>213</th>\n",
       "      <td>Jurassic World</td>\n",
       "      <td>Action</td>\n",
       "      <td>2015-06-12</td>\n",
       "      <td>215000000</td>\n",
       "      <td>1648854864</td>\n",
       "      <td>1433854864</td>\n",
       "      <td>Uni.</td>\n",
       "      <td>Patrick Crowley</td>\n",
       "    </tr>\n",
       "    <tr>\n",
       "      <th>62</th>\n",
       "      <td>Furious 7</td>\n",
       "      <td>Action</td>\n",
       "      <td>2015-04-03</td>\n",
       "      <td>190000000</td>\n",
       "      <td>1518722794</td>\n",
       "      <td>1328722794</td>\n",
       "      <td>Uni.</td>\n",
       "      <td>Brian Tyler</td>\n",
       "    </tr>\n",
       "    <tr>\n",
       "      <th>852</th>\n",
       "      <td>Black Panther</td>\n",
       "      <td>Action</td>\n",
       "      <td>2018-02-16</td>\n",
       "      <td>200000000</td>\n",
       "      <td>1348258224</td>\n",
       "      <td>1148258224</td>\n",
       "      <td>BV</td>\n",
       "      <td>Ludwig Göransson</td>\n",
       "    </tr>\n",
       "    <tr>\n",
       "      <th>214</th>\n",
       "      <td>Jurassic World: Fallen Kingdom</td>\n",
       "      <td>Action</td>\n",
       "      <td>2018-06-22</td>\n",
       "      <td>170000000</td>\n",
       "      <td>1305772799</td>\n",
       "      <td>1135772799</td>\n",
       "      <td>Uni.</td>\n",
       "      <td>Patrick Crowley</td>\n",
       "    </tr>\n",
       "    <tr>\n",
       "      <th>59</th>\n",
       "      <td>Frozen</td>\n",
       "      <td>Adventure</td>\n",
       "      <td>2013-11-22</td>\n",
       "      <td>150000000</td>\n",
       "      <td>1272469910</td>\n",
       "      <td>1122469910</td>\n",
       "      <td>BV</td>\n",
       "      <td>Ed Marx</td>\n",
       "    </tr>\n",
       "    <tr>\n",
       "      <th>749</th>\n",
       "      <td>Minions</td>\n",
       "      <td>Adventure</td>\n",
       "      <td>2015-07-10</td>\n",
       "      <td>74000000</td>\n",
       "      <td>1160336173</td>\n",
       "      <td>1086336173</td>\n",
       "      <td>Uni.</td>\n",
       "      <td>Claire Dodgson</td>\n",
       "    </tr>\n",
       "    <tr>\n",
       "      <th>261</th>\n",
       "      <td>Avengers: Age of Ultron</td>\n",
       "      <td>Action</td>\n",
       "      <td>2015-05-01</td>\n",
       "      <td>330600000</td>\n",
       "      <td>1403013963</td>\n",
       "      <td>1072413963</td>\n",
       "      <td>BV</td>\n",
       "      <td>Kevin Feige</td>\n",
       "    </tr>\n",
       "    <tr>\n",
       "      <th>758</th>\n",
       "      <td>Incredibles 2</td>\n",
       "      <td>Action</td>\n",
       "      <td>2018-06-15</td>\n",
       "      <td>200000000</td>\n",
       "      <td>1242520711</td>\n",
       "      <td>1042520711</td>\n",
       "      <td>BV</td>\n",
       "      <td>Erik Smitt</td>\n",
       "    </tr>\n",
       "    <tr>\n",
       "      <th>370</th>\n",
       "      <td>Iron Man 3</td>\n",
       "      <td>Action</td>\n",
       "      <td>2013-05-03</td>\n",
       "      <td>200000000</td>\n",
       "      <td>1215392272</td>\n",
       "      <td>1015392272</td>\n",
       "      <td>BV</td>\n",
       "      <td>Jack Kirby</td>\n",
       "    </tr>\n",
       "  </tbody>\n",
       "</table>\n",
       "</div>"
      ],
      "text/plain": [
       "                              index     genres release_date  \\\n",
       "373          Avengers: Infinity War     Action   2018-04-27   \n",
       "213                  Jurassic World     Action   2015-06-12   \n",
       "62                        Furious 7     Action   2015-04-03   \n",
       "852                   Black Panther     Action   2018-02-16   \n",
       "214  Jurassic World: Fallen Kingdom     Action   2018-06-22   \n",
       "59                           Frozen  Adventure   2013-11-22   \n",
       "749                         Minions  Adventure   2015-07-10   \n",
       "261         Avengers: Age of Ultron     Action   2015-05-01   \n",
       "758                   Incredibles 2     Action   2018-06-15   \n",
       "370                      Iron Man 3     Action   2013-05-03   \n",
       "\n",
       "     production_budget  worldwide_gross  worldwide_net studio  \\\n",
       "373          300000000       2048134200     1748134200     BV   \n",
       "213          215000000       1648854864     1433854864   Uni.   \n",
       "62           190000000       1518722794     1328722794   Uni.   \n",
       "852          200000000       1348258224     1148258224     BV   \n",
       "214          170000000       1305772799     1135772799   Uni.   \n",
       "59           150000000       1272469910     1122469910     BV   \n",
       "749           74000000       1160336173     1086336173   Uni.   \n",
       "261          330600000       1403013963     1072413963     BV   \n",
       "758          200000000       1242520711     1042520711     BV   \n",
       "370          200000000       1215392272     1015392272     BV   \n",
       "\n",
       "         primary_name  \n",
       "373        Jack Kirby  \n",
       "213   Patrick Crowley  \n",
       "62        Brian Tyler  \n",
       "852  Ludwig Göransson  \n",
       "214   Patrick Crowley  \n",
       "59            Ed Marx  \n",
       "749    Claire Dodgson  \n",
       "261       Kevin Feige  \n",
       "758        Erik Smitt  \n",
       "370        Jack Kirby  "
      ]
     },
     "execution_count": 144,
     "metadata": {},
     "output_type": "execute_result"
    }
   ],
   "source": [
    "budget_director_df.head(10)"
   ]
  },
  {
   "cell_type": "code",
   "execution_count": 145,
   "metadata": {
    "ExecuteTime": {
     "end_time": "2022-02-11T15:49:36.248025Z",
     "start_time": "2022-02-11T15:49:36.234027Z"
    }
   },
   "outputs": [],
   "source": [
    "budget_director_df1 = budget_director_df.groupby(['primary_name']).agg('sum')"
   ]
  },
  {
   "cell_type": "code",
   "execution_count": 146,
   "metadata": {
    "ExecuteTime": {
     "end_time": "2022-02-11T15:49:36.895537Z",
     "start_time": "2022-02-11T15:49:36.866507Z"
    }
   },
   "outputs": [
    {
     "data": {
      "text/html": [
       "<div>\n",
       "<style scoped>\n",
       "    .dataframe tbody tr th:only-of-type {\n",
       "        vertical-align: middle;\n",
       "    }\n",
       "\n",
       "    .dataframe tbody tr th {\n",
       "        vertical-align: top;\n",
       "    }\n",
       "\n",
       "    .dataframe thead th {\n",
       "        text-align: right;\n",
       "    }\n",
       "</style>\n",
       "<table border=\"1\" class=\"dataframe\">\n",
       "  <thead>\n",
       "    <tr style=\"text-align: right;\">\n",
       "      <th></th>\n",
       "      <th>production_budget</th>\n",
       "      <th>worldwide_gross</th>\n",
       "      <th>worldwide_net</th>\n",
       "    </tr>\n",
       "    <tr>\n",
       "      <th>primary_name</th>\n",
       "      <th></th>\n",
       "      <th></th>\n",
       "      <th></th>\n",
       "    </tr>\n",
       "  </thead>\n",
       "  <tbody>\n",
       "    <tr>\n",
       "      <th>Jack Kirby</th>\n",
       "      <td>1090000000</td>\n",
       "      <td>5739154163</td>\n",
       "      <td>4649154163</td>\n",
       "    </tr>\n",
       "    <tr>\n",
       "      <th>Patrick Crowley</th>\n",
       "      <td>385000000</td>\n",
       "      <td>2954627663</td>\n",
       "      <td>2569627663</td>\n",
       "    </tr>\n",
       "    <tr>\n",
       "      <th>Brian Tyler</th>\n",
       "      <td>480000000</td>\n",
       "      <td>2908580226</td>\n",
       "      <td>2428580226</td>\n",
       "    </tr>\n",
       "    <tr>\n",
       "      <th>Don Murphy</th>\n",
       "      <td>507000000</td>\n",
       "      <td>2693025208</td>\n",
       "      <td>2186025208</td>\n",
       "    </tr>\n",
       "    <tr>\n",
       "      <th>Carolynne Cunningham</th>\n",
       "      <td>750000000</td>\n",
       "      <td>2922948044</td>\n",
       "      <td>2172948044</td>\n",
       "    </tr>\n",
       "    <tr>\n",
       "      <th>Stan Lee</th>\n",
       "      <td>708000000</td>\n",
       "      <td>2622541317</td>\n",
       "      <td>1914541317</td>\n",
       "    </tr>\n",
       "    <tr>\n",
       "      <th>Jon Kilik</th>\n",
       "      <td>415000000</td>\n",
       "      <td>2280429965</td>\n",
       "      <td>1865429965</td>\n",
       "    </tr>\n",
       "    <tr>\n",
       "      <th>Kevin Feige</th>\n",
       "      <td>635600000</td>\n",
       "      <td>2449988305</td>\n",
       "      <td>1814388305</td>\n",
       "    </tr>\n",
       "    <tr>\n",
       "      <th>Janet Healy</th>\n",
       "      <td>150000000</td>\n",
       "      <td>1921478284</td>\n",
       "      <td>1771478284</td>\n",
       "    </tr>\n",
       "    <tr>\n",
       "      <th>Randy Newman</th>\n",
       "      <td>400000000</td>\n",
       "      <td>1812467851</td>\n",
       "      <td>1412467851</td>\n",
       "    </tr>\n",
       "  </tbody>\n",
       "</table>\n",
       "</div>"
      ],
      "text/plain": [
       "                      production_budget  worldwide_gross  worldwide_net\n",
       "primary_name                                                           \n",
       "Jack Kirby                   1090000000       5739154163     4649154163\n",
       "Patrick Crowley               385000000       2954627663     2569627663\n",
       "Brian Tyler                   480000000       2908580226     2428580226\n",
       "Don Murphy                    507000000       2693025208     2186025208\n",
       "Carolynne Cunningham          750000000       2922948044     2172948044\n",
       "Stan Lee                      708000000       2622541317     1914541317\n",
       "Jon Kilik                     415000000       2280429965     1865429965\n",
       "Kevin Feige                   635600000       2449988305     1814388305\n",
       "Janet Healy                   150000000       1921478284     1771478284\n",
       "Randy Newman                  400000000       1812467851     1412467851"
      ]
     },
     "execution_count": 146,
     "metadata": {},
     "output_type": "execute_result"
    }
   ],
   "source": [
    "budget_director_df1 = budget_director_df1.sort_values('worldwide_net', ascending=False).head(10)\n",
    "budget_director_df1"
   ]
  },
  {
   "cell_type": "code",
   "execution_count": 147,
   "metadata": {
    "ExecuteTime": {
     "end_time": "2022-02-11T15:49:37.559494Z",
     "start_time": "2022-02-11T15:49:37.545499Z"
    }
   },
   "outputs": [],
   "source": [
    "font = {'family' : 'Arial',\n",
    "        'weight' : 'bold',\n",
    "        'size'   : 18}\n",
    "\n",
    "plt.rc('font', **font)"
   ]
  },
  {
   "cell_type": "code",
   "execution_count": 148,
   "metadata": {
    "ExecuteTime": {
     "end_time": "2022-02-11T15:49:38.452525Z",
     "start_time": "2022-02-11T15:49:38.162759Z"
    }
   },
   "outputs": [
    {
     "data": {
      "image/png": "[encoded data removed]",
      "text/plain": [
       "<Figure size 1080x576 with 1 Axes>"
      ]
     },
     "metadata": {
      "needs_background": "light"
     },
     "output_type": "display_data"
    }
   ],
   "source": [
    "plt.figure(figsize=(15,8))\n",
    "\n",
    "director = budget_director_df1.index\n",
    "budget_gross = budget_director_df1.production_budget\n",
    "ww_net = budget_director_df1.worldwide_net\n",
    "ww_gross = budget_director_df1.worldwide_gross\n",
    "\n",
    "plt.bar(range(len(director)), budget_gross, color='black')\n",
    "plt.bar(range(len(director)), ww_net, color='skyblue', bottom=budget_gross)\n",
    "plt.title('Top 10 Directors Gross Revenue', fontsize=25)\n",
    "plt.xlabel('Directors', fontsize=25)\n",
    "plt.ylabel('Worldwide Gross Revenue (Billions)', fontsize=25)\n",
    "plt.xticks(range(len(director)), director, rotation=35, horizontalalignment='right', fontsize=12)\n",
    "\n",
    "plt.legend(['Production Budget', 'Worldwide Net'])\n",
    "plt.show();"
   ]
  },
  {
   "cell_type": "code",
   "execution_count": 149,
   "metadata": {
    "ExecuteTime": {
     "end_time": "2022-02-11T15:49:39.082778Z",
     "start_time": "2022-02-11T15:49:39.070622Z"
    }
   },
   "outputs": [],
   "source": [
    "budget_director_df2 = budget_director_df1.reset_index()"
   ]
  },
  {
   "cell_type": "code",
   "execution_count": 150,
   "metadata": {
    "ExecuteTime": {
     "end_time": "2022-02-11T15:49:43.768711Z",
     "start_time": "2022-02-11T15:49:43.756743Z"
    }
   },
   "outputs": [
    {
     "data": {
      "text/html": [
       "<div>\n",
       "<style scoped>\n",
       "    .dataframe tbody tr th:only-of-type {\n",
       "        vertical-align: middle;\n",
       "    }\n",
       "\n",
       "    .dataframe tbody tr th {\n",
       "        vertical-align: top;\n",
       "    }\n",
       "\n",
       "    .dataframe thead th {\n",
       "        text-align: right;\n",
       "    }\n",
       "</style>\n",
       "<table border=\"1\" class=\"dataframe\">\n",
       "  <thead>\n",
       "    <tr style=\"text-align: right;\">\n",
       "      <th></th>\n",
       "      <th>primary_name</th>\n",
       "      <th>production_budget</th>\n",
       "      <th>worldwide_gross</th>\n",
       "      <th>worldwide_net</th>\n",
       "    </tr>\n",
       "  </thead>\n",
       "  <tbody>\n",
       "    <tr>\n",
       "      <th>0</th>\n",
       "      <td>Jack Kirby</td>\n",
       "      <td>1090000000</td>\n",
       "      <td>5739154163</td>\n",
       "      <td>4649154163</td>\n",
       "    </tr>\n",
       "    <tr>\n",
       "      <th>1</th>\n",
       "      <td>Patrick Crowley</td>\n",
       "      <td>385000000</td>\n",
       "      <td>2954627663</td>\n",
       "      <td>2569627663</td>\n",
       "    </tr>\n",
       "    <tr>\n",
       "      <th>2</th>\n",
       "      <td>Brian Tyler</td>\n",
       "      <td>480000000</td>\n",
       "      <td>2908580226</td>\n",
       "      <td>2428580226</td>\n",
       "    </tr>\n",
       "    <tr>\n",
       "      <th>3</th>\n",
       "      <td>Don Murphy</td>\n",
       "      <td>507000000</td>\n",
       "      <td>2693025208</td>\n",
       "      <td>2186025208</td>\n",
       "    </tr>\n",
       "    <tr>\n",
       "      <th>4</th>\n",
       "      <td>Carolynne Cunningham</td>\n",
       "      <td>750000000</td>\n",
       "      <td>2922948044</td>\n",
       "      <td>2172948044</td>\n",
       "    </tr>\n",
       "  </tbody>\n",
       "</table>\n",
       "</div>"
      ],
      "text/plain": [
       "           primary_name  production_budget  worldwide_gross  worldwide_net\n",
       "0            Jack Kirby         1090000000       5739154163     4649154163\n",
       "1       Patrick Crowley          385000000       2954627663     2569627663\n",
       "2           Brian Tyler          480000000       2908580226     2428580226\n",
       "3            Don Murphy          507000000       2693025208     2186025208\n",
       "4  Carolynne Cunningham          750000000       2922948044     2172948044"
      ]
     },
     "execution_count": 150,
     "metadata": {},
     "output_type": "execute_result"
    }
   ],
   "source": [
    "budget_director_df2.head()"
   ]
  },
  {
   "cell_type": "code",
   "execution_count": 151,
   "metadata": {
    "ExecuteTime": {
     "end_time": "2022-02-11T15:49:44.837009Z",
     "start_time": "2022-02-11T15:49:44.516145Z"
    }
   },
   "outputs": [
    {
     "data": {
      "image/png": "[encoded data removed]",
      "text/plain": [
       "<Figure size 1080x576 with 1 Axes>"
      ]
     },
     "metadata": {
      "needs_background": "light"
     },
     "output_type": "display_data"
    }
   ],
   "source": [
    "#Plot the above findings.\n",
    "plt.figure(figsize=(15,8))\n",
    "ax40 = sns.barplot(x=budget_director_df2['worldwide_net'], y=budget_director_df2['primary_name'], palette='GnBu_d')\n",
    "plt.xlabel('Net Profits', fontsize=12)\n",
    "plt.ylabel('Directors', fontsize=12)\n",
    "plt.title('Net Profits By Directors', fontsize=14)\n",
    "plt.savefig('fig06_NetDirector');"
   ]
  },
  {
   "cell_type": "markdown",
   "metadata": {
    "ExecuteTime": {
     "end_time": "2022-01-28T01:38:25.174343Z",
     "start_time": "2022-01-28T01:38:25.153370Z"
    }
   },
   "source": [
    "##### Question 4 Conclusions:\n",
    "\n",
    "Question #4: Which directors tend to add the most value? \n",
    "Recommendation #4: The top 10 directors that made the most profitable movies are listed. We recommend hiring a director from the list below. \n",
    "\n",
    "We recommend creating a movie hiring one of the top 10 most profitable directors"
   ]
  },
  {
   "cell_type": "markdown",
   "metadata": {},
   "source": [
    "## Data Modeling\n",
    "\n",
    "Each data frame has their own relevant data and in order to minimize the amount of deleted data, I found the data frames that were required and only removed missing or irrelevant data. I then created the final joint data frame by combining all of the data frames together. This assisted in the visualization and understanding of the film industry but also reduced the data to 1200 movies. \n"
   ]
  },
  {
   "cell_type": "markdown",
   "metadata": {},
   "source": [
    "## Conclusions\n",
    "While there are many other factors that contribute to the success of a movie, based on this analysis the following recommendations will result in a successful business venture for Microsoft’s new movie studio.\n",
    "1.\tRecommend that Microsoft should budget the production around $182,000,000.00\n",
    "2.\tBuena Vista and Universal have been dominating the box office recently. Recommend to consider these studios as competitors and analyze their work to find out what is a competitive advantage Microsoft can have.\n",
    "3.\tRecommend that Microsoft focus on the top 3 profitable movie genres which are Action, Adventure and Comedy.\n",
    "4.\tRecommend that Microsoft hires Jack Kirby or one of the top 10 profitable directors. \n",
    "\n",
    "Further Analysis – For future analysis, I would like to investigate the relationship of highly rated movies and the net profit revenues."
   ]
  }
 ],
 "metadata": {
  "kernelspec": {
   "display_name": "Python 3 (ipykernel)",
   "language": "python",
   "name": "python3"
  },
  "language_info": {
   "codemirror_mode": {
    "name": "ipython",
    "version": 3
   },
   "file_extension": ".py",
   "mimetype": "text/x-python",
   "name": "python",
   "nbconvert_exporter": "python",
   "pygments_lexer": "ipython3",
   "version": "3.9.7"
  },
  "toc": {
   "base_numbering": 1,
   "nav_menu": {},
   "number_sections": true,
   "sideBar": true,
   "skip_h1_title": false,
   "title_cell": "Table of Contents",
   "title_sidebar": "Contents",
   "toc_cell": false,
   "toc_position": {
    "height": "calc(100% - 180px)",
    "left": "10px",
    "top": "150px",
    "width": "165px"
   },
   "toc_section_display": true,
   "toc_window_display": false
  },
  "varInspector": {
   "cols": {
    "lenName": 16,
    "lenType": 16,
    "lenVar": 40
   },
   "kernels_config": {
    "python": {
     "delete_cmd_postfix": "",
     "delete_cmd_prefix": "del ",
     "library": "var_list.py",
     "varRefreshCmd": "print(var_dic_list())"
    },
    "r": {
     "delete_cmd_postfix": ") ",
     "delete_cmd_prefix": "rm(",
     "library": "var_list.r",
     "varRefreshCmd": "cat(var_dic_list()) "
    }
   },
   "types_to_exclude": [
    "module",
    "function",
    "builtin_function_or_method",
    "instance",
    "_Feature"
   ],
   "window_display": false
  }
 },
 "nbformat": 4,
 "nbformat_minor": 4
}
